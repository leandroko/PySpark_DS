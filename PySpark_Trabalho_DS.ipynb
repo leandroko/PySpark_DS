{
  "cells": [
    {
      "cell_type": "code",
      "execution_count": 2,
      "metadata": {
        "id": "Vw3cYObYtdMV"
      },
      "outputs": [],
      "source": [
        "import os\n",
        "os.environ[\"JAVA_HOME\"] = \"C:\\Program Files\\Java\\jdk-11.0.13\"\n",
        "os.environ[\"SPARK_HOME\"] = \"C:\\Spark\\spark-3.2.0-bin-hadoop3.2\"\n",
        "os.environ[\"HADOOP_HOME\"] = \"C:\\Spark\\spark-3.2.0-bin-hadoop3.2\"\n",
        "#os.environ[\"PYSPARK_PYTHON\"] = \"C:\\Users\\Liu\\anaconda3\\python.exe\""
      ]
    },
    {
      "cell_type": "code",
      "execution_count": 3,
      "metadata": {},
      "outputs": [
        {
          "name": "stdout",
          "output_type": "stream",
          "text": [
            "C:\\Spark\\spark-3.2.0-bin-hadoop3.2\n",
            "C:\\Program Files\\Java\\jdk-11.0.13\n",
            "C:\\Users\\Liu\\anaconda3\\envs\\PySpark_DS;C:\\Users\\Liu\\anaconda3\\envs\\PySpark_DS\\Library\\mingw-w64\\bin;C:\\Users\\Liu\\anaconda3\\envs\\PySpark_DS\\Library\\usr\\bin;C:\\Users\\Liu\\anaconda3\\envs\\PySpark_DS\\Library\\bin;C:\\Users\\Liu\\anaconda3\\envs\\PySpark_DS\\Scripts;C:\\Users\\Liu\\anaconda3\\envs\\PySpark_DS\\bin;C:\\Users\\Liu\\anaconda3\\condabin;C:\\Program Files\\Common Files\\Oracle\\Java\\javapath;C:\\Program Files (x86)\\Common Files\\Oracle\\Java\\javapath;C:\\Windows\\system32;C:\\Windows;C:\\Windows\\System32\\Wbem;C:\\Windows\\System32\\WindowsPowerShell\\v1.0;C:\\Windows\\System32\\OpenSSH;C:\\Program Files\\Microsoft VS Code\\bin;C:\\Program Files\\Git\\cmd;C:\\spark\\spark-3.1.2-bin-hadoop3.2\\bin;C:\\Program Files\\Java\\jre1.8.0_301\\bin;C:\\Program Files\\Java\\jdk-11.0.13;C:\\Program Files\\Microsoft SQL Server\\120\\Tools\\Binn;C:\\Program Files\\Common Files\\Autodesk Shared;C:\\Program Files\\Microsoft SQL Server\\Client SDK\\ODBC\\170\\Tools\\Binn;C:\\Program Files (x86)\\Microsoft SQL Server\\150\\Tools\\Binn;C:\\Program Files\\Microsoft SQL Server\\150\\Tools\\Binn;C:\\Program Files\\Microsoft SQL Server\\150\\DTS\\Binn;C:\\Program Files (x86)\\Microsoft SQL Server\\150\\DTS\\Binn;C:\\Program Files\\Azure Data Studio\\bin;C:\\Users\\Liu\\AppData\\Local\\Microsoft\\WindowsApps;.;C:\\Program Files\\Azure Data Studio\\bin\n"
          ]
        }
      ],
      "source": [
        "import os\n",
        "print(os.environ['SPARK_HOME'])\n",
        "print(os.environ['JAVA_HOME'])\n",
        "print(os.environ['PATH'])"
      ]
    },
    {
      "cell_type": "code",
      "execution_count": null,
      "metadata": {
        "id": "kiztV5OJtd70"
      },
      "outputs": [],
      "source": [
        "!pip install -q findspark"
      ]
    },
    {
      "cell_type": "code",
      "execution_count": 4,
      "metadata": {
        "id": "fmE89iMstf91"
      },
      "outputs": [],
      "source": [
        "import findspark\n",
        "findspark.init(\"C:\\Spark\\spark-3.2.0-bin-hadoop3.2\")\n"
      ]
    },
    {
      "cell_type": "code",
      "execution_count": 5,
      "metadata": {
        "colab": {
          "base_uri": "https://localhost:8080/",
          "height": 380
        },
        "id": "a_huBORVtiJl",
        "outputId": "730606e1-9397-41cb-fc7f-a273cc2d21b9"
      },
      "outputs": [],
      "source": [
        "from pyspark.sql import SparkSession\n",
        "from pyspark import SparkContext, SparkConf\n",
        "\n",
        "conf = SparkConf().set('spark.ui.port','4050')\n",
        "sc = SparkContext(conf=conf,appName=\"ExeApp\")\n",
        "#ss = SparkSession.builder.master('localhost[*]').getOrCreate()\n",
        "ss = SparkSession.builder.master('local[*]').getOrCreate()\n",
        "spark = ss"
      ]
    },
    {
      "cell_type": "markdown",
      "metadata": {},
      "source": [
        "## Trabalho\n",
        "\n",
        "Com os arquivos contidos em /Dados/ETrabalho descritos abaixo:\n",
        "\n",
        "* cities.csv\n",
        "    - id\n",
        "* lines.csv\n",
        "    - city_id\n",
        "* station_lines.csv\n",
        "    - line_id\n",
        "    - station_id\n",
        "* station.csv\n",
        "    - city_id\n",
        "\n",
        "#### Responder:\n",
        "* Qual país possui cidades?\n",
        "* Qual cidade possui linhas?\n",
        "* Quais são 10 linhas que passam por mais cidades?\n",
        "* Qual é o país que tem mais linhas?\n",
        "* A linha que tem mais estações em seu percurso?\n",
        "* Quais são as 10 cidades que possuem as linhas com mais estações?\n",
        "* Qual país são os mais presentes entre essas 10 cidades?\n",
        "* O país que tem a maior média de estações?\n",
        "\n"
      ]
    },
    {
      "cell_type": "code",
      "execution_count": 51,
      "metadata": {
        "id": "_1iDVJ-b-m5X"
      },
      "outputs": [],
      "source": [
        "from pyspark.sql import SQLContext\n",
        "from pyspark.sql.types import StructType, StructField, IntegerType, StringType, FloatType, DateType\n",
        "from pyspark.sql import functions as F\n",
        "sqlc = SQLContext(sc)"
      ]
    },
    {
      "cell_type": "code",
      "execution_count": 52,
      "metadata": {
        "id": "FHImTFAUjZEN"
      },
      "outputs": [],
      "source": [
        "schema = StructType([\n",
        "    StructField(\"id\", IntegerType(), True ),\n",
        "    StructField(\"name\", StringType(), True),\n",
        "    StructField(\"coords\", StringType(), True),\n",
        "    StructField(\"start_year\", IntegerType(), True ),\n",
        "    StructField(\"url_name\", StringType(), True),\n",
        "    StructField(\"country\", StringType(), True),\n",
        "    StructField(\"country_state\", StringType(), True)])\n",
        "\n",
        "df = sqlc.read.csv(\"Dados/Etrabalho/cities.csv\",schema, header=True)\n",
        "df.createOrReplaceTempView(\"cities\")"
      ]
    },
    {
      "cell_type": "code",
      "execution_count": 53,
      "metadata": {
        "id": "R_fiXga2kMPC"
      },
      "outputs": [],
      "source": [
        "schema2 = StructType([\n",
        "    StructField(\"id\", IntegerType(), True ),\n",
        "    StructField(\"city_id\", IntegerType(), True),\n",
        "    StructField(\"name\", StringType(), True),\n",
        "    StructField(\"url_name\", StringType(), True ),\n",
        "    StructField(\"color\", StringType(), True),\n",
        "    StructField(\"system_id\", IntegerType(), True),\n",
        "    StructField(\"transport_mode_id\", IntegerType(), True)])\n",
        "\n",
        "df2 = sqlc.read.csv(\"Dados/Etrabalho/lines.csv\", schema2, header=True)\n",
        "df2.createOrReplaceTempView(\"lines\")"
      ]
    },
    {
      "cell_type": "code",
      "execution_count": 54,
      "metadata": {
        "id": "VJygKvRumYUI"
      },
      "outputs": [],
      "source": [
        "schema3 = StructType([\n",
        "    StructField(\"id\", IntegerType(), True ),\n",
        "    StructField(\"name\", StringType(), True),\n",
        "    StructField(\"geometry\", StringType(), True),\n",
        "    StructField(\"buildstart\", IntegerType(), True ),\n",
        "    StructField(\"opening\", IntegerType(), True),\n",
        "    StructField(\"closure\", IntegerType(), True),\n",
        "    StructField(\"city_id\", IntegerType(), True)])\n",
        "\n",
        "df3 = sqlc.read.csv(\"Dados/Etrabalho/stations.csv\", schema3, header=True)\n",
        "df3.createOrReplaceTempView(\"stations\")"
      ]
    },
    {
      "cell_type": "code",
      "execution_count": 55,
      "metadata": {
        "id": "zBv3guA3mxyI"
      },
      "outputs": [],
      "source": [
        "schema4 = StructType([\n",
        "    StructField(\"id\", IntegerType(), True ),\n",
        "    StructField(\"station_id\", IntegerType(), True),\n",
        "    StructField(\"line_id\", IntegerType(), True),\n",
        "    StructField(\"city_id\", IntegerType(), True ),\n",
        "    StructField(\"created_at\", DateType(), True),\n",
        "    StructField(\"updated_at\", DateType(), True)])\n",
        "\n",
        "df4 = sqlc.read.csv(\"Dados/Etrabalho/station_lines.csv\", schema4, header=True)\n",
        "df4.createOrReplaceTempView(\"station_lines\")"
      ]
    },
    {
      "cell_type": "code",
      "execution_count": 56,
      "metadata": {
        "colab": {
          "base_uri": "https://localhost:8080/"
        },
        "id": "Hn7VDj-_pveD",
        "outputId": "54cb48a7-d72e-419f-bd37-44bca024a715"
      },
      "outputs": [
        {
          "name": "stdout",
          "output_type": "stream",
          "text": [
            "+-------------+--------+\n",
            "|      country|contagem|\n",
            "+-------------+--------+\n",
            "|United States|     115|\n",
            "|       France|      71|\n",
            "|       Canada|      14|\n",
            "|        Spain|       8|\n",
            "|      England|       8|\n",
            "|    Argentina|       6|\n",
            "|        China|       6|\n",
            "|    Australia|       6|\n",
            "|      Germany|       5|\n",
            "|        Italy|       5|\n",
            "|       Mexico|       5|\n",
            "|        Chile|       4|\n",
            "|       Brazil|       4|\n",
            "|        Japan|       4|\n",
            "|       Russia|       4|\n",
            "| South Africa|       3|\n",
            "|        India|       3|\n",
            "|     Scotland|       3|\n",
            "|      Austria|       3|\n",
            "|       Norway|       2|\n",
            "+-------------+--------+\n",
            "only showing top 20 rows\n",
            "\n"
          ]
        }
      ],
      "source": [
        "# Qual país possui cidades?\n",
        "ss.sql('select country, count(name) as contagem from cities \\\n",
        "        group by country \\\n",
        "        order by count(name) desc').show()"
      ]
    },
    {
      "cell_type": "code",
      "execution_count": 57,
      "metadata": {
        "colab": {
          "base_uri": "https://localhost:8080/"
        },
        "id": "67B9CTFgrPaW",
        "outputId": "ecc2f6f3-a1ba-4abd-b87d-50d027753b4a"
      },
      "outputs": [
        {
          "name": "stdout",
          "output_type": "stream",
          "text": [
            "+---+--------------+--------+\n",
            "| id|          name|contagem|\n",
            "+---+--------------+--------+\n",
            "|114|         Tokyo|     253|\n",
            "| 91|         Osaka|     112|\n",
            "| 95|         Paris|      75|\n",
            "|206|      New York|      70|\n",
            "|106|     São Paulo|      40|\n",
            "| 69|        London|      35|\n",
            "|  4|      Santiago|      34|\n",
            "|124|    Valparaíso|      31|\n",
            "| 77|     Melbourne|      31|\n",
            "| 82|        Munich|      29|\n",
            "|  1|  Buenos Aires|      28|\n",
            "| 15|       Beijing|      27|\n",
            "|139|        Boston|      27|\n",
            "|265|        Nantes|      26|\n",
            "|107|      Shanghai|      24|\n",
            "|102|Rio de Janeiro|      23|\n",
            "| 78|   Mexico City|      22|\n",
            "| 27|      Brussels|      22|\n",
            "| 14|     Barcelona|      19|\n",
            "| 79|         Milan|      18|\n",
            "+---+--------------+--------+\n",
            "only showing top 20 rows\n",
            "\n"
          ]
        }
      ],
      "source": [
        "# Qual cidade possui linhas?\n",
        "ss.sql('select c.id, c.name, count(l.name) as contagem \\\n",
        "        from lines as l \\\n",
        "        left join cities as c on c.id = l.city_id \\\n",
        "        group by c.id, c.name \\\n",
        "        order by count(l.name) desc').show()"
      ]
    },
    {
      "cell_type": "code",
      "execution_count": 58,
      "metadata": {
        "colab": {
          "base_uri": "https://localhost:8080/"
        },
        "id": "F-ktmho9sLl9",
        "outputId": "462df5f6-bad6-4bff-a477-4ff7665f441c"
      },
      "outputs": [
        {
          "name": "stdout",
          "output_type": "stream",
          "text": [
            "+----+--------------------+------+\n",
            "|  id|                name|cidade|\n",
            "+----+--------------------+------+\n",
            "| 275|Linha 6 • Laranja...|     1|\n",
            "| 850|         Barrie Line|     1|\n",
            "|  40|            Línea 4A|     1|\n",
            "|1481|    Kobe Kosoku Line|     1|\n",
            "| 506|        T 11 express|     1|\n",
            "| 687|      Northern Lines|     1|\n",
            "| 641|        Hondori Line|     1|\n",
            "| 736|Disneyland Resort...|     1|\n",
            "|1104|            del Bajo|     1|\n",
            "|1262|        Jamaica Line|     1|\n",
            "+----+--------------------+------+\n",
            "only showing top 10 rows\n",
            "\n"
          ]
        }
      ],
      "source": [
        "# Quais são 10 linhas que passam por mais cidades?\n",
        "ss.sql('select l.id, l.name, count(c.id) as cidade \\\n",
        "        from lines as l \\\n",
        "        left join cities as c on c.id = l.city_id \\\n",
        "        group by l.id, l.name \\\n",
        "        order by count(c.id) asc').show(10)"
      ]
    },
    {
      "cell_type": "code",
      "execution_count": 59,
      "metadata": {
        "colab": {
          "base_uri": "https://localhost:8080/"
        },
        "id": "ExrL6UB1svAN",
        "outputId": "63fe88c4-9327-486e-fd60-f9847068b4b0"
      },
      "outputs": [
        {
          "name": "stdout",
          "output_type": "stream",
          "text": [
            "+-------------+------+\n",
            "|      country|linhas|\n",
            "+-------------+------+\n",
            "|        Japan|   365|\n",
            "|       France|   202|\n",
            "|United States|   142|\n",
            "|        Chile|    70|\n",
            "|       Brazil|    65|\n",
            "|        China|    62|\n",
            "|        Spain|    50|\n",
            "|    Australia|    45|\n",
            "|      Germany|    40|\n",
            "|      England|    40|\n",
            "|        Italy|    32|\n",
            "|    Argentina|    28|\n",
            "|       Canada|    27|\n",
            "|       Mexico|    22|\n",
            "|      Belgium|    22|\n",
            "|      Austria|    20|\n",
            "|     Scotland|    20|\n",
            "|     Colombia|    16|\n",
            "|       Sweden|    12|\n",
            "|      Bolivia|    11|\n",
            "+-------------+------+\n",
            "only showing top 20 rows\n",
            "\n"
          ]
        }
      ],
      "source": [
        "# Qual é o país que tem mais linhas?\n",
        "\n",
        "ss.sql('select c.country, count(l.name) as linhas \\\n",
        "        from lines as l \\\n",
        "        left join cities as c on c.id = l.city_id \\\n",
        "        group by c.country \\\n",
        "        order by count(l.name) desc').show()"
      ]
    },
    {
      "cell_type": "code",
      "execution_count": 60,
      "metadata": {
        "colab": {
          "base_uri": "https://localhost:8080/"
        },
        "id": "66OYK9p9uJDu",
        "outputId": "3e301027-d3e8-45e7-d919-5dd15801fd1a"
      },
      "outputs": [
        {
          "name": "stdout",
          "output_type": "stream",
          "text": [
            "+----+--------------------+--------+\n",
            "|  id|                name|contagem|\n",
            "+----+--------------------+--------+\n",
            "| 658|                Roca|      95|\n",
            "| 639|               Mitre|      90|\n",
            "| 612|                   A|      87|\n",
            "| 171|        Southeastern|      86|\n",
            "| 938|                  17|      78|\n",
            "| 316|             Ligne 1|      75|\n",
            "| 613|                   B|      74|\n",
            "| 367|                 T 1|      72|\n",
            "| 946|                  19|      70|\n",
            "| 940|                  16|      66|\n",
            "|1103|               Norte|      66|\n",
            "| 305|             Linie 1|      62|\n",
            "| 950|                   A|      62|\n",
            "| 139|District Line - U...|      62|\n",
            "|1198|                   1|      60|\n",
            "| 590|                   1|      60|\n",
            "| 967|                   A|      59|\n",
            "| 317|             Ligne 2|      59|\n",
            "|1253|                   4|      59|\n",
            "| 172|            Southern|      58|\n",
            "+----+--------------------+--------+\n",
            "only showing top 20 rows\n",
            "\n"
          ]
        }
      ],
      "source": [
        "# A linha que tem mais estações em seu percurso?\n",
        "\n",
        "ss.sql('select l.id, l.name, count(distinct sl.station_id) as contagem \\\n",
        "        from station_lines as sl \\\n",
        "        left join lines as l on l.id = sl.line_id \\\n",
        "        left join stations as s on s.id = sl.station_id \\\n",
        "        group by l.id, l.name \\\n",
        "        order by count(distinct sl.station_id) desc \\\n",
        "        ').show()"
      ]
    },
    {
      "cell_type": "code",
      "execution_count": 61,
      "metadata": {
        "colab": {
          "base_uri": "https://localhost:8080/"
        },
        "id": "eh_Pao3Vz1F9",
        "outputId": "7b3d5c8a-410f-4ca4-c829-24ec5cb598e2"
      },
      "outputs": [
        {
          "name": "stdout",
          "output_type": "stream",
          "text": [
            "+------------+-------------+\n",
            "|        name|max(contagem)|\n",
            "+------------+-------------+\n",
            "|Buenos Aires|           95|\n",
            "|    Bordeaux|           87|\n",
            "|      London|           86|\n",
            "|      Munich|           78|\n",
            "|      Nantes|           75|\n",
            "|       Paris|           72|\n",
            "|       Tours|           62|\n",
            "|        Graz|           62|\n",
            "| Montpellier|           60|\n",
            "|   Innsbruck|           60|\n",
            "+------------+-------------+\n",
            "only showing top 10 rows\n",
            "\n"
          ]
        }
      ],
      "source": [
        "# Quais são as 10 cidades que possuem as linhas com mais estações? v1\n",
        "ss.sql('select  c.name, max(t0.contagem)\\\n",
        "        from lines as l \\\n",
        "        left join cities as c on c.id = l.city_id \\\n",
        "        left join (\\\n",
        "            select sl.line_id, count(distinct sl.station_id) as contagem \\\n",
        "            from station_lines as sl \\\n",
        "            group by sl.line_id) t0 on t0.line_id = l.id \\\n",
        "        group by c.name \\\n",
        "        order by max(t0.contagem) desc \\\n",
        "        ').show(10)"
      ]
    },
    {
      "cell_type": "code",
      "execution_count": 62,
      "metadata": {
        "colab": {
          "base_uri": "https://localhost:8080/"
        },
        "id": "u8WyXYauwh3z",
        "outputId": "fb6136b6-fae8-478e-d588-17bf524ac4ff"
      },
      "outputs": [
        {
          "name": "stdout",
          "output_type": "stream",
          "text": [
            "+------------+------------+--------+\n",
            "|        name|        name|contagem|\n",
            "+------------+------------+--------+\n",
            "|Buenos Aires|        Roca|      95|\n",
            "|Buenos Aires|       Mitre|      90|\n",
            "|    Bordeaux|           A|      87|\n",
            "|      London|Southeastern|      86|\n",
            "|      Munich|          17|      78|\n",
            "|    New York|   Main Line|      78|\n",
            "|      Nantes|     Ligne 1|      75|\n",
            "|    Bordeaux|           B|      74|\n",
            "|       Paris|         T 1|      72|\n",
            "|      Munich|          19|      70|\n",
            "+------------+------------+--------+\n",
            "only showing top 10 rows\n",
            "\n"
          ]
        }
      ],
      "source": [
        "# Quais são as 10 cidades que possuem as linhas com mais estações? v2\n",
        "\n",
        "ss.sql('select c.name, l.name, count(distinct station_id) as contagem \\\n",
        "        from station_lines as sl \\\n",
        "        left join lines as l on l.id = sl.line_id \\\n",
        "        left join stations as s on s.id = sl.station_id \\\n",
        "        left join cities as c on c.id = sl.city_id \\\n",
        "        left join (\\\n",
        "            select sl.line_id, count(distinct sl.station_id) as contagem \\\n",
        "            from station_lines as sl \\\n",
        "            group by sl.line_id) t0 on t0.line_id = sl.line_id \\\n",
        "        group by c.name, l.name \\\n",
        "        order by count(distinct station_id) desc \\\n",
        "        ').show(10)"
      ]
    },
    {
      "cell_type": "code",
      "execution_count": 63,
      "metadata": {
        "colab": {
          "base_uri": "https://localhost:8080/"
        },
        "id": "Ln7xfBnbx2yl",
        "outputId": "384d15c7-b7b5-4970-a585-5277fb1e3242"
      },
      "outputs": [
        {
          "name": "stdout",
          "output_type": "stream",
          "text": [
            "+---------+------------+\n",
            "|  country|        name|\n",
            "+---------+------------+\n",
            "|Argentina|Buenos Aires|\n",
            "|  Austria|        Graz|\n",
            "|  Austria|   Innsbruck|\n",
            "|  England|      London|\n",
            "|   France|    Bordeaux|\n",
            "|   France|      Nantes|\n",
            "|   France|       Paris|\n",
            "|   France|       Tours|\n",
            "|   France| Montpellier|\n",
            "|  Germany|      Munich|\n",
            "+---------+------------+\n",
            "\n"
          ]
        }
      ],
      "source": [
        "#Qual país são os mais presentes entre essas 10 cidades?\n",
        "\n",
        "ss.sql('select country, name from \\\n",
        "                (select c.country ,c.name, max(t0.contagem) \\\n",
        "                from lines as l \\\n",
        "                left join cities as c on c.id = l.city_id \\\n",
        "                left join (\\\n",
        "                    select sl.line_id, count(distinct sl.station_id) as contagem \\\n",
        "                    from station_lines as sl \\\n",
        "                    group by sl.line_id) t0 on t0.line_id = l.id \\\n",
        "                group by c.country, c.name \\\n",
        "                order by max(t0.contagem) desc \\\n",
        "                limit 10) \\\n",
        "        order by country asc \\\n",
        "        ').show()"
      ]
    },
    {
      "cell_type": "code",
      "execution_count": 64,
      "metadata": {
        "colab": {
          "base_uri": "https://localhost:8080/"
        },
        "id": "mvjLJoRF9g3B",
        "outputId": "5e96ca6e-055b-4135-ef38-822dbf301f09"
      },
      "outputs": [
        {
          "name": "stdout",
          "output_type": "stream",
          "text": [
            "+--------------+------+\n",
            "|       country| media|\n",
            "+--------------+------+\n",
            "|         Japan|4613.0|\n",
            "|        France|2763.0|\n",
            "| United States|2001.0|\n",
            "|       England| 943.0|\n",
            "|         China| 705.0|\n",
            "|     Argentina| 685.0|\n",
            "|          null| 618.0|\n",
            "|        Mexico| 456.0|\n",
            "|         Italy| 422.0|\n",
            "|       Germany| 385.0|\n",
            "|         Spain| 385.0|\n",
            "|        Brazil| 381.0|\n",
            "|         Chile| 306.0|\n",
            "|       Austria| 306.0|\n",
            "|        Canada| 218.0|\n",
            "|      Scotland| 157.0|\n",
            "|     Australia| 113.0|\n",
            "|       Hungary|  62.0|\n",
            "|      Portugal|  56.0|\n",
            "|Czech Republic|  46.0|\n",
            "+--------------+------+\n",
            "only showing top 20 rows\n",
            "\n"
          ]
        }
      ],
      "source": [
        "# O país que tem a maior média de estações?\n",
        "ss.sql('select country, avg(contagem) as media from \\\n",
        "                (select c.country, count(s.id) as contagem \\\n",
        "                from stations as s \\\n",
        "                left join cities as c on c.id = s.city_id \\\n",
        "                group by c.country) \\\n",
        "        group by country \\\n",
        "        order by avg(contagem) desc \\\n",
        "        ').show()"
      ]
    },
    {
      "cell_type": "markdown",
      "metadata": {
        "id": "tFCEo_6esNch"
      },
      "source": [
        "# SELECTS"
      ]
    },
    {
      "cell_type": "code",
      "execution_count": 65,
      "metadata": {
        "colab": {
          "base_uri": "https://localhost:8080/"
        },
        "id": "WcCREdQukdXM",
        "outputId": "ca7381ef-0c00-4fe9-fdb6-3834f4009008"
      },
      "outputs": [
        {
          "name": "stdout",
          "output_type": "stream",
          "text": [
            "+---+----------+--------------------+----------+----------+----------------+-------------+\n",
            "| id|      name|              coords|start_year|  url_name|         country|country_state|\n",
            "+---+----------+--------------------+----------+----------+----------------+-------------+\n",
            "|  5|  Aberdeen|  POINT(-2.15 57.15)|      2017|  aberdeen|        Scotland|         null|\n",
            "|  6|  Adelaide|POINT(138.6 -34.9...|      2017|  adelaide|       Australia|         null|\n",
            "|  7|   Algiers|POINT(3 36.83333333)|      2017|   algiers|         Algeria|         null|\n",
            "|  9|    Ankara|POINT(32.91666667...|      2017|    ankara|          Turkey|         null|\n",
            "| 16|     Belém|POINT(-48.4833333...|      2017|     belem|          Brazil|         null|\n",
            "| 10|  Asunción|POINT(-57.6666666...|      2017|  asuncion|        Paraguay|         null|\n",
            "| 11|    Athens|POINT(23.71666667...|      2017|    athens|          Greece|         null|\n",
            "| 12|  Auckland|POINT(174.75 -36....|      2017|  auckland|     New Zealand|         null|\n",
            "| 13|   Bangkok|  POINT(100.5 13.75)|      2017|   bangkok|        Thailand|         null|\n",
            "|211|    Ottawa|POINT(-75.7166666...|      2000|    ottawa|          Canada|         Ont.|\n",
            "| 17|   Belfast|POINT(-5.93333333...|      2017|   belfast|Northern Ireland|         null|\n",
            "| 18|  Belgrade|POINT(20.53333333...|      2017|  belgrade|          Serbia|         null|\n",
            "|273|St.-Brieuc|POINT(-2.78330326...|      2018|st.-brieuc|          France|         null|\n",
            "|274|   Poitier|POINT(0.333276529...|      2018|   poitier|          France|         null|\n",
            "|147|   Chicago|POINT(-87.6166666...|      1892|   chicago|   United States|         Ill.|\n",
            "|269|    Annecy|POINT(6.116670287...|      2018|    annecy|          France|         null|\n",
            "|270|    Roanne|POINT(4.066666218...|      2018|    roanne|          France|         null|\n",
            "|271|     Roura|POINT(-52.3300205...|      2018|     roura|          France|         null|\n",
            "|272| Sinnamary|POINT(-52.9599821...|      2018| sinnamary|          France|         null|\n",
            "|276|  Biarritz|POINT(-1.56159489...|      2018|  biarritz|          France|         null|\n",
            "+---+----------+--------------------+----------+----------+----------------+-------------+\n",
            "only showing top 20 rows\n",
            "\n"
          ]
        }
      ],
      "source": [
        "ss.sql('select * from cities').show()"
      ]
    },
    {
      "cell_type": "code",
      "execution_count": 66,
      "metadata": {
        "colab": {
          "base_uri": "https://localhost:8080/"
        },
        "id": "9loWRgerjczL",
        "outputId": "0041e071-7ff5-4229-9d87-ea7945e65762"
      },
      "outputs": [
        {
          "name": "stdout",
          "output_type": "stream",
          "text": [
            "+----+-------+--------------------+--------------------+-------+---------+-----------------+\n",
            "|  id|city_id|                name|            url_name|  color|system_id|transport_mode_id|\n",
            "+----+-------+--------------------+--------------------+-------+---------+-----------------+\n",
            "|  43|      4|             Línea 2|          43-linea-2|#ffbe2e|      267|                4|\n",
            "|  75|     34|Línea 3 Metro de ...|75-linea-3-metro-...|   #000|      119|             null|\n",
            "| 107|    126|             Línea 1|         107-linea-1|#434343|      249|             null|\n",
            "| 604|     74|          La navette|      604-la-navette|#009ab9|      346|             null|\n",
            "|  61|     66|  Línea 1 (Tramo 1A)|          61-linea-1|#49aa43|      250|             null|\n",
            "|1471|     91|  Tokaido Shinkansen|1471-tokaido-shin...|#0000ff|      551|                1|\n",
            "|   5|      1|                   A|                   a|#00b3da|      254|                4|\n",
            "| 168|    261|             Línea 1|         168-linea-1|#f58223|      256|             null|\n",
            "| 219|    110|                  14|        219-red-line|#d0021b|      257|                4|\n",
            "|  45|      4|             Línea 4|          45-linea-4|#292d91|      267|                4|\n",
            "|  40|      4|            Línea 4A|         40-linea-4a|#0099ff|      267|                4|\n",
            "|  46|      4|             Línea 5|          46-linea-5|#006633|      267|                4|\n",
            "|  60|      4|             Línea 6|          60-linea-6|#8e16a1|      267|                4|\n",
            "|  70|      4|       MetroTren Nos|      70-nos-express|#000000|      268|                3|\n",
            "| 223|    110|                  12|    223-nockebybanan|#385369|      476|                5|\n",
            "| 227|     79|                  M1|              227-m1|#ee2e24|       67|                4|\n",
            "| 217|      4|Ramal San Felipe ...|217-ramal-san-fel...|   #000|      276|                2|\n",
            "| 225|     79|                  M5|              225-m5|#b17aea|       67|                4|\n",
            "| 141|     21|    Troncal C - Suba|             141-g30|#f3d135|      253|             null|\n",
            "| 610|    118|                 22A|             610-22a|#4a90e2|      347|             null|\n",
            "+----+-------+--------------------+--------------------+-------+---------+-----------------+\n",
            "only showing top 20 rows\n",
            "\n"
          ]
        }
      ],
      "source": [
        "ss.sql('select * from lines').show()"
      ]
    },
    {
      "cell_type": "code",
      "execution_count": null,
      "metadata": {
        "colab": {
          "base_uri": "https://localhost:8080/"
        },
        "id": "CQ61Ub2yj5fR",
        "outputId": "93d87b20-1162-4806-c71d-b8502ea25a03"
      },
      "outputs": [
        {
          "name": "stdout",
          "output_type": "stream",
          "text": [
            "+----+--------------------+--------------------+----------+-------+-------+-------+\n",
            "|  id|                name|            geometry|buildstart|opening|closure|city_id|\n",
            "+----+--------------------+--------------------+----------+-------+-------+-------+\n",
            "|7694|    Keisei Tsudanuma|POINT(140.0248121...|      1921|   1921| 999999|    114|\n",
            "|6003|   Kossuth Lajos tér|POINT(19.04623765...|         0|      0| 999999|     29|\n",
            "|7732|       Saint-Charles|POINT(5.3801556 4...|      1973|   1977| 999999|     74|\n",
            "|7695|Keisei Makuhari-H...|POINT(140.0421467...|      1991|   1991| 999999|    114|\n",
            "|7726|           Chartreux|POINT(5.4014815 4...|      1973|   1977| 999999|     74|\n",
            "|7696|     Keisei Makuhari|POINT(140.0560770...|      1921|   1921| 999999|    114|\n",
            "|7719|            Malpassé|POINT(5.4165033 4...|      1973|   1977| 999999|     74|\n",
            "|7697|            Kemigawa|POINT(140.0663045...|      1921|   1921| 999999|    114|\n",
            "|   1|             Caseros|POINT(-58.3989075...|      2001|   2007|   null|      1|\n",
            "|7698|        Keisei Inage|POINT(140.0856074...|      1921|   1921| 999999|    114|\n",
            "|7699|           Midoridai|POINT(140.0975419...|      1923|   1923| 999999|    114|\n",
            "|7700|        Nishi-Nobuto|POINT(140.1027535...|      1922|   1922| 999999|    114|\n",
            "|7721|          Saint-Just|POINT(5.4064408 4...|      1973|   1977| 999999|     74|\n",
            "|7701|          Shin-Chiba|POINT(140.1084233...|      1923|   1923| 999999|    114|\n",
            "|7702|        Keisei Chiba|POINT(140.1141635...|      1967|   1967| 999999|    114|\n",
            "|7703|          Chiba-Chuo|POINT(140.1179092...|      1921|   1921| 999999|    114|\n",
            "|7722|           Chartreux|POINT(5.4014558 4...|      1973|   1977| 999999|     74|\n",
            "|7704|           Chigasaki|POINT(139.4073352...|      1921|   1921| 999999|    114|\n",
            "|7705|            Samukawa|POINT(139.3873697...|      1921|   1921| 999999|    114|\n",
            "|7748|        Louis Armand|POINT(5.4135481 4...|      null|   2010| 999999|     74|\n",
            "+----+--------------------+--------------------+----------+-------+-------+-------+\n",
            "only showing top 20 rows\n",
            "\n"
          ]
        }
      ],
      "source": [
        "ss.sql('select * from stations').show()"
      ]
    },
    {
      "cell_type": "code",
      "execution_count": null,
      "metadata": {
        "colab": {
          "base_uri": "https://localhost:8080/"
        },
        "id": "nKp0EB6EoXaW",
        "outputId": "abf698a7-1204-4a0a-b220-b50e9ed86379"
      },
      "outputs": [
        {
          "name": "stdout",
          "output_type": "stream",
          "text": [
            "+---+----------+-------+-------+----------+----------+\n",
            "| id|station_id|line_id|city_id|created_at|updated_at|\n",
            "+---+----------+-------+-------+----------+----------+\n",
            "| 47|      7754|    570|     74|2017-11-21|2017-11-21|\n",
            "| 48|      7771|    571|     74|2017-11-21|2017-11-21|\n",
            "| 49|      7764|    571|     74|2017-11-21|2017-11-21|\n",
            "| 50|      7763|    571|     74|2017-11-21|2017-11-21|\n",
            "| 51|      7729|    571|     74|2017-11-21|2017-11-21|\n",
            "| 52|      7772|    571|     74|2017-11-21|2017-11-21|\n",
            "| 53|      8523|    582|     70|2017-11-21|2017-11-21|\n",
            "| 54|      8525|    582|     70|2017-11-21|2017-11-21|\n",
            "| 55|        93|     10|      1|2017-11-21|2017-11-21|\n",
            "| 56|      6005|    442|    114|2017-11-21|2017-11-21|\n",
            "| 57|      6102|    495|    114|2017-11-21|2017-11-21|\n",
            "| 58|      6006|    439|    114|2017-11-21|2017-11-21|\n",
            "| 59|      6007|    442|    114|2017-11-21|2017-11-21|\n",
            "| 61|      6008|    442|    114|2017-11-21|2017-11-21|\n",
            "| 62|      6009|    439|    114|2017-11-21|2017-11-21|\n",
            "| 63|      6010|    442|    114|2017-11-21|2017-11-21|\n",
            "| 65|      6011|    442|    114|2017-11-21|2017-11-21|\n",
            "| 66|      6012|    439|    114|2017-11-21|2017-11-21|\n",
            "| 67|      6080|    537|    114|2017-11-21|2017-11-21|\n",
            "| 68|      6013|    442|    114|2017-11-21|2017-11-21|\n",
            "+---+----------+-------+-------+----------+----------+\n",
            "only showing top 20 rows\n",
            "\n"
          ]
        }
      ],
      "source": [
        "ss.sql('select * from station_lines').show()"
      ]
    }
  ],
  "metadata": {
    "colab": {
      "collapsed_sections": [],
      "name": "Trabalho AulaSpark-DS-Leandro-Rodrigo.ipynb",
      "provenance": []
    },
    "kernelspec": {
      "display_name": "Python 3",
      "name": "python3"
    },
    "language_info": {
      "codemirror_mode": {
        "name": "ipython",
        "version": 3
      },
      "file_extension": ".py",
      "mimetype": "text/x-python",
      "name": "python",
      "nbconvert_exporter": "python",
      "pygments_lexer": "ipython3",
      "version": "3.8.10"
    }
  },
  "nbformat": 4,
  "nbformat_minor": 0
}
