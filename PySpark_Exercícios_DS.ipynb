{
  "cells": [
    {
      "cell_type": "code",
      "execution_count": 2,
      "metadata": {
        "id": "Vw3cYObYtdMV"
      },
      "outputs": [],
      "source": [
        "import os\n",
        "os.environ[\"JAVA_HOME\"] = \"C:\\Program Files\\Java\\jdk-11.0.13\"\n",
        "os.environ[\"SPARK_HOME\"] = \"C:\\Spark\\spark-3.2.0-bin-hadoop3.2\"\n",
        "os.environ[\"HADOOP_HOME\"] = \"C:\\Spark\\spark-3.2.0-bin-hadoop3.2\"\n",
        "#os.environ[\"PYSPARK_PYTHON\"] = \"C:\\Users\\Liu\\anaconda3\\python.exe\""
      ]
    },
    {
      "cell_type": "code",
      "execution_count": 3,
      "metadata": {},
      "outputs": [
        {
          "name": "stdout",
          "output_type": "stream",
          "text": [
            "C:\\Spark\\spark-3.2.0-bin-hadoop3.2\n",
            "C:\\Program Files\\Java\\jdk-11.0.13\n",
            "C:\\Users\\Liu\\anaconda3\\envs\\PySpark_DS;C:\\Users\\Liu\\anaconda3\\envs\\PySpark_DS\\Library\\mingw-w64\\bin;C:\\Users\\Liu\\anaconda3\\envs\\PySpark_DS\\Library\\usr\\bin;C:\\Users\\Liu\\anaconda3\\envs\\PySpark_DS\\Library\\bin;C:\\Users\\Liu\\anaconda3\\envs\\PySpark_DS\\Scripts;C:\\Users\\Liu\\anaconda3\\envs\\PySpark_DS\\bin;C:\\Users\\Liu\\anaconda3\\condabin;C:\\Program Files\\Common Files\\Oracle\\Java\\javapath;C:\\Program Files (x86)\\Common Files\\Oracle\\Java\\javapath;C:\\Windows\\system32;C:\\Windows;C:\\Windows\\System32\\Wbem;C:\\Windows\\System32\\WindowsPowerShell\\v1.0;C:\\Windows\\System32\\OpenSSH;C:\\Program Files\\Microsoft VS Code\\bin;C:\\Program Files\\Git\\cmd;C:\\spark\\spark-3.1.2-bin-hadoop3.2\\bin;C:\\Program Files\\Java\\jre1.8.0_301\\bin;C:\\Program Files\\Java\\jdk-11.0.13;C:\\Program Files\\Microsoft SQL Server\\120\\Tools\\Binn;C:\\Program Files\\Common Files\\Autodesk Shared;C:\\Program Files\\Microsoft SQL Server\\Client SDK\\ODBC\\170\\Tools\\Binn;C:\\Program Files (x86)\\Microsoft SQL Server\\150\\Tools\\Binn;C:\\Program Files\\Microsoft SQL Server\\150\\Tools\\Binn;C:\\Program Files\\Microsoft SQL Server\\150\\DTS\\Binn;C:\\Program Files (x86)\\Microsoft SQL Server\\150\\DTS\\Binn;C:\\Program Files\\Azure Data Studio\\bin;C:\\Users\\Liu\\AppData\\Local\\Microsoft\\WindowsApps;.;C:\\Program Files\\Azure Data Studio\\bin\n"
          ]
        }
      ],
      "source": [
        "import os\n",
        "print(os.environ['SPARK_HOME'])\n",
        "print(os.environ['JAVA_HOME'])\n",
        "print(os.environ['PATH'])"
      ]
    },
    {
      "cell_type": "code",
      "execution_count": null,
      "metadata": {
        "id": "kiztV5OJtd70"
      },
      "outputs": [],
      "source": [
        "!pip install -q findspark"
      ]
    },
    {
      "cell_type": "code",
      "execution_count": 4,
      "metadata": {
        "id": "fmE89iMstf91"
      },
      "outputs": [],
      "source": [
        "import findspark\n",
        "findspark.init(\"C:\\Spark\\spark-3.2.0-bin-hadoop3.2\")\n"
      ]
    },
    {
      "cell_type": "code",
      "execution_count": 5,
      "metadata": {
        "colab": {
          "base_uri": "https://localhost:8080/",
          "height": 380
        },
        "id": "a_huBORVtiJl",
        "outputId": "730606e1-9397-41cb-fc7f-a273cc2d21b9"
      },
      "outputs": [],
      "source": [
        "from pyspark.sql import SparkSession\n",
        "from pyspark import SparkContext, SparkConf\n",
        "\n",
        "conf = SparkConf().set('spark.ui.port','4050')\n",
        "sc = SparkContext(conf=conf,appName=\"ExeApp\")\n",
        "#ss = SparkSession.builder.master('localhost[*]').getOrCreate()\n",
        "ss = SparkSession.builder.master('local[*]').getOrCreate()\n",
        "spark = ss"
      ]
    },
    {
      "cell_type": "markdown",
      "metadata": {
        "id": "cMxE62PXA1q1"
      },
      "source": [
        "## Exercício 1\n",
        "\n",
        "Objetivo: Identificar quais palavras mais ocorrem no texto\n",
        "Passos:\n",
        "- Ler da pasta Dados\\E1\\texto.txt\n",
        "- Quebrar o texto em um array\n",
        "- Filtrar palavras maior que 2 caracteres\n",
        "- atribuir o valor 1 para cada item do array\n",
        "- Agrupar por chave\n",
        "- Ordenar por chave\n",
        "- Ordenar por valor\n",
        "- Serializar os resultados"
      ]
    },
    {
      "cell_type": "code",
      "execution_count": 6,
      "metadata": {
        "id": "0n73xkqZtTvY"
      },
      "outputs": [],
      "source": [
        "rddExe1 = ss.sparkContext.textFile(\"Dados/E1/texto.txt\")"
      ]
    },
    {
      "cell_type": "code",
      "execution_count": 7,
      "metadata": {
        "colab": {
          "base_uri": "https://localhost:8080/"
        },
        "id": "-gWUcV5BC3Wl",
        "outputId": "d4cd6549-9cb8-46a4-df9c-9b92d6cc9139"
      },
      "outputs": [
        {
          "data": {
            "text/plain": [
              "['BÍBLIA',\n",
              " 'SAGRADA',\n",
              " 'Tradução:',\n",
              " 'João',\n",
              " 'Ferreira',\n",
              " 'de',\n",
              " 'Almeida',\n",
              " 'Edição',\n",
              " 'Revista',\n",
              " 'e']"
            ]
          },
          "execution_count": 7,
          "metadata": {},
          "output_type": "execute_result"
        }
      ],
      "source": [
        "# Quebrar o texto em um array\n",
        "rdd2 = rddExe1.flatMap(lambda x: x.split())\n",
        "rdd2.take(10)"
      ]
    },
    {
      "cell_type": "code",
      "execution_count": 8,
      "metadata": {
        "id": "dW6hA7mTC3K_"
      },
      "outputs": [],
      "source": [
        "# Filtrar maior que 2 caract\n",
        "rdd3 = rdd2.filter(lambda x: len(x) > 2) "
      ]
    },
    {
      "cell_type": "code",
      "execution_count": 10,
      "metadata": {
        "colab": {
          "base_uri": "https://localhost:8080/"
        },
        "id": "kftyAaqCC27D",
        "outputId": "8bb755f9-4c27-4fe1-d7f9-da893b7eec2e"
      },
      "outputs": [
        {
          "data": {
            "text/plain": [
              "[('BÍBLIA', 1),\n",
              " ('SAGRADA', 1),\n",
              " ('Tradução:', 1),\n",
              " ('João', 1),\n",
              " ('Ferreira', 1),\n",
              " ('Almeida', 1),\n",
              " ('Edição', 1),\n",
              " ('Revista', 1),\n",
              " ('Corrigida', 1),\n",
              " ('ANTIGO', 1)]"
            ]
          },
          "execution_count": 10,
          "metadata": {},
          "output_type": "execute_result"
        }
      ],
      "source": [
        "# Atribuir valor 1 em cada array\n",
        "rdd4 = rdd3.map(lambda x: (x,1)) \n",
        "rdd4.take(10)"
      ]
    },
    {
      "cell_type": "code",
      "execution_count": 11,
      "metadata": {
        "colab": {
          "base_uri": "https://localhost:8080/"
        },
        "id": "xgy4r7DRC2r2",
        "outputId": "3b6e699a-739d-4d9a-c1f8-8c44820d62ae"
      },
      "outputs": [
        {
          "data": {
            "text/plain": [
              "[('BÍBLIA', 1),\n",
              " ('SAGRADA', 1),\n",
              " ('Tradução:', 1),\n",
              " ('Ferreira', 1),\n",
              " ('Almeida', 1),\n",
              " ('Revista', 1),\n",
              " ('princípio', 58),\n",
              " ('criou', 20),\n",
              " ('Deus', 2179),\n",
              " ('terra.', 367)]"
            ]
          },
          "execution_count": 11,
          "metadata": {},
          "output_type": "execute_result"
        }
      ],
      "source": [
        "# Agrupar por chave\n",
        "rdd5 = rdd4.reduceByKey(lambda x,y: x+y) \n",
        "rdd5.take(10)"
      ]
    },
    {
      "cell_type": "code",
      "execution_count": 12,
      "metadata": {
        "colab": {
          "base_uri": "https://localhost:8080/"
        },
        "id": "RF0FW0wGQA47",
        "outputId": "fa312e3b-ba7d-434c-c609-56b73e810848"
      },
      "outputs": [
        {
          "data": {
            "text/plain": [
              "[('útil;', 1),\n",
              " ('útil.', 1),\n",
              " ('útil,', 1),\n",
              " ('útil', 3),\n",
              " ('único;', 1),\n",
              " ('único,', 2),\n",
              " ('único', 23),\n",
              " ('única;', 1),\n",
              " ('única,', 1),\n",
              " ('única', 8)]"
            ]
          },
          "execution_count": 12,
          "metadata": {},
          "output_type": "execute_result"
        }
      ],
      "source": [
        "# Ordenar por chave\n",
        "#rdd6 = rdd5.sortBy(lambda x: x[0], False)\n",
        "rdd6 = rdd5.sortByKey(False)\n",
        "rdd6.take(10)"
      ]
    },
    {
      "cell_type": "code",
      "execution_count": 13,
      "metadata": {
        "colab": {
          "base_uri": "https://localhost:8080/"
        },
        "id": "R7tTbvPnQE_-",
        "outputId": "0ff735d7-3167-4cfc-b498-e62ff2c7aa83"
      },
      "outputs": [
        {
          "data": {
            "text/plain": [
              "[('que', 20458),\n",
              " ('para', 8421),\n",
              " ('não', 6991),\n",
              " ('com', 4876),\n",
              " ('dos', 4696),\n",
              " ('Senhor', 4006),\n",
              " ('por', 3812),\n",
              " ('seu', 3699),\n",
              " ('como', 3635),\n",
              " ('sua', 3410)]"
            ]
          },
          "execution_count": 13,
          "metadata": {},
          "output_type": "execute_result"
        }
      ],
      "source": [
        "# Ordenar por valor\n",
        "rdd6 = rdd5.sortBy(lambda x: x[1], False) \n",
        "rdd6.take(10)"
      ]
    },
    {
      "cell_type": "markdown",
      "metadata": {
        "id": "jHzpWwDxNXNn"
      },
      "source": [
        "## Exercício 2\n",
        "\n",
        "- Objetivo: Identificar os logs em com erro\n",
        "- Ler da pasta Dados/E2/logs.txt\n",
        "- Passar todas palavras para minúsculas\n",
        "- Pegar apenas as linhas que **contém** a palavra “erro”\n",
        "  - Dica: Utilize\n",
        "    ```\n",
        "    import re\n",
        "    re.match(pattern, string)\n",
        "    ```\n",
        "- Contar as palavras\n",
        "- Ordenar pelas palavras que mais se repetem\n",
        "- Salvar os resultados\n",
        "- Exibir num gráfico de barras os 20 primeiros códigos (números) de erros que mais ocorrem\n"
      ]
    },
    {
      "cell_type": "code",
      "execution_count": 14,
      "metadata": {
        "colab": {
          "base_uri": "https://localhost:8080/",
          "height": 200
        },
        "id": "t3qmR6CSO1Zt",
        "outputId": "d05bf1f5-23e8-4efb-c636-24cad8f32344"
      },
      "outputs": [],
      "source": [
        "import re\n",
        "logfile = \"Dados/E2/logs.txt\"\n",
        "rddExe2 = sc.textFile(logfile)"
      ]
    },
    {
      "cell_type": "code",
      "execution_count": null,
      "metadata": {
        "id": "xVWhpVlht2xd"
      },
      "outputs": [],
      "source": [
        "#rddExe2.collect()\n",
        "#rddExe2.map(str.split).take(10)"
      ]
    },
    {
      "cell_type": "code",
      "execution_count": 15,
      "metadata": {
        "colab": {
          "base_uri": "https://localhost:8080/"
        },
        "id": "jS90kxE4zpwX",
        "outputId": "2858a2eb-ffec-4d51-94a5-2f9b2c24f214"
      },
      "outputs": [
        {
          "data": {
            "text/plain": [
              "17250"
            ]
          },
          "execution_count": 15,
          "metadata": {},
          "output_type": "execute_result"
        }
      ],
      "source": [
        "rddExe2.count()"
      ]
    },
    {
      "cell_type": "code",
      "execution_count": 16,
      "metadata": {
        "colab": {
          "base_uri": "https://localhost:8080/"
        },
        "id": "U3LT1dziswUv",
        "outputId": "d17b38c9-f5e3-4510-dc72-af4ecc3a356f"
      },
      "outputs": [
        {
          "data": {
            "text/plain": [
              "['nível\\tdata e hora\\tfonte\\tidentificação do evento\\tcategoria da tarefa',\n",
              " 'informações\\t25/04/2018 21:09:11\\tvss\\t8224\\tnenhum\\to serviço vss está sendo desligado devido ao tempo limite ocioso. ',\n",
              " 'informações\\t25/04/2018 21:07:11\\tesent\\t916\\tgeral\\tsvchost (9132,g,0) o recurso beta esediskflushconsistency está habilitado em esent devido às configurações de modo de site beta 0x800000.',\n",
              " 'informações\\t25/04/2018 21:07:11\\tesent\\t916\\tgeral\\tdllhost (10820,g,0) o recurso beta esediskflushconsistency está habilitado em esent devido às configurações de modo de site beta 0x800000.',\n",
              " 'informações\\t25/04/2018 21:04:06\\tesent\\t916\\tgeral\\tsvchost (5812,g,0) o recurso beta esediskflushconsistency está habilitado em esent devido às configurações de modo de site beta 0x800000.']"
            ]
          },
          "execution_count": 16,
          "metadata": {},
          "output_type": "execute_result"
        }
      ],
      "source": [
        "# Passar todas palavras para minúsculas\n",
        "rdd2 = rddExe2.map(lambda x: x.lower())\n",
        "rdd2.take(5)"
      ]
    },
    {
      "cell_type": "code",
      "execution_count": 17,
      "metadata": {
        "colab": {
          "base_uri": "https://localhost:8080/"
        },
        "id": "Jpyj6bHRs0cA",
        "outputId": "6c22c84e-cd44-4f86-af10-5f4e95fe8039"
      },
      "outputs": [
        {
          "data": {
            "text/plain": [
              "['erro\\t21/04/2018 18:56:11\\tvss\\t8193\\tnenhum\\t\"erro do serviço de cópias de sombra de volume: erro inesperado ao chamar a rotina queryfullprocessimagenamew.  hr = 0x8007001f, um dispositivo conectado ao sistema não está funcionando.',\n",
              " 'aviso\\t15/04/2018 21:14:25\\tmicrosoft-windows-appmodel-state\\t20\\tnenhum\\treparo disparado porque a operação localsettings com o pacote microsoft.windows.contentdeliverymanager_cw5n1h2txyewy encontrou o erro -2147009096.',\n",
              " 'aviso\\t15/04/2018 21:14:25\\tmicrosoft-windows-appmodel-state\\t20\\tnenhum\\treparo disparado porque a operação localsettings com o pacote microsoft.windows.contentdeliverymanager_cw5n1h2txyewy encontrou o erro -2147009096.',\n",
              " 'aviso\\t15/04/2018 21:14:25\\tmicrosoft-windows-appmodel-state\\t20\\tnenhum\\treparo disparado porque a operação localsettings com o pacote microsoft.windows.contentdeliverymanager_cw5n1h2txyewy encontrou o erro -2147009096.',\n",
              " 'aviso\\t15/04/2018 21:14:25\\tmicrosoft-windows-appmodel-state\\t20\\tnenhum\\treparo disparado porque a operação localsettings com o pacote microsoft.windows.contentdeliverymanager_cw5n1h2txyewy encontrou o erro -2147009096.',\n",
              " 'informações\\t14/04/2018 13:22:27\\tmsiinstaller\\t1033\\tnenhum\\to windows installer instalou o produto. nome do produto: oracle vm virtualbox 5.2.8. versão do produto: 5.2.8. idioma do produto: 1033. fabricante: oracle corporation. status de erro ou êxito da instalação: 0.',\n",
              " 'erro\\t14/04/2018 12:53:55\\tmicrosoft-windows-user profiles service\\t1502\\tnenhum\\t\"o windows não pode carregar o perfil armazenado localmente. as possíveis causas do erro são direitos de segurança insuficientes ou um perfil local corrompido. ',\n",
              " 'informações\\t10/04/2018 21:39:00\\tmsiinstaller\\t1035\\tnenhum\\to windows installer reconfigurou o produto. nome do produto: microsoft office 32-bit components 2013. versão do produto: 15.0.4569.1506. idioma do produto: 0. fabricante: microsoft corporation. status de erro ou êxito da reconfiguração: 0.',\n",
              " 'informações\\t10/04/2018 21:39:00\\tmsiinstaller\\t1036\\tnenhum\\to windows installer instalou uma atualização. nome do produto: microsoft office 32-bit components 2013. versão do produto: 15.0.4569.1506. idioma do produto: 0. fabricante: microsoft corporation. nome da atualização: update for microsoft office 2013 (kb4018333) 64-bit edition. status de erro ou êxito da instalação: 0.',\n",
              " 'informações\\t10/04/2018 21:38:56\\tmsiinstaller\\t1035\\tnenhum\\to windows installer reconfigurou o produto. nome do produto: microsoft office professional plus 2013. versão do produto: 15.0.4569.1506. idioma do produto: 0. fabricante: microsoft corporation. status de erro ou êxito da reconfiguração: 0.',\n",
              " 'informações\\t10/04/2018 21:38:56\\tmsiinstaller\\t1036\\tnenhum\\to windows installer instalou uma atualização. nome do produto: microsoft office professional plus 2013. versão do produto: 15.0.4569.1506. idioma do produto: 0. fabricante: microsoft corporation. nome da atualização: update for microsoft office 2013 (kb4018333) 64-bit edition. status de erro ou êxito da instalação: 0.',\n",
              " 'informações\\t10/04/2018 21:38:33\\tmsiinstaller\\t1035\\tnenhum\\to windows installer reconfigurou o produto. nome do produto: microsoft office shared mui (portuguese (brazil)) 2013. versão do produto: 15.0.4569.1506. idioma do produto: 1046. fabricante: microsoft corporation. status de erro ou êxito da reconfiguração: 0.',\n",
              " 'informações\\t10/04/2018 21:38:33\\tmsiinstaller\\t1036\\tnenhum\\to windows installer instalou uma atualização. nome do produto: microsoft office shared mui (portuguese (brazil)) 2013. versão do produto: 15.0.4569.1506. idioma do produto: 1046. fabricante: microsoft corporation. nome da atualização: update for microsoft office 2013 (kb4018333) 64-bit edition. status de erro ou êxito da instalação: 0.',\n",
              " 'informações\\t10/04/2018 21:38:25\\tmsiinstaller\\t1035\\tnenhum\\to windows installer reconfigurou o produto. nome do produto: microsoft office professional plus 2013. versão do produto: 15.0.4569.1506. idioma do produto: 0. fabricante: microsoft corporation. status de erro ou êxito da reconfiguração: 0.',\n",
              " 'informações\\t10/04/2018 21:38:25\\tmsiinstaller\\t1036\\tnenhum\\to windows installer instalou uma atualização. nome do produto: microsoft office professional plus 2013. versão do produto: 15.0.4569.1506. idioma do produto: 0. fabricante: microsoft corporation. nome da atualização: update for microsoft outlook 2013 (kb4018303) 64-bit edition. status de erro ou êxito da instalação: 0.',\n",
              " 'informações\\t10/04/2018 21:37:47\\tmsiinstaller\\t1035\\tnenhum\\to windows installer reconfigurou o produto. nome do produto: microsoft outlook mui (portuguese (brazil)) 2013. versão do produto: 15.0.4569.1506. idioma do produto: 1046. fabricante: microsoft corporation. status de erro ou êxito da reconfiguração: 0.',\n",
              " 'informações\\t10/04/2018 21:37:47\\tmsiinstaller\\t1036\\tnenhum\\to windows installer instalou uma atualização. nome do produto: microsoft outlook mui (portuguese (brazil)) 2013. versão do produto: 15.0.4569.1506. idioma do produto: 1046. fabricante: microsoft corporation. nome da atualização: update for microsoft outlook 2013 (kb4018303) 64-bit edition. status de erro ou êxito da instalação: 0.',\n",
              " 'informações\\t10/04/2018 21:37:34\\tmsiinstaller\\t1035\\tnenhum\\to windows installer reconfigurou o produto. nome do produto: microsoft office 32-bit components 2013. versão do produto: 15.0.4569.1506. idioma do produto: 0. fabricante: microsoft corporation. status de erro ou êxito da reconfiguração: 0.',\n",
              " 'informações\\t10/04/2018 21:37:34\\tmsiinstaller\\t1036\\tnenhum\\to windows installer instalou uma atualização. nome do produto: microsoft office 32-bit components 2013. versão do produto: 15.0.4569.1506. idioma do produto: 0. fabricante: microsoft corporation. nome da atualização: update for microsoft project 2013 (kb4018335) 64-bit edition. status de erro ou êxito da instalação: 0.',\n",
              " 'informações\\t10/04/2018 21:37:29\\tmsiinstaller\\t1035\\tnenhum\\to windows installer reconfigurou o produto. nome do produto: microsoft office 32-bit components 2013. versão do produto: 15.0.4569.1506. idioma do produto: 0. fabricante: microsoft corporation. status de erro ou êxito da reconfiguração: 0.',\n",
              " 'informações\\t10/04/2018 21:37:29\\tmsiinstaller\\t1036\\tnenhum\\to windows installer instalou uma atualização. nome do produto: microsoft office 32-bit components 2013. versão do produto: 15.0.4569.1506. idioma do produto: 0. fabricante: microsoft corporation. nome da atualização: update for skype for business 2015 (kb4018334) 64-bit edition. status de erro ou êxito da instalação: 0.',\n",
              " 'informações\\t10/04/2018 21:37:25\\tmsiinstaller\\t1035\\tnenhum\\to windows installer reconfigurou o produto. nome do produto: microsoft office professional plus 2013. versão do produto: 15.0.4569.1506. idioma do produto: 0. fabricante: microsoft corporation. status de erro ou êxito da reconfiguração: 0.',\n",
              " 'informações\\t10/04/2018 21:37:25\\tmsiinstaller\\t1036\\tnenhum\\to windows installer instalou uma atualização. nome do produto: microsoft office professional plus 2013. versão do produto: 15.0.4569.1506. idioma do produto: 0. fabricante: microsoft corporation. nome da atualização: update for skype for business 2015 (kb4018334) 64-bit edition. status de erro ou êxito da instalação: 0.',\n",
              " 'informações\\t10/04/2018 21:36:49\\tmsiinstaller\\t1035\\tnenhum\\to windows installer reconfigurou o produto. nome do produto: microsoft lync mui (portuguese (brazil)) 2013. versão do produto: 15.0.4569.1506. idioma do produto: 1046. fabricante: microsoft corporation. status de erro ou êxito da reconfiguração: 0.',\n",
              " 'informações\\t10/04/2018 21:36:49\\tmsiinstaller\\t1036\\tnenhum\\to windows installer instalou uma atualização. nome do produto: microsoft lync mui (portuguese (brazil)) 2013. versão do produto: 15.0.4569.1506. idioma do produto: 1046. fabricante: microsoft corporation. nome da atualização: update for skype for business 2015 (kb4018334) 64-bit edition. status de erro ou êxito da instalação: 0.',\n",
              " 'informações\\t10/04/2018 21:36:37\\tmsiinstaller\\t1035\\tnenhum\\to windows installer reconfigurou o produto. nome do produto: microsoft office 32-bit components 2013. versão do produto: 15.0.4569.1506. idioma do produto: 0. fabricante: microsoft corporation. status de erro ou êxito da reconfiguração: 0.',\n",
              " 'informações\\t10/04/2018 21:36:37\\tmsiinstaller\\t1036\\tnenhum\\to windows installer instalou uma atualização. nome do produto: microsoft office 32-bit components 2013. versão do produto: 15.0.4569.1506. idioma do produto: 0. fabricante: microsoft corporation. nome da atualização: update for microsoft powerpoint 2013 (kb4018289) 64-bit edition. status de erro ou êxito da instalação: 0.',\n",
              " 'informações\\t10/04/2018 21:36:33\\tmsiinstaller\\t1035\\tnenhum\\to windows installer reconfigurou o produto. nome do produto: microsoft office professional plus 2013. versão do produto: 15.0.4569.1506. idioma do produto: 0. fabricante: microsoft corporation. status de erro ou êxito da reconfiguração: 0.',\n",
              " 'informações\\t10/04/2018 21:36:33\\tmsiinstaller\\t1036\\tnenhum\\to windows installer instalou uma atualização. nome do produto: microsoft office professional plus 2013. versão do produto: 15.0.4569.1506. idioma do produto: 0. fabricante: microsoft corporation. nome da atualização: update for microsoft powerpoint 2013 (kb4018289) 64-bit edition. status de erro ou êxito da instalação: 0.',\n",
              " 'informações\\t10/04/2018 21:36:04\\tmsiinstaller\\t1035\\tnenhum\\to windows installer reconfigurou o produto. nome do produto: microsoft powerpoint mui (portuguese (brazil)) 2013. versão do produto: 15.0.4569.1506. idioma do produto: 1046. fabricante: microsoft corporation. status de erro ou êxito da reconfiguração: 0.',\n",
              " 'informações\\t10/04/2018 21:36:04\\tmsiinstaller\\t1036\\tnenhum\\to windows installer instalou uma atualização. nome do produto: microsoft powerpoint mui (portuguese (brazil)) 2013. versão do produto: 15.0.4569.1506. idioma do produto: 1046. fabricante: microsoft corporation. nome da atualização: update for microsoft powerpoint 2013 (kb4018289) 64-bit edition. status de erro ou êxito da instalação: 0.',\n",
              " 'informações\\t10/04/2018 21:35:50\\tmsiinstaller\\t1035\\tnenhum\\to windows installer reconfigurou o produto. nome do produto: microsoft office professional plus 2013. versão do produto: 15.0.4569.1506. idioma do produto: 0. fabricante: microsoft corporation. status de erro ou êxito da reconfiguração: 0.',\n",
              " 'informações\\t10/04/2018 21:35:50\\tmsiinstaller\\t1036\\tnenhum\\to windows installer instalou uma atualização. nome do produto: microsoft office professional plus 2013. versão do produto: 15.0.4569.1506. idioma do produto: 0. fabricante: microsoft corporation. nome da atualização: update for microsoft office 2013 (kb3178636) 64-bit edition. status de erro ou êxito da instalação: 0.',\n",
              " 'informações\\t10/04/2018 21:07:49\\tmsiinstaller\\t1035\\tnenhum\\to windows installer reconfigurou o produto. nome do produto: microsoft access database engine 2010 (english). versão do produto: 14.0.7015.1000. idioma do produto: 1033. fabricante: microsoft corporation. status de erro ou êxito da reconfiguração: 0.',\n",
              " 'informações\\t10/04/2018 21:07:49\\tmsiinstaller\\t1036\\tnenhum\\to windows installer instalou uma atualização. nome do produto: microsoft access database engine 2010 (english). versão do produto: 14.0.7015.1000. idioma do produto: 1033. fabricante: microsoft corporation. nome da atualização: security update for microsoft office 2010 (kb4018311) 64-bit edition. status de erro ou êxito da instalação: 0.',\n",
              " 'informações\\t10/04/2018 21:07:39\\tmsiinstaller\\t1035\\tnenhum\\to windows installer reconfigurou o produto. nome do produto: microsoft office 32-bit components 2013. versão do produto: 15.0.4569.1506. idioma do produto: 0. fabricante: microsoft corporation. status de erro ou êxito da reconfiguração: 0.',\n",
              " 'informações\\t10/04/2018 21:07:39\\tmsiinstaller\\t1036\\tnenhum\\to windows installer instalou uma atualização. nome do produto: microsoft office 32-bit components 2013. versão do produto: 15.0.4569.1506. idioma do produto: 0. fabricante: microsoft corporation. nome da atualização: security update for microsoft office 2013 (kb4018330) 64-bit edition. status de erro ou êxito da instalação: 0.',\n",
              " 'informações\\t10/04/2018 21:07:27\\tmsiinstaller\\t1035\\tnenhum\\to windows installer reconfigurou o produto. nome do produto: microsoft office professional plus 2013. versão do produto: 15.0.4569.1506. idioma do produto: 0. fabricante: microsoft corporation. status de erro ou êxito da reconfiguração: 0.',\n",
              " 'informações\\t10/04/2018 21:07:27\\tmsiinstaller\\t1036\\tnenhum\\to windows installer instalou uma atualização. nome do produto: microsoft office professional plus 2013. versão do produto: 15.0.4569.1506. idioma do produto: 0. fabricante: microsoft corporation. nome da atualização: security update for microsoft office 2013 (kb4018330) 64-bit edition. status de erro ou êxito da instalação: 0.',\n",
              " 'informações\\t10/04/2018 21:06:32\\tmsiinstaller\\t1035\\tnenhum\\to windows installer reconfigurou o produto. nome do produto: microsoft office shared mui (portuguese (brazil)) 2013. versão do produto: 15.0.4569.1506. idioma do produto: 1046. fabricante: microsoft corporation. status de erro ou êxito da reconfiguração: 0.',\n",
              " 'informações\\t10/04/2018 21:06:32\\tmsiinstaller\\t1036\\tnenhum\\to windows installer instalou uma atualização. nome do produto: microsoft office shared mui (portuguese (brazil)) 2013. versão do produto: 15.0.4569.1506. idioma do produto: 1046. fabricante: microsoft corporation. nome da atualização: security update for microsoft office 2013 (kb4018330) 64-bit edition. status de erro ou êxito da instalação: 0.',\n",
              " 'informações\\t10/04/2018 21:06:09\\tmsiinstaller\\t1035\\tnenhum\\to windows installer reconfigurou o produto. nome do produto: microsoft office professional plus 2013. versão do produto: 15.0.4569.1506. idioma do produto: 0. fabricante: microsoft corporation. status de erro ou êxito da reconfiguração: 0.',\n",
              " 'informações\\t10/04/2018 21:06:09\\tmsiinstaller\\t1036\\tnenhum\\to windows installer instalou uma atualização. nome do produto: microsoft office professional plus 2013. versão do produto: 15.0.4569.1506. idioma do produto: 0. fabricante: microsoft corporation. nome da atualização: security update for microsoft office 2013 (kb4018288) 64-bit edition. status de erro ou êxito da instalação: 0.',\n",
              " 'informações\\t10/04/2018 21:05:30\\tmsiinstaller\\t1035\\tnenhum\\to windows installer reconfigurou o produto. nome do produto: microsoft lync mui (portuguese (brazil)) 2013. versão do produto: 15.0.4569.1506. idioma do produto: 1046. fabricante: microsoft corporation. status de erro ou êxito da reconfiguração: 0.',\n",
              " 'informações\\t10/04/2018 21:05:30\\tmsiinstaller\\t1036\\tnenhum\\to windows installer instalou uma atualização. nome do produto: microsoft lync mui (portuguese (brazil)) 2013. versão do produto: 15.0.4569.1506. idioma do produto: 1046. fabricante: microsoft corporation. nome da atualização: security update for microsoft word 2013 (kb4018347) 64-bit edition. status de erro ou êxito da instalação: 0.',\n",
              " 'informações\\t10/04/2018 21:05:25\\tmsiinstaller\\t1035\\tnenhum\\to windows installer reconfigurou o produto. nome do produto: microsoft office 32-bit components 2013. versão do produto: 15.0.4569.1506. idioma do produto: 0. fabricante: microsoft corporation. status de erro ou êxito da reconfiguração: 0.',\n",
              " 'informações\\t10/04/2018 21:05:25\\tmsiinstaller\\t1036\\tnenhum\\to windows installer instalou uma atualização. nome do produto: microsoft office 32-bit components 2013. versão do produto: 15.0.4569.1506. idioma do produto: 0. fabricante: microsoft corporation. nome da atualização: security update for microsoft word 2013 (kb4018347) 64-bit edition. status de erro ou êxito da instalação: 0.',\n",
              " 'informações\\t10/04/2018 21:05:21\\tmsiinstaller\\t1035\\tnenhum\\to windows installer reconfigurou o produto. nome do produto: microsoft office professional plus 2013. versão do produto: 15.0.4569.1506. idioma do produto: 0. fabricante: microsoft corporation. status de erro ou êxito da reconfiguração: 0.',\n",
              " 'informações\\t10/04/2018 21:05:21\\tmsiinstaller\\t1036\\tnenhum\\to windows installer instalou uma atualização. nome do produto: microsoft office professional plus 2013. versão do produto: 15.0.4569.1506. idioma do produto: 0. fabricante: microsoft corporation. nome da atualização: security update for microsoft word 2013 (kb4018347) 64-bit edition. status de erro ou êxito da instalação: 0.',\n",
              " 'informações\\t10/04/2018 21:04:50\\tmsiinstaller\\t1035\\tnenhum\\to windows installer reconfigurou o produto. nome do produto: microsoft word mui (portuguese (brazil)) 2013. versão do produto: 15.0.4569.1506. idioma do produto: 1046. fabricante: microsoft corporation. status de erro ou êxito da reconfiguração: 0.',\n",
              " 'informações\\t10/04/2018 21:04:50\\tmsiinstaller\\t1036\\tnenhum\\to windows installer instalou uma atualização. nome do produto: microsoft word mui (portuguese (brazil)) 2013. versão do produto: 15.0.4569.1506. idioma do produto: 1046. fabricante: microsoft corporation. nome da atualização: security update for microsoft word 2013 (kb4018347) 64-bit edition. status de erro ou êxito da instalação: 0.',\n",
              " 'informações\\t10/04/2018 21:04:40\\tmsiinstaller\\t1035\\tnenhum\\to windows installer reconfigurou o produto. nome do produto: microsoft outlook mui (portuguese (brazil)) 2013. versão do produto: 15.0.4569.1506. idioma do produto: 1046. fabricante: microsoft corporation. status de erro ou êxito da reconfiguração: 0.',\n",
              " 'informações\\t10/04/2018 21:04:40\\tmsiinstaller\\t1036\\tnenhum\\to windows installer instalou uma atualização. nome do produto: microsoft outlook mui (portuguese (brazil)) 2013. versão do produto: 15.0.4569.1506. idioma do produto: 1046. fabricante: microsoft corporation. nome da atualização: security update for microsoft word 2013 (kb4018347) 64-bit edition. status de erro ou êxito da instalação: 0.',\n",
              " 'informações\\t10/04/2018 21:04:15\\tmsiinstaller\\t1035\\tnenhum\\to windows installer reconfigurou o produto. nome do produto: microsoft office 32-bit components 2013. versão do produto: 15.0.4569.1506. idioma do produto: 0. fabricante: microsoft corporation. status de erro ou êxito da reconfiguração: 0.',\n",
              " 'informações\\t10/04/2018 21:04:15\\tmsiinstaller\\t1036\\tnenhum\\to windows installer instalou uma atualização. nome do produto: microsoft office 32-bit components 2013. versão do produto: 15.0.4569.1506. idioma do produto: 0. fabricante: microsoft corporation. nome da atualização: security update for microsoft excel 2013 (kb4018350) 64-bit edition. status de erro ou êxito da instalação: 0.',\n",
              " 'informações\\t10/04/2018 21:04:11\\tmsiinstaller\\t1035\\tnenhum\\to windows installer reconfigurou o produto. nome do produto: microsoft office shared 32-bit mui (portuguese (brazil)) 2013. versão do produto: 15.0.4569.1506. idioma do produto: 1046. fabricante: microsoft corporation. status de erro ou êxito da reconfiguração: 0.',\n",
              " 'informações\\t10/04/2018 21:04:11\\tmsiinstaller\\t1036\\tnenhum\\to windows installer instalou uma atualização. nome do produto: microsoft office shared 32-bit mui (portuguese (brazil)) 2013. versão do produto: 15.0.4569.1506. idioma do produto: 1046. fabricante: microsoft corporation. nome da atualização: security update for microsoft excel 2013 (kb4018350) 64-bit edition. status de erro ou êxito da instalação: 0.',\n",
              " 'informações\\t10/04/2018 21:04:08\\tmsiinstaller\\t1035\\tnenhum\\to windows installer reconfigurou o produto. nome do produto: microsoft office professional plus 2013. versão do produto: 15.0.4569.1506. idioma do produto: 0. fabricante: microsoft corporation. status de erro ou êxito da reconfiguração: 0.',\n",
              " 'informações\\t10/04/2018 21:04:08\\tmsiinstaller\\t1036\\tnenhum\\to windows installer instalou uma atualização. nome do produto: microsoft office professional plus 2013. versão do produto: 15.0.4569.1506. idioma do produto: 0. fabricante: microsoft corporation. nome da atualização: security update for microsoft excel 2013 (kb4018350) 64-bit edition. status de erro ou êxito da instalação: 0.',\n",
              " 'informações\\t10/04/2018 21:03:08\\tmsiinstaller\\t1035\\tnenhum\\to windows installer reconfigurou o produto. nome do produto: microsoft word mui (portuguese (brazil)) 2013. versão do produto: 15.0.4569.1506. idioma do produto: 1046. fabricante: microsoft corporation. status de erro ou êxito da reconfiguração: 0.',\n",
              " 'informações\\t10/04/2018 21:03:08\\tmsiinstaller\\t1036\\tnenhum\\to windows installer instalou uma atualização. nome do produto: microsoft word mui (portuguese (brazil)) 2013. versão do produto: 15.0.4569.1506. idioma do produto: 1046. fabricante: microsoft corporation. nome da atualização: security update for microsoft excel 2013 (kb4018350) 64-bit edition. status de erro ou êxito da instalação: 0.',\n",
              " 'informações\\t10/04/2018 21:03:00\\tmsiinstaller\\t1035\\tnenhum\\to windows installer reconfigurou o produto. nome do produto: microsoft powerpoint mui (portuguese (brazil)) 2013. versão do produto: 15.0.4569.1506. idioma do produto: 1046. fabricante: microsoft corporation. status de erro ou êxito da reconfiguração: 0.',\n",
              " 'informações\\t10/04/2018 21:03:00\\tmsiinstaller\\t1036\\tnenhum\\to windows installer instalou uma atualização. nome do produto: microsoft powerpoint mui (portuguese (brazil)) 2013. versão do produto: 15.0.4569.1506. idioma do produto: 1046. fabricante: microsoft corporation. nome da atualização: security update for microsoft excel 2013 (kb4018350) 64-bit edition. status de erro ou êxito da instalação: 0.',\n",
              " 'informações\\t10/04/2018 21:02:51\\tmsiinstaller\\t1035\\tnenhum\\to windows installer reconfigurou o produto. nome do produto: microsoft excel mui (portuguese (brazil)) 2013. versão do produto: 15.0.4569.1506. idioma do produto: 1046. fabricante: microsoft corporation. status de erro ou êxito da reconfiguração: 0.',\n",
              " 'informações\\t10/04/2018 21:02:51\\tmsiinstaller\\t1036\\tnenhum\\to windows installer instalou uma atualização. nome do produto: microsoft excel mui (portuguese (brazil)) 2013. versão do produto: 15.0.4569.1506. idioma do produto: 1046. fabricante: microsoft corporation. nome da atualização: security update for microsoft excel 2013 (kb4018350) 64-bit edition. status de erro ou êxito da instalação: 0.',\n",
              " 'informações\\t09/04/2018 17:40:04\\tmsiinstaller\\t1033\\tnenhum\\to windows installer instalou o produto. nome do produto: java 8 update 161 (64-bit). versão do produto: 8.0.1610.12. idioma do produto: 1033. fabricante: oracle corporation. status de erro ou êxito da instalação: 0.',\n",
              " 'informações\\t09/04/2018 17:39:03\\tmsiinstaller\\t1033\\tnenhum\\to windows installer instalou o produto. nome do produto: java se development kit 8 update 161 (64-bit). versão do produto: 8.0.1610.12. idioma do produto: 1033. fabricante: oracle corporation. status de erro ou êxito da instalação: 0.',\n",
              " 'informações\\t09/04/2018 17:37:45\\tmsiinstaller\\t1034\\tnenhum\\to windows installer removeu o produto. nome do produto: java 8 update 161 (64-bit). versão do produto: 8.0.1610.12. idioma do produto: 1033. fabricante: oracle corporation. status de erro ou êxito da remoção: 0.',\n",
              " 'informações\\t30/03/2018 20:34:12\\tmsiinstaller\\t1035\\tnenhum\\to windows installer reconfigurou o produto. nome do produto: adobe reader xi (11.0.23). versão do produto: 11.0.23. idioma do produto: 1033. fabricante: adobe systems incorporated. status de erro ou êxito da reconfiguração: 0.',\n",
              " 'informações\\t30/03/2018 20:34:12\\tmsiinstaller\\t1036\\tnenhum\\to windows installer instalou uma atualização. nome do produto: adobe reader xi (11.0.23). versão do produto: 11.0.23. idioma do produto: 1033. fabricante: adobe systems incorporated. nome da atualização: adobe reader xi (11.0.23). status de erro ou êxito da instalação: 0.',\n",
              " 'informações\\t30/03/2018 20:33:15\\tmsiinstaller\\t1033\\tnenhum\\to windows installer instalou o produto. nome do produto: adobe refresh manager. versão do produto: 1.8.0. idioma do produto: 1033. fabricante: adobe systems incorporated. status de erro ou êxito da instalação: 0.',\n",
              " 'informações\\t29/03/2018 18:01:38\\tmsiinstaller\\t1033\\tnenhum\\to windows installer instalou o produto. nome do produto: verbot 5. versão do produto: 0.1.1. idioma do produto: 1033. fabricante: conversive. status de erro ou êxito da instalação: 0.',\n",
              " 'informações\\t29/03/2018 17:55:27\\tmsiinstaller\\t1033\\tnenhum\\to windows installer instalou o produto. nome do produto: verbot 5. versão do produto: 0.1.1. idioma do produto: 1033. fabricante: conversive. status de erro ou êxito da instalação: 1603.',\n",
              " 'informações\\t29/03/2018 17:55:15\\tmsiinstaller\\t1035\\tnenhum\\to windows installer reconfigurou o produto. nome do produto: microsoft .net framework 1.1. versão do produto: 1.1.4322. idioma do produto: 1033. fabricante: microsoft. status de erro ou êxito da reconfiguração: 0.',\n",
              " 'informações\\t29/03/2018 17:53:37\\tmsiinstaller\\t1033\\tnenhum\\to windows installer instalou o produto. nome do produto: verbot 5. versão do produto: 0.1.1. idioma do produto: 1033. fabricante: conversive. status de erro ou êxito da instalação: 1603.',\n",
              " 'informações\\t29/03/2018 17:53:32\\tmsiinstaller\\t1033\\tnenhum\\to windows installer instalou o produto. nome do produto: verbot 5. versão do produto: 0.1.1. idioma do produto: 1033. fabricante: conversive. status de erro ou êxito da instalação: 1603.',\n",
              " 'informações\\t29/03/2018 17:51:11\\tmsiinstaller\\t1033\\tnenhum\\to windows installer instalou o produto. nome do produto: verbot 5. versão do produto: 0.1.1. idioma do produto: 1033. fabricante: conversive. status de erro ou êxito da instalação: 1603.',\n",
              " 'informações\\t29/03/2018 17:50:31\\tmsiinstaller\\t1033\\tnenhum\\to windows installer instalou o produto. nome do produto: microsoft .net framework 1.1. versão do produto: 1.1.4322. idioma do produto: 1033. fabricante: microsoft. status de erro ou êxito da instalação: 0.',\n",
              " 'informações\\t29/03/2018 17:47:42\\tmsiinstaller\\t1033\\tnenhum\\to windows installer instalou o produto. nome do produto: verbot 5. versão do produto: 0.1.1. idioma do produto: 1033. fabricante: conversive. status de erro ou êxito da instalação: 1603.',\n",
              " 'informações\\t29/03/2018 17:47:00\\tmsiinstaller\\t1033\\tnenhum\\to windows installer instalou o produto. nome do produto: verbot 5. versão do produto: 0.1.1. idioma do produto: 1033. fabricante: conversive. status de erro ou êxito da instalação: 1603.',\n",
              " 'informações\\t17/03/2018 23:56:47\\tmsiinstaller\\t1035\\tnenhum\\to windows installer reconfigurou o produto. nome do produto: microsoft office 32-bit components 2013. versão do produto: 15.0.4569.1506. idioma do produto: 0. fabricante: microsoft corporation. status de erro ou êxito da reconfiguração: 0.',\n",
              " 'informações\\t17/03/2018 23:56:47\\tmsiinstaller\\t1036\\tnenhum\\to windows installer instalou uma atualização. nome do produto: microsoft office 32-bit components 2013. versão do produto: 15.0.4569.1506. idioma do produto: 0. fabricante: microsoft corporation. nome da atualização: update for microsoft project 2013 (kb4018292) 64-bit edition. status de erro ou êxito da instalação: 0.',\n",
              " 'informações\\t17/03/2018 23:56:42\\tmsiinstaller\\t1035\\tnenhum\\to windows installer reconfigurou o produto. nome do produto: microsoft office professional plus 2013. versão do produto: 15.0.4569.1506. idioma do produto: 0. fabricante: microsoft corporation. status de erro ou êxito da reconfiguração: 0.',\n",
              " 'informações\\t17/03/2018 23:56:42\\tmsiinstaller\\t1036\\tnenhum\\to windows installer instalou uma atualização. nome do produto: microsoft office professional plus 2013. versão do produto: 15.0.4569.1506. idioma do produto: 0. fabricante: microsoft corporation. nome da atualização: update for microsoft office 2013 (kb3172471) 64-bit edition. status de erro ou êxito da instalação: 0.',\n",
              " 'informações\\t17/03/2018 23:56:18\\tmsiinstaller\\t1035\\tnenhum\\to windows installer reconfigurou o produto. nome do produto: microsoft office 32-bit components 2013. versão do produto: 15.0.4569.1506. idioma do produto: 0. fabricante: microsoft corporation. status de erro ou êxito da reconfiguração: 0.',\n",
              " 'informações\\t17/03/2018 23:56:18\\tmsiinstaller\\t1036\\tnenhum\\to windows installer instalou uma atualização. nome do produto: microsoft office 32-bit components 2013. versão do produto: 15.0.4569.1506. idioma do produto: 0. fabricante: microsoft corporation. nome da atualização: update for microsoft office 2013 (kb4011152) 64-bit edition. status de erro ou êxito da instalação: 0.',\n",
              " 'informações\\t17/03/2018 23:56:14\\tmsiinstaller\\t1035\\tnenhum\\to windows installer reconfigurou o produto. nome do produto: microsoft office professional plus 2013. versão do produto: 15.0.4569.1506. idioma do produto: 0. fabricante: microsoft corporation. status de erro ou êxito da reconfiguração: 0.',\n",
              " 'informações\\t17/03/2018 23:56:14\\tmsiinstaller\\t1036\\tnenhum\\to windows installer instalou uma atualização. nome do produto: microsoft office professional plus 2013. versão do produto: 15.0.4569.1506. idioma do produto: 0. fabricante: microsoft corporation. nome da atualização: update for microsoft office 2013 (kb4011152) 64-bit edition. status de erro ou êxito da instalação: 0.',\n",
              " 'informações\\t17/03/2018 23:55:50\\tmsiinstaller\\t1035\\tnenhum\\to windows installer reconfigurou o produto. nome do produto: microsoft office shared mui (portuguese (brazil)) 2013. versão do produto: 15.0.4569.1506. idioma do produto: 1046. fabricante: microsoft corporation. status de erro ou êxito da reconfiguração: 0.',\n",
              " 'informações\\t17/03/2018 23:55:50\\tmsiinstaller\\t1036\\tnenhum\\to windows installer instalou uma atualização. nome do produto: microsoft office shared mui (portuguese (brazil)) 2013. versão do produto: 15.0.4569.1506. idioma do produto: 1046. fabricante: microsoft corporation. nome da atualização: update for microsoft office 2013 (kb4011152) 64-bit edition. status de erro ou êxito da instalação: 0.',\n",
              " 'informações\\t17/03/2018 23:55:44\\tmsiinstaller\\t1035\\tnenhum\\to windows installer reconfigurou o produto. nome do produto: microsoft office 32-bit components 2013. versão do produto: 15.0.4569.1506. idioma do produto: 0. fabricante: microsoft corporation. status de erro ou êxito da reconfiguração: 0.',\n",
              " 'informações\\t17/03/2018 23:55:44\\tmsiinstaller\\t1036\\tnenhum\\to windows installer instalou uma atualização. nome do produto: microsoft office 32-bit components 2013. versão do produto: 15.0.4569.1506. idioma do produto: 0. fabricante: microsoft corporation. nome da atualização: update for microsoft office 2013 (kb4018297) 64-bit edition. status de erro ou êxito da instalação: 0.',\n",
              " 'informações\\t17/03/2018 23:55:34\\tmsiinstaller\\t1035\\tnenhum\\to windows installer reconfigurou o produto. nome do produto: microsoft office professional plus 2013. versão do produto: 15.0.4569.1506. idioma do produto: 0. fabricante: microsoft corporation. status de erro ou êxito da reconfiguração: 0.',\n",
              " 'informações\\t17/03/2018 23:55:34\\tmsiinstaller\\t1036\\tnenhum\\to windows installer instalou uma atualização. nome do produto: microsoft office professional plus 2013. versão do produto: 15.0.4569.1506. idioma do produto: 0. fabricante: microsoft corporation. nome da atualização: update for microsoft office 2013 (kb4018297) 64-bit edition. status de erro ou êxito da instalação: 0.',\n",
              " 'informações\\t17/03/2018 23:54:24\\tmsiinstaller\\t1035\\tnenhum\\to windows installer reconfigurou o produto. nome do produto: microsoft office shared mui (portuguese (brazil)) 2013. versão do produto: 15.0.4569.1506. idioma do produto: 1046. fabricante: microsoft corporation. status de erro ou êxito da reconfiguração: 0.',\n",
              " 'informações\\t17/03/2018 23:54:24\\tmsiinstaller\\t1036\\tnenhum\\to windows installer instalou uma atualização. nome do produto: microsoft office shared mui (portuguese (brazil)) 2013. versão do produto: 15.0.4569.1506. idioma do produto: 1046. fabricante: microsoft corporation. nome da atualização: update for microsoft office 2013 (kb4018297) 64-bit edition. status de erro ou êxito da instalação: 0.',\n",
              " 'informações\\t17/03/2018 23:54:01\\tmsiinstaller\\t1035\\tnenhum\\to windows installer reconfigurou o produto. nome do produto: microsoft office 32-bit components 2013. versão do produto: 15.0.4569.1506. idioma do produto: 0. fabricante: microsoft corporation. status de erro ou êxito da reconfiguração: 0.',\n",
              " 'informações\\t17/03/2018 23:54:01\\tmsiinstaller\\t1036\\tnenhum\\to windows installer instalou uma atualização. nome do produto: microsoft office 32-bit components 2013. versão do produto: 15.0.4569.1506. idioma do produto: 0. fabricante: microsoft corporation. nome da atualização: update for skype for business 2015 (kb4018290) 64-bit edition. status de erro ou êxito da instalação: 0.',\n",
              " 'informações\\t17/03/2018 23:53:53\\tmsiinstaller\\t1035\\tnenhum\\to windows installer reconfigurou o produto. nome do produto: microsoft office professional plus 2013. versão do produto: 15.0.4569.1506. idioma do produto: 0. fabricante: microsoft corporation. status de erro ou êxito da reconfiguração: 0.',\n",
              " 'informações\\t17/03/2018 23:53:53\\tmsiinstaller\\t1036\\tnenhum\\to windows installer instalou uma atualização. nome do produto: microsoft office professional plus 2013. versão do produto: 15.0.4569.1506. idioma do produto: 0. fabricante: microsoft corporation. nome da atualização: update for skype for business 2015 (kb4018290) 64-bit edition. status de erro ou êxito da instalação: 0.',\n",
              " 'informações\\t17/03/2018 23:48:30\\tmsiinstaller\\t1035\\tnenhum\\to windows installer reconfigurou o produto. nome do produto: microsoft lync mui (portuguese (brazil)) 2013. versão do produto: 15.0.4569.1506. idioma do produto: 1046. fabricante: microsoft corporation. status de erro ou êxito da reconfiguração: 0.',\n",
              " 'informações\\t17/03/2018 23:48:30\\tmsiinstaller\\t1036\\tnenhum\\to windows installer instalou uma atualização. nome do produto: microsoft lync mui (portuguese (brazil)) 2013. versão do produto: 15.0.4569.1506. idioma do produto: 1046. fabricante: microsoft corporation. nome da atualização: update for skype for business 2015 (kb4018290) 64-bit edition. status de erro ou êxito da instalação: 0.',\n",
              " 'informações\\t17/03/2018 20:16:21\\tmsiinstaller\\t1035\\tnenhum\\to windows installer reconfigurou o produto. nome do produto: microsoft office professional plus 2013. versão do produto: 15.0.4569.1506. idioma do produto: 0. fabricante: microsoft corporation. status de erro ou êxito da reconfiguração: 0.',\n",
              " 'informações\\t17/03/2018 20:16:21\\tmsiinstaller\\t1036\\tnenhum\\to windows installer instalou uma atualização. nome do produto: microsoft office professional plus 2013. versão do produto: 15.0.4569.1506. idioma do produto: 0. fabricante: microsoft corporation. nome da atualização: security update for microsoft access 2013 (kb4011234) 64-bit edition. status de erro ou êxito da instalação: 0.',\n",
              " 'informações\\t17/03/2018 20:15:56\\tmsiinstaller\\t1035\\tnenhum\\to windows installer reconfigurou o produto. nome do produto: microsoft office 32-bit components 2013. versão do produto: 15.0.4569.1506. idioma do produto: 0. fabricante: microsoft corporation. status de erro ou êxito da reconfiguração: 0.',\n",
              " 'informações\\t17/03/2018 20:15:56\\tmsiinstaller\\t1036\\tnenhum\\to windows installer instalou uma atualização. nome do produto: microsoft office 32-bit components 2013. versão do produto: 15.0.4569.1506. idioma do produto: 0. fabricante: microsoft corporation. nome da atualização: security update for microsoft access 2013 (kb4011234) 64-bit edition. status de erro ou êxito da instalação: 0.',\n",
              " 'informações\\t17/03/2018 20:15:54\\tmsiinstaller\\t1035\\tnenhum\\to windows installer reconfigurou o produto. nome do produto: microsoft access mui (portuguese (brazil)) 2013. versão do produto: 15.0.4569.1506. idioma do produto: 1046. fabricante: microsoft corporation. status de erro ou êxito da reconfiguração: 0.',\n",
              " 'informações\\t17/03/2018 20:15:54\\tmsiinstaller\\t1036\\tnenhum\\to windows installer instalou uma atualização. nome do produto: microsoft access mui (portuguese (brazil)) 2013. versão do produto: 15.0.4569.1506. idioma do produto: 1046. fabricante: microsoft corporation. nome da atualização: security update for microsoft access 2013 (kb4011234) 64-bit edition. status de erro ou êxito da instalação: 0.',\n",
              " 'informações\\t17/03/2018 20:15:49\\tmsiinstaller\\t1035\\tnenhum\\to windows installer reconfigurou o produto. nome do produto: microsoft office 32-bit components 2013. versão do produto: 15.0.4569.1506. idioma do produto: 0. fabricante: microsoft corporation. status de erro ou êxito da reconfiguração: 0.',\n",
              " 'informações\\t17/03/2018 20:15:49\\tmsiinstaller\\t1036\\tnenhum\\to windows installer instalou uma atualização. nome do produto: microsoft office 32-bit components 2013. versão do produto: 15.0.4569.1506. idioma do produto: 0. fabricante: microsoft corporation. nome da atualização: security update for microsoft excel 2013 (kb4018291) 64-bit edition. status de erro ou êxito da instalação: 0.',\n",
              " 'informações\\t17/03/2018 20:15:46\\tmsiinstaller\\t1035\\tnenhum\\to windows installer reconfigurou o produto. nome do produto: microsoft office shared 32-bit mui (portuguese (brazil)) 2013. versão do produto: 15.0.4569.1506. idioma do produto: 1046. fabricante: microsoft corporation. status de erro ou êxito da reconfiguração: 0.',\n",
              " 'informações\\t17/03/2018 20:15:46\\tmsiinstaller\\t1036\\tnenhum\\to windows installer instalou uma atualização. nome do produto: microsoft office shared 32-bit mui (portuguese (brazil)) 2013. versão do produto: 15.0.4569.1506. idioma do produto: 1046. fabricante: microsoft corporation. nome da atualização: security update for microsoft excel 2013 (kb4018291) 64-bit edition. status de erro ou êxito da instalação: 0.',\n",
              " 'informações\\t17/03/2018 20:15:42\\tmsiinstaller\\t1035\\tnenhum\\to windows installer reconfigurou o produto. nome do produto: microsoft office professional plus 2013. versão do produto: 15.0.4569.1506. idioma do produto: 0. fabricante: microsoft corporation. status de erro ou êxito da reconfiguração: 0.',\n",
              " 'informações\\t17/03/2018 20:15:42\\tmsiinstaller\\t1036\\tnenhum\\to windows installer instalou uma atualização. nome do produto: microsoft office professional plus 2013. versão do produto: 15.0.4569.1506. idioma do produto: 0. fabricante: microsoft corporation. nome da atualização: security update for microsoft excel 2013 (kb4018291) 64-bit edition. status de erro ou êxito da instalação: 0.',\n",
              " 'informações\\t17/03/2018 20:15:19\\tmsiinstaller\\t1035\\tnenhum\\to windows installer reconfigurou o produto. nome do produto: microsoft word mui (portuguese (brazil)) 2013. versão do produto: 15.0.4569.1506. idioma do produto: 1046. fabricante: microsoft corporation. status de erro ou êxito da reconfiguração: 0.',\n",
              " 'informações\\t17/03/2018 20:15:19\\tmsiinstaller\\t1036\\tnenhum\\to windows installer instalou uma atualização. nome do produto: microsoft word mui (portuguese (brazil)) 2013. versão do produto: 15.0.4569.1506. idioma do produto: 1046. fabricante: microsoft corporation. nome da atualização: security update for microsoft excel 2013 (kb4018291) 64-bit edition. status de erro ou êxito da instalação: 0.',\n",
              " 'informações\\t17/03/2018 20:15:15\\tmsiinstaller\\t1035\\tnenhum\\to windows installer reconfigurou o produto. nome do produto: microsoft powerpoint mui (portuguese (brazil)) 2013. versão do produto: 15.0.4569.1506. idioma do produto: 1046. fabricante: microsoft corporation. status de erro ou êxito da reconfiguração: 0.',\n",
              " 'informações\\t17/03/2018 20:15:15\\tmsiinstaller\\t1036\\tnenhum\\to windows installer instalou uma atualização. nome do produto: microsoft powerpoint mui (portuguese (brazil)) 2013. versão do produto: 15.0.4569.1506. idioma do produto: 1046. fabricante: microsoft corporation. nome da atualização: security update for microsoft excel 2013 (kb4018291) 64-bit edition. status de erro ou êxito da instalação: 0.',\n",
              " 'informações\\t17/03/2018 20:15:08\\tmsiinstaller\\t1035\\tnenhum\\to windows installer reconfigurou o produto. nome do produto: microsoft excel mui (portuguese (brazil)) 2013. versão do produto: 15.0.4569.1506. idioma do produto: 1046. fabricante: microsoft corporation. status de erro ou êxito da reconfiguração: 0.',\n",
              " 'informações\\t17/03/2018 20:15:08\\tmsiinstaller\\t1036\\tnenhum\\to windows installer instalou uma atualização. nome do produto: microsoft excel mui (portuguese (brazil)) 2013. versão do produto: 15.0.4569.1506. idioma do produto: 1046. fabricante: microsoft corporation. nome da atualização: security update for microsoft excel 2013 (kb4018291) 64-bit edition. status de erro ou êxito da instalação: 0.',\n",
              " 'informações\\t17/03/2018 20:14:57\\tmsiinstaller\\t1035\\tnenhum\\to windows installer reconfigurou o produto. nome do produto: microsoft lync mui (portuguese (brazil)) 2013. versão do produto: 15.0.4569.1506. idioma do produto: 1046. fabricante: microsoft corporation. status de erro ou êxito da reconfiguração: 0.',\n",
              " 'informações\\t17/03/2018 20:14:57\\tmsiinstaller\\t1036\\tnenhum\\to windows installer instalou uma atualização. nome do produto: microsoft lync mui (portuguese (brazil)) 2013. versão do produto: 15.0.4569.1506. idioma do produto: 1046. fabricante: microsoft corporation. nome da atualização: security update for microsoft word 2013 (kb4011695) 64-bit edition. status de erro ou êxito da instalação: 0.',\n",
              " 'informações\\t17/03/2018 20:14:53\\tmsiinstaller\\t1035\\tnenhum\\to windows installer reconfigurou o produto. nome do produto: microsoft office 32-bit components 2013. versão do produto: 15.0.4569.1506. idioma do produto: 0. fabricante: microsoft corporation. status de erro ou êxito da reconfiguração: 0.',\n",
              " 'informações\\t17/03/2018 20:14:53\\tmsiinstaller\\t1036\\tnenhum\\to windows installer instalou uma atualização. nome do produto: microsoft office 32-bit components 2013. versão do produto: 15.0.4569.1506. idioma do produto: 0. fabricante: microsoft corporation. nome da atualização: security update for microsoft word 2013 (kb4011695) 64-bit edition. status de erro ou êxito da instalação: 0.',\n",
              " 'informações\\t17/03/2018 20:14:49\\tmsiinstaller\\t1035\\tnenhum\\to windows installer reconfigurou o produto. nome do produto: microsoft office professional plus 2013. versão do produto: 15.0.4569.1506. idioma do produto: 0. fabricante: microsoft corporation. status de erro ou êxito da reconfiguração: 0.',\n",
              " 'informações\\t17/03/2018 20:14:49\\tmsiinstaller\\t1036\\tnenhum\\to windows installer instalou uma atualização. nome do produto: microsoft office professional plus 2013. versão do produto: 15.0.4569.1506. idioma do produto: 0. fabricante: microsoft corporation. nome da atualização: security update for microsoft word 2013 (kb4011695) 64-bit edition. status de erro ou êxito da instalação: 0.',\n",
              " 'informações\\t17/03/2018 20:14:14\\tmsiinstaller\\t1035\\tnenhum\\to windows installer reconfigurou o produto. nome do produto: microsoft word mui (portuguese (brazil)) 2013. versão do produto: 15.0.4569.1506. idioma do produto: 1046. fabricante: microsoft corporation. status de erro ou êxito da reconfiguração: 0.',\n",
              " 'informações\\t17/03/2018 20:14:14\\tmsiinstaller\\t1036\\tnenhum\\to windows installer instalou uma atualização. nome do produto: microsoft word mui (portuguese (brazil)) 2013. versão do produto: 15.0.4569.1506. idioma do produto: 1046. fabricante: microsoft corporation. nome da atualização: security update for microsoft word 2013 (kb4011695) 64-bit edition. status de erro ou êxito da instalação: 0.',\n",
              " 'informações\\t17/03/2018 20:14:06\\tmsiinstaller\\t1035\\tnenhum\\to windows installer reconfigurou o produto. nome do produto: microsoft outlook mui (portuguese (brazil)) 2013. versão do produto: 15.0.4569.1506. idioma do produto: 1046. fabricante: microsoft corporation. status de erro ou êxito da reconfiguração: 0.',\n",
              " 'informações\\t17/03/2018 20:14:06\\tmsiinstaller\\t1036\\tnenhum\\to windows installer instalou uma atualização. nome do produto: microsoft outlook mui (portuguese (brazil)) 2013. versão do produto: 15.0.4569.1506. idioma do produto: 1046. fabricante: microsoft corporation. nome da atualização: security update for microsoft word 2013 (kb4011695) 64-bit edition. status de erro ou êxito da instalação: 0.',\n",
              " 'informações\\t05/03/2018 13:29:46\\tmsiinstaller\\t1033\\tnenhum\\to windows installer instalou o produto. nome do produto: expresscache. versão do produto: 1.3.118.0. idioma do produto: 1033. fabricante: condusiv technologies. status de erro ou êxito da instalação: 0.',\n",
              " 'informações\\t05/03/2018 13:23:48\\tmsiinstaller\\t1034\\tnenhum\\to windows installer removeu o produto. nome do produto: expresscache. versão do produto: 1.3.118.0. idioma do produto: 1033. fabricante: condusiv technologies. status de erro ou êxito da remoção: 0.',\n",
              " 'aviso\\t05/03/2018 12:52:53\\tmicrosoft-windows-msdtc client 2\\t4104\\tcluster\\tfalha ao tentar obter o estado do nó do cluster: desktop-l50ks63.código de erro retornado: 0x8007085a',\n",
              " 'erro\\t05/03/2018 12:52:53\\tmicrosoft-windows-msdtc client 2\\t4104\\tcluster\\tfalha ao tentar obter o estado do nó do cluster: .código de erro retornado: 0x8007085a',\n",
              " 'aviso\\t05/03/2018 12:52:51\\tmicrosoft-windows-msdtc client 2\\t4879\\tcm\\tmsdtc encontrou um erro (hr=0x80000171) ao tentar estabelecer uma conexão segura com o sistema desktop-l50ks63.',\n",
              " 'erro\\t05/03/2018 12:50:37\\tesent\\t455\\tregistro em log/recuperação\\tmighost (5856,r,0) tilerepositorys-1-0-0: erro -1023 (0xfffffc01) ao abrir o arquivo de log c:\\\\users\\\\default\\\\appdata\\\\local\\\\tiledatalayer\\\\database\\\\edb.log.',\n",
              " 'erro\\t05/03/2018 12:50:11\\tmicrosoft-windows-msdtc client 2\\t4104\\tcluster\\tfalha ao tentar obter o estado do nó do cluster: .código de erro retornado: 0x8007085a',\n",
              " 'erro\\t05/03/2018 12:50:11\\tmicrosoft-windows-msdtc 2\\t4104\\tcluster\\tfalha ao tentar obter o estado do nó do cluster: .código de erro retornado: 0x8007085a',\n",
              " 'aviso\\t05/03/2018 12:50:10\\tmicrosoft-windows-msdtc client 2\\t4104\\tcluster\\tfalha ao tentar obter o estado do nó do cluster: desktop-l50ks63.código de erro retornado: 0x8007085a',\n",
              " 'erro\\t05/03/2018 12:50:10\\tmicrosoft-windows-msdtc client 2\\t4104\\tcluster\\tfalha ao tentar obter o estado do nó do cluster: .código de erro retornado: 0x8007085a']"
            ]
          },
          "execution_count": 17,
          "metadata": {},
          "output_type": "execute_result"
        }
      ],
      "source": [
        "# Pegar apenas as linhas que contém a palavra “erro”\n",
        "#rdd3 = rdd2.filter(lambda x: re.match('erro', x))\n",
        "rdd3 = rdd2.filter(lambda x: re.search(' erro ', x))\n",
        "rdd3.take(1000)"
      ]
    },
    {
      "cell_type": "code",
      "execution_count": 18,
      "metadata": {
        "colab": {
          "base_uri": "https://localhost:8080/"
        },
        "id": "89n5MNe2s1KZ",
        "outputId": "8e6b45a0-5bdc-482b-c795-c308ed2b4fe0"
      },
      "outputs": [
        {
          "data": {
            "text/plain": [
              "['erro',\n",
              " '21/04/2018',\n",
              " '18:56:11',\n",
              " 'vss',\n",
              " '8193',\n",
              " 'nenhum',\n",
              " '\"erro',\n",
              " 'do',\n",
              " 'serviço',\n",
              " 'de',\n",
              " 'cópias',\n",
              " 'de',\n",
              " 'sombra',\n",
              " 'de',\n",
              " 'volume:',\n",
              " 'erro',\n",
              " 'inesperado',\n",
              " 'ao',\n",
              " 'chamar',\n",
              " 'a',\n",
              " 'rotina',\n",
              " 'queryfullprocessimagenamew.',\n",
              " 'hr',\n",
              " '=',\n",
              " '0x8007001f,',\n",
              " 'um',\n",
              " 'dispositivo',\n",
              " 'conectado',\n",
              " 'ao',\n",
              " 'sistema',\n",
              " 'não',\n",
              " 'está',\n",
              " 'funcionando.',\n",
              " 'aviso',\n",
              " '15/04/2018',\n",
              " '21:14:25',\n",
              " 'microsoft-windows-appmodel-state',\n",
              " '20',\n",
              " 'nenhum',\n",
              " 'reparo',\n",
              " 'disparado',\n",
              " 'porque',\n",
              " 'a',\n",
              " 'operação',\n",
              " 'localsettings',\n",
              " 'com',\n",
              " 'o',\n",
              " 'pacote',\n",
              " 'microsoft.windows.contentdeliverymanager_cw5n1h2txyewy',\n",
              " 'encontrou',\n",
              " 'o',\n",
              " 'erro',\n",
              " '-2147009096.',\n",
              " 'aviso',\n",
              " '15/04/2018',\n",
              " '21:14:25',\n",
              " 'microsoft-windows-appmodel-state',\n",
              " '20',\n",
              " 'nenhum',\n",
              " 'reparo',\n",
              " 'disparado',\n",
              " 'porque',\n",
              " 'a',\n",
              " 'operação',\n",
              " 'localsettings',\n",
              " 'com',\n",
              " 'o',\n",
              " 'pacote',\n",
              " 'microsoft.windows.contentdeliverymanager_cw5n1h2txyewy',\n",
              " 'encontrou',\n",
              " 'o',\n",
              " 'erro',\n",
              " '-2147009096.',\n",
              " 'aviso',\n",
              " '15/04/2018',\n",
              " '21:14:25',\n",
              " 'microsoft-windows-appmodel-state',\n",
              " '20',\n",
              " 'nenhum',\n",
              " 'reparo',\n",
              " 'disparado',\n",
              " 'porque',\n",
              " 'a',\n",
              " 'operação',\n",
              " 'localsettings',\n",
              " 'com',\n",
              " 'o',\n",
              " 'pacote',\n",
              " 'microsoft.windows.contentdeliverymanager_cw5n1h2txyewy',\n",
              " 'encontrou',\n",
              " 'o',\n",
              " 'erro',\n",
              " '-2147009096.',\n",
              " 'aviso',\n",
              " '15/04/2018',\n",
              " '21:14:25',\n",
              " 'microsoft-windows-appmodel-state',\n",
              " '20',\n",
              " 'nenhum',\n",
              " 'reparo']"
            ]
          },
          "execution_count": 18,
          "metadata": {},
          "output_type": "execute_result"
        }
      ],
      "source": [
        "rdd4 = rdd3.flatMap(lambda x: x.split()) #Quebrar texto\n",
        "rdd4.take(100)"
      ]
    },
    {
      "cell_type": "code",
      "execution_count": 19,
      "metadata": {
        "colab": {
          "base_uri": "https://localhost:8080/"
        },
        "id": "7tScdo6gteCy",
        "outputId": "012d13d1-a761-4649-b820-764ef30bed09"
      },
      "outputs": [
        {
          "data": {
            "text/plain": [
              "5902"
            ]
          },
          "execution_count": 19,
          "metadata": {},
          "output_type": "execute_result"
        }
      ],
      "source": [
        "#Contar as palavras\n",
        "rdd44 = rdd4.count()\n",
        "rdd44"
      ]
    },
    {
      "cell_type": "code",
      "execution_count": 20,
      "metadata": {
        "colab": {
          "base_uri": "https://localhost:8080/"
        },
        "id": "30AMG4sws1xi",
        "outputId": "229abb36-8989-402c-8600-f3f2d5c2140d"
      },
      "outputs": [
        {
          "data": {
            "text/plain": [
              "[('do', 392),\n",
              " ('produto:', 378),\n",
              " ('microsoft', 266),\n",
              " ('o', 214),\n",
              " ('da', 181),\n",
              " ('nome', 181),\n",
              " ('0.', 180),\n",
              " ('erro', 147),\n",
              " ('de', 137),\n",
              " ('nenhum', 132),\n",
              " ('ou', 127),\n",
              " ('windows', 127),\n",
              " ('installer', 126),\n",
              " ('versão', 126),\n",
              " ('êxito', 126),\n",
              " ('informações', 126),\n",
              " ('msiinstaller', 126),\n",
              " ('idioma', 126),\n",
              " ('fabricante:', 126),\n",
              " ('status', 126),\n",
              " ('corporation.', 112),\n",
              " ('2013.', 106),\n",
              " ('15.0.4569.1506.', 106),\n",
              " ('office', 88),\n",
              " ('produto.', 71),\n",
              " ('instalou', 68),\n",
              " ('instalação:', 68),\n",
              " ('for', 60),\n",
              " ('10/04/2018', 58),\n",
              " ('update', 57),\n",
              " ('reconfiguração:', 56),\n",
              " ('uma', 56),\n",
              " ('1035', 56),\n",
              " ('reconfigurou', 56),\n",
              " ('atualização.', 55),\n",
              " ('atualização:', 55),\n",
              " ('1036', 55),\n",
              " ('64-bit', 54),\n",
              " ('edition.', 54),\n",
              " ('17/03/2018', 50),\n",
              " ('2013', 47),\n",
              " ('(portuguese', 46),\n",
              " ('mui', 46),\n",
              " ('(brazil))', 46),\n",
              " ('1046.', 46),\n",
              " ('professional', 32),\n",
              " ('32-bit', 32),\n",
              " ('plus', 32),\n",
              " ('security', 30),\n",
              " ('components', 28)]"
            ]
          },
          "execution_count": 20,
          "metadata": {},
          "output_type": "execute_result"
        }
      ],
      "source": [
        "# Ordenar pelas palavras que mais se repetem\n",
        "rddx = rdd4\n",
        "rdd5 = rddx.map(lambda x: (x,1)) #atribuir valor 1 em cada array\n",
        "rdd6 = rdd5.reduceByKey(lambda x,y: x+y) #agrupar por chave\n",
        "rdd7 = rdd6.sortBy(lambda x: x[1], False)\n",
        "#rdd8 = rdd7.filter(lambda x: len(x[0]) > 5)\n",
        "rdd7.take(50)"
      ]
    },
    {
      "cell_type": "code",
      "execution_count": 26,
      "metadata": {
        "id": "QSLxO_u2s8gk"
      },
      "outputs": [
        {
          "ename": "PermissionError",
          "evalue": "[WinError 5] Acesso negado: 'Dados/Resultados/Liu_Exercicio2_1.txt'",
          "output_type": "error",
          "traceback": [
            "\u001b[1;31m---------------------------------------------------------------------------\u001b[0m",
            "\u001b[1;31mPermissionError\u001b[0m                           Traceback (most recent call last)",
            "\u001b[1;32m~\\AppData\\Local\\Temp/ipykernel_2732/3266370458.py\u001b[0m in \u001b[0;36m<module>\u001b[1;34m\u001b[0m\n\u001b[0;32m      1\u001b[0m \u001b[1;31m# Salvar os resultados\u001b[0m\u001b[1;33m\u001b[0m\u001b[1;33m\u001b[0m\u001b[1;33m\u001b[0m\u001b[0m\n\u001b[0;32m      2\u001b[0m \u001b[0marquivoex2\u001b[0m \u001b[1;33m=\u001b[0m \u001b[1;34mr\"Dados/Resultados/Liu_Exercicio2_1.txt\"\u001b[0m\u001b[1;33m\u001b[0m\u001b[1;33m\u001b[0m\u001b[0m\n\u001b[1;32m----> 3\u001b[1;33m \u001b[0mos\u001b[0m\u001b[1;33m.\u001b[0m\u001b[0mremove\u001b[0m\u001b[1;33m(\u001b[0m\u001b[0marquivoex2\u001b[0m\u001b[1;33m)\u001b[0m\u001b[1;33m\u001b[0m\u001b[1;33m\u001b[0m\u001b[0m\n\u001b[0m\u001b[0;32m      4\u001b[0m \u001b[0mrdd7\u001b[0m\u001b[1;33m.\u001b[0m\u001b[0msaveAsTextFile\u001b[0m\u001b[1;33m(\u001b[0m\u001b[0marquivoex2\u001b[0m\u001b[1;33m)\u001b[0m\u001b[1;33m\u001b[0m\u001b[1;33m\u001b[0m\u001b[0m\n",
            "\u001b[1;31mPermissionError\u001b[0m: [WinError 5] Acesso negado: 'Dados/Resultados/Liu_Exercicio2_1.txt'"
          ]
        }
      ],
      "source": [
        "# Salvar os resultados\n",
        "arquivoex2 = r\"Dados/Resultados/Liu_Exercicio2_1.txt\"\n",
        "os.remove(arquivoex2)\n",
        "rdd7.saveAsTextFile(arquivoex2)"
      ]
    },
    {
      "cell_type": "code",
      "execution_count": null,
      "metadata": {
        "colab": {
          "base_uri": "https://localhost:8080/",
          "height": 1000
        },
        "id": "nHnzpAJTuK6W",
        "outputId": "a3d645ab-fb4b-453b-dc02-cc849b83b1b0"
      },
      "outputs": [],
      "source": [
        "# Exibir os 20 primeiros erros que mais ocorrem\n",
        "rdd8 = rdd4.map(lambda x: re.match('^0x[a-zA-Z0-9]'))\n",
        "rdd8.take(10)"
      ]
    },
    {
      "cell_type": "code",
      "execution_count": 28,
      "metadata": {
        "colab": {
          "base_uri": "https://localhost:8080/"
        },
        "id": "1e-MtW15s2tk",
        "outputId": "d4b51cf8-0d0e-4926-8961-901fbbb4b72b"
      },
      "outputs": [
        {
          "data": {
            "text/plain": [
              "['nível\\tdata e hora\\tfonte\\tidentificação do evento\\tcategoria da tarefa',\n",
              " 'informações\\t25/04/2018 21:09:11\\tvss\\t8224\\tnenhum\\to serviço vss está sendo desligado devido ao tempo limite ocioso. ',\n",
              " 'informações\\t25/04/2018 21:07:11\\tesent\\t916\\tgeral\\tsvchost (9132,g,0) o recurso beta esediskflushconsistency está habilitado em esent devido às configurações de modo de site beta 0x800000.',\n",
              " 'informações\\t25/04/2018 21:07:11\\tesent\\t916\\tgeral\\tdllhost (10820,g,0) o recurso beta esediskflushconsistency está habilitado em esent devido às configurações de modo de site beta 0x800000.',\n",
              " 'informações\\t25/04/2018 21:04:06\\tesent\\t916\\tgeral\\tsvchost (5812,g,0) o recurso beta esediskflushconsistency está habilitado em esent devido às configurações de modo de site beta 0x800000.',\n",
              " 'informações\\t25/04/2018 21:02:01\\tesent\\t916\\tgeral\\tdllhost (10820,g,0) o recurso beta esediskflushconsistency está habilitado em esent devido às configurações de modo de site beta 0x800000.',\n",
              " 'informações\\t25/04/2018 21:00:19\\tmicrosoft-windows-security-spp\\t16384\\tnenhum\\tserviço proteção de software agendado com êxito para reiniciar em 2018-05-21t20:35:19z. motivo: rulesengine.',\n",
              " 'informações\\t25/04/2018 20:59:49\\tmicrosoft-windows-security-spp\\t1003\\tnenhum\\t\"o serviço de proteção de software concluiu a verificação do status do licenciamento.',\n",
              " 'id do aplicativo=0ff1ce15-a989-479d-af46-f275c6370663',\n",
              " 'status do licenciamento=',\n",
              " '1: 2b88c4f2-ea8f-43cd-805e-4d41346e18a7, 1, 0 [(0 [0xc004f014, 0, 0], [(?)(?)(?)(?)(?)(?)(?)(?)])(1 )(2 )(3 )]',\n",
              " '2: b322da9c-a2e2-4058-9e4e-f59a6970bd69, 1, 1 [(0 [0x00000000, 1, 0], [(?)( 1 0x00000000)(?)( 2 0x00000000 0 0 msft:rm/algorithm/volume/1.0 0x00000000 253263)(?)(?)(?)(?)])(1 )(2 )(3 )]',\n",
              " '',\n",
              " '\"',\n",
              " 'informações\\t25/04/2018 20:56:42\\twindows error reporting\\t1001\\tnenhum\\t\"falha no bucket 1534166779183453381, tipo 5',\n",
              " 'nome do evento: radar_pre_leak_64',\n",
              " 'resposta: não disponível',\n",
              " 'id do cab: 0',\n",
              " '',\n",
              " 'assinatura do problema:',\n",
              " 'p1: microsoft.photos.exe',\n",
              " 'p2: 2018.18022.15810.0',\n",
              " 'p3: 10.0.16299.2.0.0',\n",
              " 'p4: ',\n",
              " 'p5: ',\n",
              " 'p6: ',\n",
              " 'p7: ',\n",
              " 'p8: ',\n",
              " 'p9: ',\n",
              " 'p10: ',\n",
              " '',\n",
              " 'arquivos anexados:',\n",
              " '\\\\\\\\?\\\\c:\\\\users\\\\everton\\\\appdata\\\\local\\\\temp\\\\rdref6d.tmp\\\\empty.txt',\n",
              " '\\\\\\\\?\\\\c:\\\\programdata\\\\microsoft\\\\windows\\\\wer\\\\temp\\\\weref6e.tmp.werinternalmetadata.xml',\n",
              " '\\\\\\\\?\\\\c:\\\\programdata\\\\microsoft\\\\windows\\\\wer\\\\temp\\\\werefda.tmp.csv',\n",
              " '\\\\\\\\?\\\\c:\\\\programdata\\\\microsoft\\\\windows\\\\wer\\\\temp\\\\werf00a.tmp.txt',\n",
              " '',\n",
              " 'esses arquivos podem estar disponíveis em:',\n",
              " '',\n",
              " '',\n",
              " 'símbolo da análise: ',\n",
              " 'verificando novamente solução: 0',\n",
              " 'id do relatório: 70424fd1-970e-4a52-8698-88a2357f53c3',\n",
              " 'status do relatório: 268435456',\n",
              " 'bucket com hash: 768b9693b543ff51454a748eab6f54c5\"',\n",
              " 'informações\\t25/04/2018 20:54:54\\tvss\\t8220\\tnenhum\\ttempo esgotado ao excluir arquivos. ',\n",
              " '',\n",
              " 'operação:',\n",
              " '   evento onpostsnapshot',\n",
              " '   evento postsnapshot',\n",
              " '',\n",
              " 'contexto:',\n",
              " '   contexto de execução: shadow copy optimization writer',\n",
              " '   contexto de execução: writer',\n",
              " '   id de classe de gravador: {4dc3bdd4-ab48-4d07-adb0-3bee2926fd7f}',\n",
              " '   nome do gravador: shadow copy optimization writer',\n",
              " '   id de instância de gravador: {01196234-7e5c-4be1-959d-e96021ae7ee2}',\n",
              " 'informações\\t25/04/2018 20:54:37\\tesent\\t916\\tgeral\\tsvchost (3348,g,50) o recurso beta esediskflushconsistency está habilitado em esent devido às configurações de modo de site beta 0x800000.',\n",
              " 'informações\\t25/04/2018 20:48:23\\tesent\\t916\\tgeral\\tsvchost (11880,g,0) o recurso beta esediskflushconsistency está habilitado em esent devido às configurações de modo de site beta 0x800000.',\n",
              " 'informações\\t25/04/2018 20:46:56\\tmicrosoft-windows-security-spp\\t16384\\tnenhum\\tserviço proteção de software agendado com êxito para reiniciar em 2018-05-21t20:35:56z. motivo: rulesengine.',\n",
              " 'informações\\t25/04/2018 20:46:12\\tesent\\t916\\tgeral\\tsvchost (8280,g,0) o recurso beta esediskflushconsistency está habilitado em esent devido às configurações de modo de site beta 0x800000.',\n",
              " 'informações\\t25/04/2018 20:46:12\\tmicrosoft-windows-security-spp\\t1003\\tnenhum\\t\"o serviço de proteção de software concluiu a verificação do status do licenciamento.',\n",
              " 'id do aplicativo=0ff1ce15-a989-479d-af46-f275c6370663',\n",
              " 'status do licenciamento=',\n",
              " '1: 2b88c4f2-ea8f-43cd-805e-4d41346e18a7, 1, 0 [(0 [0xc004f014, 0, 0], [(?)(?)(?)(?)(?)(?)(?)(?)])(1 )(2 )(3 )]',\n",
              " '2: b322da9c-a2e2-4058-9e4e-f59a6970bd69, 1, 1 [(0 [0x00000000, 1, 0], [(?)( 1 0x00000000)(?)( 2 0x00000000 0 0 msft:rm/algorithm/volume/1.0 0x00000000 253276)(?)(?)(?)(?)])(1 )(2 )(3 )]',\n",
              " '',\n",
              " '\"',\n",
              " 'informações\\t25/04/2018 20:43:36\\tesent\\t916\\tgeral\\tsvchost (3976,g,0) o recurso beta esediskflushconsistency está habilitado em esent devido às configurações de modo de site beta 0x800000.',\n",
              " 'informações\\t25/04/2018 20:43:14\\tesent\\t916\\tgeral\\ttaskhostw (1332,g,0) o recurso beta esediskflushconsistency está habilitado em esent devido às configurações de modo de site beta 0x800000.',\n",
              " 'informações\\t25/04/2018 20:43:13\\tesent\\t916\\tgeral\\ttaskhostw (1332,g,0) o recurso beta esediskflushconsistency está habilitado em esent devido às configurações de modo de site beta 0x800000.',\n",
              " 'informações\\t25/04/2018 20:43:13\\tigfxcuiservice1.0.0.0\\t0\\tnenhum\\t\"não é possível localizar a descrição da identificação de evento 0 na origem \"\"igfxcuiservice1.0.0.0\"\". o componente que gera esse evento não está instalado no computador local ou a instalação está danificada. você pode instalar ou reparar o componente no computador local.',\n",
              " '',\n",
              " 'se o evento foi originado em outro computador, as informações de exibição tiveram que ser salvas com o evento.',\n",
              " '',\n",
              " 'as seguintes informações foram incluídas com o evento: ',\n",
              " '',\n",
              " 'received post shell event 4',\n",
              " '',\n",
              " '\"',\n",
              " 'informações\\t25/04/2018 20:43:13\\tmicrosoft-windows-winlogon\\t6000\\tnenhum\\to assinante de notificação do winlogon <sessionenv> não estava disponível para tratar de um evento de notificação.',\n",
              " 'informações\\t25/04/2018 20:43:12\\tigfxcuiservice1.0.0.0\\t0\\tnenhum\\t\"não é possível localizar a descrição da identificação de evento 0 na origem \"\"igfxcuiservice1.0.0.0\"\". o componente que gera esse evento não está instalado no computador local ou a instalação está danificada. você pode instalar ou reparar o componente no computador local.',\n",
              " '',\n",
              " 'se o evento foi originado em outro computador, as informações de exibição tiveram que ser salvas com o evento.',\n",
              " '',\n",
              " 'as seguintes informações foram incluídas com o evento: ',\n",
              " '',\n",
              " 'logon: 4',\n",
              " '',\n",
              " '\"',\n",
              " 'informações\\t25/04/2018 20:43:12\\tigfxcuiservice1.0.0.0\\t0\\tnenhum\\t\"não é possível localizar a descrição da identificação de evento 0 na origem \"\"igfxcuiservice1.0.0.0\"\". o componente que gera esse evento não está instalado no computador local ou a instalação está danificada. você pode instalar ou reparar o componente no computador local.',\n",
              " '',\n",
              " 'se o evento foi originado em outro computador, as informações de exibição tiveram que ser salvas com o evento.',\n",
              " '',\n",
              " 'as seguintes informações foram incluídas com o evento: ',\n",
              " '',\n",
              " 'log on event received user1',\n",
              " '',\n",
              " '\"',\n",
              " 'informações\\t25/04/2018 20:43:12\\tesent\\t916\\tgeral\\tsvchost (7796,g,50) o recurso beta esediskflushconsistency está habilitado em esent devido às configurações de modo de site beta 0x800000.',\n",
              " 'informações\\t25/04/2018 20:43:12\\tmicrosoft-windows-winlogon\\t6003\\tnenhum\\to assinante de notificação do winlogon <sessionenv> não estava disponível para tratar de um evento de notificação crítico.',\n",
              " 'erro\\t25/04/2018 20:43:11\\tdptf\\t256\\tgeneral\\tintel(r) dynamic platform and thermal framework : esif(8.1.10603.192) type: error',\n",
              " '',\n",
              " 'dptf build version:  8.1.10603.192',\n",
              " 'dptf build date:  aug  7 2015 10:44:44',\n",
              " 'source file:  ..\\\\..\\\\..\\\\..\\\\sources\\\\policies\\\\configtdppolicy\\\\configtdppolicy.cpp @ line 183',\n",
              " 'executing function:  configtdppolicy::ondomainpowercontrolcapabilitychanged',\n",
              " 'message:  datalength is invalid.',\n",
              " 'participant:  tcpu [6]',\n",
              " 'domain:  pkg [0]',\n",
              " 'policy:  configtdp policy [0]',\n",
              " ' ',\n",
              " 'informações\\t23/04/2018 22:39:23\\tesent\\t916\\tgeral\\tsvchost (3328,g,0) o recurso beta esediskflushconsistency está habilitado em esent devido às configurações de modo de site beta 0x800000.',\n",
              " 'informações\\t23/04/2018 22:39:22\\tmicrosoft-windows-user profiles service\\t1530\\tnenhum\\t\"o windows detectou que o arquivo do registro ainda está em uso por outros aplicativos ou serviços. o arquivo será descarregado agora. os aplicativos ou serviços que usam o arquivo do registro poderão não funcionar corretamente depois disso.  ',\n",
              " '',\n",
              " ' detalhe - ',\n",
              " ' 17 user registry handles leaked from \\\\registry\\\\user\\\\s-1-5-21-3353191766-2097756143-14551231-1001_classes:',\n",
              " 'process 2712 (\\\\device\\\\harddiskvolume4\\\\windows\\\\system32\\\\svchost.exe) has opened key \\\\registry\\\\user\\\\s-1-5-21-3353191766-2097756143-14551231-1001_classes',\n",
              " 'process 2712 (\\\\device\\\\harddiskvolume4\\\\windows\\\\system32\\\\svchost.exe) has opened key \\\\registry\\\\user\\\\s-1-5-21-3353191766-2097756143-14551231-1001_classes',\n",
              " 'process 2712 (\\\\device\\\\harddiskvolume4\\\\windows\\\\system32\\\\svchost.exe) has opened key \\\\registry\\\\user\\\\s-1-5-21-3353191766-2097756143-14551231-1001_classes',\n",
              " 'process 1500 (\\\\device\\\\harddiskvolume4\\\\windows\\\\system32\\\\svchost.exe) has opened key \\\\registry\\\\user\\\\s-1-5-21-3353191766-2097756143-14551231-1001_classes',\n",
              " 'process 1500 (\\\\device\\\\harddiskvolume4\\\\windows\\\\system32\\\\svchost.exe) has opened key \\\\registry\\\\user\\\\s-1-5-21-3353191766-2097756143-14551231-1001_classes',\n",
              " 'process 8776 (\\\\device\\\\harddiskvolume4\\\\windows\\\\system32\\\\svchost.exe) has opened key \\\\registry\\\\user\\\\s-1-5-21-3353191766-2097756143-14551231-1001_classes',\n",
              " 'process 8776 (\\\\device\\\\harddiskvolume4\\\\windows\\\\system32\\\\svchost.exe) has opened key \\\\registry\\\\user\\\\s-1-5-21-3353191766-2097756143-14551231-1001_classes',\n",
              " 'process 8776 (\\\\device\\\\harddiskvolume4\\\\windows\\\\system32\\\\svchost.exe) has opened key \\\\registry\\\\user\\\\s-1-5-21-3353191766-2097756143-14551231-1001_classes',\n",
              " 'process 1500 (\\\\device\\\\harddiskvolume4\\\\windows\\\\system32\\\\svchost.exe) has opened key \\\\registry\\\\user\\\\s-1-5-21-3353191766-2097756143-14551231-1001_classes',\n",
              " 'process 3020 (\\\\device\\\\harddiskvolume4\\\\windows\\\\temp\\\\dptf\\\\esif_assist_64.exe) has opened key \\\\registry\\\\user\\\\s-1-5-21-3353191766-2097756143-14551231-1001_classes\\\\local settings',\n",
              " 'process 1500 (\\\\device\\\\harddiskvolume4\\\\windows\\\\system32\\\\svchost.exe) has opened key \\\\registry\\\\user\\\\s-1-5-21-3353191766-2097756143-14551231-1001_classes\\\\local settings',\n",
              " 'process 7428 (\\\\device\\\\harddiskvolume4\\\\program files\\\\diebold\\\\warsaw\\\\core.exe) has opened key \\\\registry\\\\user\\\\s-1-5-21-3353191766-2097756143-14551231-1001_classes\\\\local settings',\n",
              " 'process 2712 (\\\\device\\\\harddiskvolume4\\\\windows\\\\system32\\\\svchost.exe) has opened key \\\\registry\\\\user\\\\s-1-5-21-3353191766-2097756143-14551231-1001_classes\\\\local settings',\n",
              " 'process 1500 (\\\\device\\\\harddiskvolume4\\\\windows\\\\system32\\\\svchost.exe) has opened key \\\\registry\\\\user\\\\s-1-5-21-3353191766-2097756143-14551231-1001_classes\\\\local settings\\\\software\\\\microsoft',\n",
              " 'process 2712 (\\\\device\\\\harddiskvolume4\\\\windows\\\\system32\\\\svchost.exe) has opened key \\\\registry\\\\user\\\\s-1-5-21-3353191766-2097756143-14551231-1001_classes\\\\local settings\\\\software\\\\microsoft',\n",
              " 'process 3020 (\\\\device\\\\harddiskvolume4\\\\windows\\\\temp\\\\dptf\\\\esif_assist_64.exe) has opened key \\\\registry\\\\user\\\\s-1-5-21-3353191766-2097756143-14551231-1001_classes\\\\local settings\\\\software\\\\microsoft',\n",
              " 'process 7428 (\\\\device\\\\harddiskvolume4\\\\program files\\\\diebold\\\\warsaw\\\\core.exe) has opened key \\\\registry\\\\user\\\\s-1-5-21-3353191766-2097756143-14551231-1001_classes\\\\local settings\\\\software\\\\microsoft',\n",
              " '\"',\n",
              " 'informações\\t23/04/2018 22:39:23\\tesent\\t916\\tgeral\\tdllhost (11596,g,0) o recurso beta esediskflushconsistency está habilitado em esent devido às configurações de modo de site beta 0x800000.',\n",
              " 'informações\\t23/04/2018 22:39:22\\tmicrosoft-windows-winlogon\\t6000\\tnenhum\\to assinante de notificação do winlogon <sessionenv> não estava disponível para tratar de um evento de notificação.',\n",
              " 'informações\\t23/04/2018 22:39:22\\tmicrosoft-windows-user profiles service\\t1530\\tnenhum\\t\"o windows detectou que o arquivo do registro ainda está em uso por outros aplicativos ou serviços. o arquivo será descarregado agora. os aplicativos ou serviços que usam o arquivo do registro poderão não funcionar corretamente depois disso.  ',\n",
              " '',\n",
              " ' detalhe - ',\n",
              " ' 35 user registry handles leaked from \\\\registry\\\\user\\\\s-1-5-21-3353191766-2097756143-14551231-1001:',\n",
              " 'process 1480 (\\\\device\\\\harddiskvolume4\\\\windows\\\\system32\\\\winlogon.exe) has opened key \\\\registry\\\\user\\\\s-1-5-21-3353191766-2097756143-14551231-1001',\n",
              " 'process 7428 (\\\\device\\\\harddiskvolume4\\\\program files\\\\diebold\\\\warsaw\\\\core.exe) has opened key \\\\registry\\\\user\\\\s-1-5-21-3353191766-2097756143-14551231-1001',\n",
              " 'process 7428 (\\\\device\\\\harddiskvolume4\\\\program files\\\\diebold\\\\warsaw\\\\core.exe) has opened key \\\\registry\\\\user\\\\s-1-5-21-3353191766-2097756143-14551231-1001',\n",
              " 'process 7428 (\\\\device\\\\harddiskvolume4\\\\program files\\\\diebold\\\\warsaw\\\\core.exe) has opened key \\\\registry\\\\user\\\\s-1-5-21-3353191766-2097756143-14551231-1001',\n",
              " 'process 7428 (\\\\device\\\\harddiskvolume4\\\\program files\\\\diebold\\\\warsaw\\\\core.exe) has opened key \\\\registry\\\\user\\\\s-1-5-21-3353191766-2097756143-14551231-1001',\n",
              " 'process 7428 (\\\\device\\\\harddiskvolume4\\\\program files\\\\diebold\\\\warsaw\\\\core.exe) has opened key \\\\registry\\\\user\\\\s-1-5-21-3353191766-2097756143-14551231-1001\\\\software\\\\microsoft\\\\systemcertificates\\\\ca',\n",
              " 'process 1180 (\\\\device\\\\harddiskvolume4\\\\windows\\\\system32\\\\svchost.exe) has opened key \\\\registry\\\\user\\\\s-1-5-21-3353191766-2097756143-14551231-1001\\\\system\\\\gameconfigstore\\\\parents',\n",
              " 'process 8776 (\\\\device\\\\harddiskvolume4\\\\windows\\\\system32\\\\svchost.exe) has opened key \\\\registry\\\\user\\\\s-1-5-21-3353191766-2097756143-14551231-1001\\\\software\\\\microsoft\\\\commsaphost\\\\test',\n",
              " 'process 7428 (\\\\device\\\\harddiskvolume4\\\\program files\\\\diebold\\\\warsaw\\\\core.exe) has opened key \\\\registry\\\\user\\\\s-1-5-21-3353191766-2097756143-14551231-1001\\\\software\\\\policies\\\\microsoft\\\\systemcertificates',\n",
              " 'process 7428 (\\\\device\\\\harddiskvolume4\\\\program files\\\\diebold\\\\warsaw\\\\core.exe) has opened key \\\\registry\\\\user\\\\s-1-5-21-3353191766-2097756143-14551231-1001\\\\software\\\\microsoft\\\\systemcertificates\\\\trust',\n",
              " 'process 1180 (\\\\device\\\\harddiskvolume4\\\\windows\\\\system32\\\\svchost.exe) has opened key \\\\registry\\\\user\\\\s-1-5-21-3353191766-2097756143-14551231-1001\\\\system\\\\gameconfigstore',\n",
              " 'process 3312 (\\\\device\\\\harddiskvolume4\\\\windows\\\\system32\\\\svchost.exe) has opened key \\\\registry\\\\user\\\\s-1-5-21-3353191766-2097756143-14551231-1001\\\\software\\\\policies\\\\microsoft\\\\windows\\\\cloudcontent',\n",
              " 'process 2712 (\\\\device\\\\harddiskvolume4\\\\windows\\\\system32\\\\svchost.exe) has opened key \\\\registry\\\\user\\\\s-1-5-21-3353191766-2097756143-14551231-1001\\\\software\\\\microsoft\\\\windows\\\\currentversion\\\\pushnotifications',\n",
              " 'process 9072 (\\\\device\\\\harddiskvolume4\\\\windows\\\\system32\\\\svchost.exe) has opened key \\\\registry\\\\user\\\\s-1-5-21-3353191766-2097756143-14551231-1001\\\\software\\\\microsoft\\\\windows\\\\currentversion\\\\uninstall',\n",
              " 'process 2712 (\\\\device\\\\harddiskvolume4\\\\windows\\\\system32\\\\svchost.exe) has opened key \\\\registry\\\\user\\\\s-1-5-21-3353191766-2097756143-14551231-1001\\\\software\\\\microsoft\\\\windows\\\\currentversion\\\\explorer',\n",
              " 'process 1500 (\\\\device\\\\harddiskvolume4\\\\windows\\\\system32\\\\svchost.exe) has opened key \\\\registry\\\\user\\\\s-1-5-21-3353191766-2097756143-14551231-1001\\\\software\\\\microsoft\\\\windows\\\\currentversion\\\\internet settings',\n",
              " 'process 2712 (\\\\device\\\\harddiskvolume4\\\\windows\\\\system32\\\\svchost.exe) has opened key \\\\registry\\\\user\\\\s-1-5-21-3353191766-2097756143-14551231-1001\\\\software\\\\microsoft\\\\windows\\\\currentversion\\\\internet settings',\n",
              " 'process 3312 (\\\\device\\\\harddiskvolume4\\\\windows\\\\system32\\\\svchost.exe) has opened key \\\\registry\\\\user\\\\s-1-5-21-3353191766-2097756143-14551231-1001\\\\software\\\\microsoft\\\\windows\\\\currentversion\\\\privacy',\n",
              " 'process 7428 (\\\\device\\\\harddiskvolume4\\\\program files\\\\diebold\\\\warsaw\\\\core.exe) has opened key \\\\registry\\\\user\\\\s-1-5-21-3353191766-2097756143-14551231-1001\\\\software\\\\microsoft\\\\systemcertificates\\\\trustedpeople',\n",
              " 'process 2712 (\\\\device\\\\harddiskvolume4\\\\windows\\\\system32\\\\svchost.exe) has opened key \\\\registry\\\\user\\\\s-1-5-21-3353191766-2097756143-14551231-1001\\\\software\\\\microsoft\\\\internet explorer\\\\main\\\\featurecontrol',\n",
              " 'process 1500 (\\\\device\\\\harddiskvolume4\\\\windows\\\\system32\\\\svchost.exe) has opened key \\\\registry\\\\user\\\\s-1-5-21-3353191766-2097756143-14551231-1001\\\\software\\\\microsoft\\\\internet explorer\\\\main\\\\featurecontrol',\n",
              " 'process 3312 (\\\\device\\\\harddiskvolume4\\\\windows\\\\system32\\\\svchost.exe) has opened key \\\\registry\\\\user\\\\s-1-5-21-3353191766-2097756143-14551231-1001\\\\software\\\\policies\\\\microsoft\\\\windows\\\\datacollection',\n",
              " 'process 1500 (\\\\device\\\\harddiskvolume4\\\\windows\\\\system32\\\\svchost.exe) has opened key \\\\registry\\\\user\\\\s-1-5-21-3353191766-2097756143-14551231-1001\\\\software\\\\policies\\\\microsoft\\\\windows\\\\currentversion\\\\internet settings',\n",
              " 'process 2712 (\\\\device\\\\harddiskvolume4\\\\windows\\\\system32\\\\svchost.exe) has opened key \\\\registry\\\\user\\\\s-1-5-21-3353191766-2097756143-14551231-1001\\\\software\\\\policies\\\\microsoft\\\\windows\\\\currentversion\\\\internet settings',\n",
              " 'process 2712 (\\\\device\\\\harddiskvolume4\\\\windows\\\\system32\\\\svchost.exe) has opened key \\\\registry\\\\user\\\\s-1-5-21-3353191766-2097756143-14551231-1001\\\\software\\\\microsoft\\\\internet explorer\\\\main',\n",
              " 'process 1500 (\\\\device\\\\harddiskvolume4\\\\windows\\\\system32\\\\svchost.exe) has opened key \\\\registry\\\\user\\\\s-1-5-21-3353191766-2097756143-14551231-1001\\\\software\\\\microsoft\\\\internet explorer\\\\main',\n",
              " 'process 7428 (\\\\device\\\\harddiskvolume4\\\\program files\\\\diebold\\\\warsaw\\\\core.exe) has opened key \\\\registry\\\\user\\\\s-1-5-21-3353191766-2097756143-14551231-1001\\\\software\\\\microsoft\\\\systemcertificates\\\\root',\n",
              " 'process 7428 (\\\\device\\\\harddiskvolume4\\\\program files\\\\diebold\\\\warsaw\\\\core.exe) has opened key \\\\registry\\\\user\\\\s-1-5-21-3353191766-2097756143-14551231-1001\\\\software\\\\microsoft\\\\systemcertificates\\\\disallowed',\n",
              " 'process 6592 (<unknown>) has opened key \\\\registry\\\\user\\\\s-1-5-21-3353191766-2097756143-14551231-1001\\\\software\\\\microsoft\\\\windows nt\\\\currentversion\\\\fonts',\n",
              " 'process 1180 (\\\\device\\\\harddiskvolume4\\\\windows\\\\system32\\\\svchost.exe) has opened key \\\\registry\\\\user\\\\s-1-5-21-3353191766-2097756143-14551231-1001\\\\system\\\\gameconfigstore\\\\children',\n",
              " 'process 2712 (\\\\device\\\\harddiskvolume4\\\\windows\\\\system32\\\\svchost.exe) has opened key \\\\registry\\\\user\\\\s-1-5-21-3353191766-2097756143-14551231-1001\\\\software\\\\microsoft\\\\internet explorer\\\\security',\n",
              " 'process 1500 (\\\\device\\\\harddiskvolume4\\\\windows\\\\system32\\\\svchost.exe) has opened key \\\\registry\\\\user\\\\s-1-5-21-3353191766-2097756143-14551231-1001\\\\software\\\\microsoft\\\\internet explorer\\\\security',\n",
              " 'process 2712 (\\\\device\\\\harddiskvolume4\\\\windows\\\\system32\\\\svchost.exe) has opened key \\\\registry\\\\user\\\\s-1-5-21-3353191766-2097756143-14551231-1001\\\\software\\\\microsoft\\\\windows\\\\currentversion\\\\pushnotifications\\\\wpnidm',\n",
              " 'process 7428 (\\\\device\\\\harddiskvolume4\\\\program files\\\\diebold\\\\warsaw\\\\core.exe) has opened key \\\\registry\\\\user\\\\s-1-5-21-3353191766-2097756143-14551231-1001\\\\software\\\\microsoft\\\\systemcertificates\\\\smartcardroot',\n",
              " 'process 1500 (\\\\device\\\\harddiskvolume4\\\\windows\\\\system32\\\\svchost.exe) has opened key \\\\registry\\\\user\\\\s-1-5-21-3353191766-2097756143-14551231-1001\\\\software\\\\microsoft\\\\windows\\\\currentversion\\\\mobility',\n",
              " '\"',\n",
              " 'informações\\t23/04/2018 22:39:22\\tigfxcuiservice1.0.0.0\\t0\\tnenhum\\t\"não é possível localizar a descrição da identificação de evento 0 na origem \"\"igfxcuiservice1.0.0.0\"\". o componente que gera esse evento não está instalado no computador local ou a instalação está danificada. você pode instalar ou reparar o componente no computador local.',\n",
              " '',\n",
              " 'se o evento foi originado em outro computador, as informações de exibição tiveram que ser salvas com o evento.',\n",
              " '',\n",
              " 'as seguintes informações foram incluídas com o evento: ',\n",
              " '',\n",
              " ' logoff: 3',\n",
              " '',\n",
              " '\"',\n",
              " 'informações\\t23/04/2018 22:39:22\\tigfxcuiservice1.0.0.0\\t0\\tnenhum\\t\"não é possível localizar a descrição da identificação de evento 0 na origem \"\"igfxcuiservice1.0.0.0\"\". o componente que gera esse evento não está instalado no computador local ou a instalação está danificada. você pode instalar ou reparar o componente no computador local.',\n",
              " '',\n",
              " 'se o evento foi originado em outro computador, as informações de exibição tiveram que ser salvas com o evento.',\n",
              " '',\n",
              " 'as seguintes informações foram incluídas com o evento: ',\n",
              " '',\n",
              " ' logoff: test',\n",
              " '',\n",
              " '\"',\n",
              " 'informações\\t23/04/2018 22:39:21\\tdesktop window manager\\t9027\\tnenhum\\to gerenciador de janelas da área de trabalho registrou a porta da sessão.',\n",
              " 'informações\\t23/04/2018 22:39:12\\tesent\\t916\\tgeral\\tmicrosoftedge (7268,g,0) o recurso beta esediskflushconsistency está habilitado em esent devido às configurações de modo de site beta 0x800000.',\n",
              " 'informações\\t23/04/2018 22:27:37\\twindows error reporting\\t1001\\tnenhum\\t\"falha no bucket 127983441306, tipo 5',\n",
              " 'nome do evento: windowsnonfatalsuspecteddeadlock',\n",
              " 'resposta: não disponível',\n",
              " 'id do cab: 0',\n",
              " '',\n",
              " 'assinatura do problema:',\n",
              " 'p1: 2',\n",
              " 'p2: unknown',\n",
              " 'p3: geolocation.dll',\n",
              " 'p4: getgeopositionoperationimpl',\n",
              " 'p5: 420000',\n",
              " 'p6: windows::devices::geolocation::getgeopositionoperationimpl::initializeandstart',\n",
              " 'p7: ',\n",
              " 'p8: ',\n",
              " 'p9: ',\n",
              " 'p10: ',\n",
              " '',\n",
              " 'arquivos anexados:',\n",
              " '\\\\\\\\?\\\\c:\\\\programdata\\\\microsoft\\\\windows\\\\wer\\\\temp\\\\wer7a9e.tmp.werinternalmetadata.xml',\n",
              " '',\n",
              " 'esses arquivos podem estar disponíveis em:',\n",
              " 'c:\\\\programdata\\\\microsoft\\\\windows\\\\wer\\\\reportarchive\\\\noncritical_2_f2d98841ee2bcd5605336a51b671781648283_00000000_27e27f7f',\n",
              " '',\n",
              " 'símbolo da análise: ',\n",
              " 'verificando novamente solução: 0',\n",
              " 'id do relatório: 4b19bc23-475a-4ce6-b878-25dc775c26cd',\n",
              " 'status do relatório: 268435456',\n",
              " 'bucket com hash: b903f13bfce510faf0ee362f905bee82\"',\n",
              " 'informações\\t23/04/2018 22:27:36\\twindows error reporting\\t1001\\tnenhum\\t\"falha no bucket 127983441306, tipo 5',\n",
              " 'nome do evento: windowsnonfatalsuspecteddeadlock',\n",
              " 'resposta: não disponível',\n",
              " 'id do cab: 0',\n",
              " '',\n",
              " 'assinatura do problema:',\n",
              " 'p1: 2',\n",
              " 'p2: unknown',\n",
              " 'p3: geolocation.dll',\n",
              " 'p4: getgeopositionoperationimpl',\n",
              " 'p5: 420000',\n",
              " 'p6: windows::devices::geolocation::getgeopositionoperationimpl::initializeandstart',\n",
              " 'p7: ',\n",
              " 'p8: ',\n",
              " 'p9: ',\n",
              " 'p10: ',\n",
              " '',\n",
              " 'arquivos anexados:',\n",
              " '\\\\\\\\?\\\\c:\\\\programdata\\\\microsoft\\\\windows\\\\wer\\\\temp\\\\wer6fdf.tmp.werinternalmetadata.xml',\n",
              " '',\n",
              " 'esses arquivos podem estar disponíveis em:',\n",
              " 'c:\\\\programdata\\\\microsoft\\\\windows\\\\wer\\\\reportarchive\\\\noncritical_2_f2d98841ee2bcd5605336a51b671781648283_00000000_27e27a4e',\n",
              " '',\n",
              " 'símbolo da análise: ',\n",
              " 'verificando novamente solução: 0',\n",
              " 'id do relatório: 7da89ea2-c830-457a-9411-ba98ab50e787',\n",
              " 'status do relatório: 268435456',\n",
              " 'bucket com hash: b903f13bfce510faf0ee362f905bee82\"',\n",
              " 'informações\\t23/04/2018 22:27:33\\twindows error reporting\\t1001\\tnenhum\\t\"falha no bucket , tipo 0',\n",
              " 'nome do evento: windowsnonfatalsuspecteddeadlock',\n",
              " 'resposta: não disponível',\n",
              " 'id do cab: 0',\n",
              " '',\n",
              " 'assinatura do problema:',\n",
              " 'p1: 2',\n",
              " 'p2: unknown',\n",
              " 'p3: geolocation.dll',\n",
              " 'p4: getgeopositionoperationimpl',\n",
              " 'p5: 420000',\n",
              " 'p6: windows::devices::geolocation::getgeopositionoperationimpl::initializeandstart',\n",
              " 'p7: ',\n",
              " 'p8: ',\n",
              " 'p9: ',\n",
              " 'p10: ',\n",
              " '',\n",
              " 'arquivos anexados:',\n",
              " '',\n",
              " 'esses arquivos podem estar disponíveis em:',\n",
              " '',\n",
              " '',\n",
              " 'símbolo da análise: ',\n",
              " 'verificando novamente solução: 0',\n",
              " 'id do relatório: 4b19bc23-475a-4ce6-b878-25dc775c26cd',\n",
              " 'status do relatório: 262148',\n",
              " 'bucket com hash: \"',\n",
              " 'informações\\t23/04/2018 22:27:33\\twindows error reporting\\t1001\\tnenhum\\t\"falha no bucket , tipo 0',\n",
              " 'nome do evento: windowsnonfatalsuspecteddeadlock',\n",
              " 'resposta: não disponível',\n",
              " 'id do cab: 0',\n",
              " '',\n",
              " 'assinatura do problema:',\n",
              " 'p1: 2',\n",
              " 'p2: unknown',\n",
              " 'p3: geolocation.dll',\n",
              " 'p4: getgeopositionoperationimpl',\n",
              " 'p5: 420000',\n",
              " 'p6: windows::devices::geolocation::getgeopositionoperationimpl::initializeandstart',\n",
              " 'p7: ',\n",
              " 'p8: ',\n",
              " 'p9: ',\n",
              " 'p10: ',\n",
              " '',\n",
              " 'arquivos anexados:',\n",
              " '',\n",
              " 'esses arquivos podem estar disponíveis em:',\n",
              " '',\n",
              " '',\n",
              " 'símbolo da análise: ',\n",
              " 'verificando novamente solução: 0',\n",
              " 'id do relatório: 7da89ea2-c830-457a-9411-ba98ab50e787',\n",
              " 'status do relatório: 262148',\n",
              " 'bucket com hash: \"',\n",
              " 'informações\\t23/04/2018 22:27:33\\twindows error reporting\\t1001\\tnenhum\\t\"falha no bucket , tipo 0',\n",
              " 'nome do evento: windowsnonfatalsuspecteddeadlock',\n",
              " 'resposta: não disponível',\n",
              " 'id do cab: 0',\n",
              " '',\n",
              " 'assinatura do problema:',\n",
              " 'p1: 2',\n",
              " 'p2: unknown',\n",
              " 'p3: geolocation.dll',\n",
              " 'p4: getgeopositionoperationimpl',\n",
              " 'p5: 420000',\n",
              " 'p6: windows::devices::geolocation::getgeopositionoperationimpl::initializeandstart',\n",
              " 'p7: ',\n",
              " 'p8: ',\n",
              " 'p9: ',\n",
              " 'p10: ',\n",
              " '',\n",
              " 'arquivos anexados:',\n",
              " '',\n",
              " 'esses arquivos podem estar disponíveis em:',\n",
              " 'c:\\\\programdata\\\\microsoft\\\\windows\\\\wer\\\\reportqueue\\\\noncritical_2_f2d98841ee2bcd5605336a51b671781648283_00000000_15526f42',\n",
              " '',\n",
              " 'símbolo da análise: ',\n",
              " 'verificando novamente solução: 0',\n",
              " 'id do relatório: 4b19bc23-475a-4ce6-b878-25dc775c26cd',\n",
              " 'status do relatório: 4',\n",
              " 'bucket com hash: \"',\n",
              " 'informações\\t23/04/2018 22:27:33\\twindows error reporting\\t1001\\tnenhum\\t\"falha no bucket , tipo 0',\n",
              " 'nome do evento: windowsnonfatalsuspecteddeadlock',\n",
              " 'resposta: não disponível',\n",
              " 'id do cab: 0',\n",
              " '',\n",
              " 'assinatura do problema:',\n",
              " 'p1: 2',\n",
              " 'p2: unknown',\n",
              " 'p3: geolocation.dll',\n",
              " 'p4: getgeopositionoperationimpl',\n",
              " 'p5: 420000',\n",
              " 'p6: windows::devices::geolocation::getgeopositionoperationimpl::initializeandstart',\n",
              " 'p7: ',\n",
              " 'p8: ',\n",
              " 'p9: ',\n",
              " 'p10: ',\n",
              " '',\n",
              " 'arquivos anexados:',\n",
              " '',\n",
              " 'esses arquivos podem estar disponíveis em:',\n",
              " 'c:\\\\programdata\\\\microsoft\\\\windows\\\\wer\\\\reportqueue\\\\noncritical_2_f2d98841ee2bcd5605336a51b671781648283_00000000_035a6f33',\n",
              " '',\n",
              " 'símbolo da análise: ',\n",
              " 'verificando novamente solução: 0',\n",
              " 'id do relatório: 7da89ea2-c830-457a-9411-ba98ab50e787',\n",
              " 'status do relatório: 4',\n",
              " 'bucket com hash: \"',\n",
              " 'informações\\t23/04/2018 22:20:30\\tspeechruntime\\t1\\tnenhum\\taudio orchestrator power event: battery saver is not enabled, voice activation ready',\n",
              " 'informações\\t23/04/2018 22:20:28\\tspeechruntime\\t1\\tnenhum\\taudio orchestrator power event: battery saver is not enabled, voice activation ready',\n",
              " 'informações\\t23/04/2018 22:20:28\\tspeechruntime\\t1\\tnenhum\\taudio orchestrator power event: battery saver is not enabled, voice activation ready',\n",
              " 'informações\\t23/04/2018 22:20:28\\tspeechruntime\\t1\\tnenhum\\taudio orchestrator power event: battery saver is not enabled, voice activation ready',\n",
              " 'informações\\t23/04/2018 22:20:28\\tspeechruntime\\t1\\tnenhum\\taudio orchestrator power event: battery saver is not enabled, voice activation ready',\n",
              " 'informações\\t23/04/2018 22:20:27\\tspeechruntime\\t1\\tnenhum\\taudio orchestrator power event: battery saver is not enabled, voice activation ready',\n",
              " 'informações\\t23/04/2018 22:20:27\\tspeechruntime\\t1\\tnenhum\\taudio orchestrator power event: battery saver is not enabled, voice activation ready',\n",
              " 'informações\\t23/04/2018 22:20:27\\tspeechruntime\\t1\\tnenhum\\taudio orchestrator power event: battery saver is not enabled, voice activation ready',\n",
              " 'informações\\t23/04/2018 22:20:27\\tspeechruntime\\t1\\tnenhum\\taudio orchestrator power event: battery saver is not enabled, voice activation ready',\n",
              " 'informações\\t23/04/2018 22:20:27\\tspeechruntime\\t1\\tnenhum\\taudio orchestrator power event: battery saver is not enabled, voice activation ready',\n",
              " 'informações\\t23/04/2018 22:20:27\\tspeechruntime\\t1\\tnenhum\\taudio orchestrator power event: battery saver is not enabled, voice activation ready',\n",
              " 'informações\\t23/04/2018 22:20:27\\tspeechruntime\\t1\\tnenhum\\taudio orchestrator power event: battery saver is not enabled, voice activation ready',\n",
              " 'informações\\t23/04/2018 22:20:25\\tspeechruntime\\t1\\tnenhum\\taudio orchestrator power event: battery saver is not enabled, voice activation ready',\n",
              " 'informações\\t23/04/2018 22:05:00\\tesent\\t916\\tgeral\\tsvchost (3328,g,0) o recurso beta esediskflushconsistency está habilitado em esent devido às configurações de modo de site beta 0x800000.',\n",
              " 'informações\\t23/04/2018 21:52:36\\tesent\\t916\\tgeral\\tsvchost (3976,g,0) o recurso beta esediskflushconsistency está habilitado em esent devido às configurações de modo de site beta 0x800000.',\n",
              " 'informações\\t23/04/2018 21:31:57\\tesent\\t916\\tgeral\\tdllhost (2908,g,0) o recurso beta esediskflushconsistency está habilitado em esent devido às configurações de modo de site beta 0x800000.',\n",
              " 'informações\\t23/04/2018 21:31:46\\tesent\\t916\\tgeral\\tmicrosoftedge (8324,g,0) o recurso beta esediskflushconsistency está habilitado em esent devido às configurações de modo de site beta 0x800000.',\n",
              " 'informações\\t23/04/2018 21:19:21\\tesent\\t916\\tgeral\\tsvchost (3976,g,0) o recurso beta esediskflushconsistency está habilitado em esent devido às configurações de modo de site beta 0x800000.',\n",
              " 'informações\\t23/04/2018 21:16:39\\tesent\\t916\\tgeral\\tsvchost (10424,g,0) o recurso beta esediskflushconsistency está habilitado em esent devido às configurações de modo de site beta 0x800000.',\n",
              " 'informações\\t23/04/2018 21:16:39\\tesent\\t916\\tgeral\\tdllhost (2908,g,0) o recurso beta esediskflushconsistency está habilitado em esent devido às configurações de modo de site beta 0x800000.',\n",
              " 'informações\\t23/04/2018 21:14:55\\tmicrosoft-windows-security-spp\\t16384\\tnenhum\\tserviço proteção de software agendado com êxito para reiniciar em 2018-05-21t20:35:55z. motivo: rulesengine.',\n",
              " 'informações\\t23/04/2018 21:14:25\\tmicrosoft-windows-security-spp\\t1003\\tnenhum\\t\"o serviço de proteção de software concluiu a verificação do status do licenciamento.',\n",
              " 'id do aplicativo=0ff1ce15-a989-479d-af46-f275c6370663',\n",
              " 'status do licenciamento=',\n",
              " '1: 2b88c4f2-ea8f-43cd-805e-4d41346e18a7, 1, 0 [(0 [0xc004f014, 0, 0], [(?)(?)(?)(?)(?)(?)(?)(?)])(1 )(2 )(3 )]',\n",
              " '2: b322da9c-a2e2-4058-9e4e-f59a6970bd69, 1, 1 [(0 [0x00000000, 1, 0], [(?)( 1 0x00000000)(?)( 2 0x00000000 0 0 msft:rm/algorithm/volume/1.0 0x00000000 256128)(?)(?)(?)(?)])(1 )(2 )(3 )]',\n",
              " '',\n",
              " '\"',\n",
              " 'informações\\t23/04/2018 21:14:25\\tmicrosoft-windows-security-spp\\t1040\\tnenhum\\t\"hardware alterado em relação à reinicialização anterior.',\n",
              " ' idapl=0ff1ce15-a989-479d-af46-f275c6370663, skuid=b322da9c-a2e2-4058-9e4e-f59a6970bd69.\"',\n",
              " 'informações\\t23/04/2018 21:08:58\\tmicrosoft-windows-security-spp\\t16384\\tnenhum\\tserviço proteção de software agendado com êxito para reiniciar em 2018-05-21t20:35:58z. motivo: rulesengine.',\n",
              " 'informações\\t23/04/2018 21:08:14\\tmicrosoft-windows-security-spp\\t16384\\tnenhum\\tserviço proteção de software agendado com êxito para reiniciar em 2018-05-21t20:35:14z. motivo: rulesengine.',\n",
              " 'informações\\t23/04/2018 21:07:17\\tesent\\t916\\tgeral\\tsvchost (10588,g,0) o recurso beta esediskflushconsistency está habilitado em esent devido às configurações de modo de site beta 0x800000.',\n",
              " 'informações\\t23/04/2018 21:07:16\\tmicrosoft-windows-security-spp\\t1003\\tnenhum\\t\"o serviço de proteção de software concluiu a verificação do status do licenciamento.',\n",
              " 'id do aplicativo=0ff1ce15-a989-479d-af46-f275c6370663',\n",
              " 'status do licenciamento=',\n",
              " '1: 2b88c4f2-ea8f-43cd-805e-4d41346e18a7, 1, 0 [(0 [0xc004f014, 0, 0], [(?)(?)(?)(?)(?)(?)(?)(?)])(1 )(2 )(3 )]',\n",
              " '2: b322da9c-a2e2-4058-9e4e-f59a6970bd69, 1, 1 [(0 [0x00000000, 1, 0], [(?)( 1 0x00000000)(?)( 2 0x00000000 0 0 msft:rm/algorithm/volume/1.0 0x00000000 256135)(?)(?)(?)(?)])(1 )(2 )(3 )]',\n",
              " '',\n",
              " '\"',\n",
              " 'informações\\t23/04/2018 21:06:45\\tspeechruntime\\t1\\tnenhum\\taudio orchestrator power event: battery saver is not enabled, voice activation ready',\n",
              " 'informações\\t23/04/2018 21:06:38\\tesent\\t916\\tgeral\\tdllhost (2908,g,0) o recurso beta esediskflushconsistency está habilitado em esent devido às configurações de modo de site beta 0x800000.',\n",
              " 'informações\\t23/04/2018 21:04:30\\tesent\\t916\\tgeral\\tsvchost (3976,g,0) o recurso beta esediskflushconsistency está habilitado em esent devido às configurações de modo de site beta 0x800000.',\n",
              " 'informações\\t23/04/2018 21:04:21\\tesent\\t916\\tgeral\\tdllhost (8,g,0) o recurso beta esediskflushconsistency está habilitado em esent devido às configurações de modo de site beta 0x800000.',\n",
              " 'informações\\t23/04/2018 21:04:20\\tigfxcuiservice1.0.0.0\\t0\\tnenhum\\t\"não é possível localizar a descrição da identificação de evento 0 na origem \"\"igfxcuiservice1.0.0.0\"\". o componente que gera esse evento não está instalado no computador local ou a instalação está danificada. você pode instalar ou reparar o componente no computador local.',\n",
              " '',\n",
              " 'se o evento foi originado em outro computador, as informações de exibição tiveram que ser salvas com o evento.',\n",
              " '',\n",
              " 'as seguintes informações foram incluídas com o evento: ',\n",
              " '',\n",
              " 'received post shell event 3',\n",
              " '',\n",
              " '\"',\n",
              " 'informações\\t23/04/2018 21:04:20\\tmicrosoft-windows-winlogon\\t6000\\tnenhum\\to assinante de notificação do winlogon <sessionenv> não estava disponível para tratar de um evento de notificação.',\n",
              " 'informações\\t23/04/2018 21:04:19\\tigfxcuiservice1.0.0.0\\t0\\tnenhum\\t\"não é possível localizar a descrição da identificação de evento 0 na origem \"\"igfxcuiservice1.0.0.0\"\". o componente que gera esse evento não está instalado no computador local ou a instalação está danificada. você pode instalar ou reparar o componente no computador local.',\n",
              " '',\n",
              " 'se o evento foi originado em outro computador, as informações de exibição tiveram que ser salvas com o evento.',\n",
              " '',\n",
              " 'as seguintes informações foram incluídas com o evento: ',\n",
              " '',\n",
              " 'logon: 3',\n",
              " '',\n",
              " '\"',\n",
              " 'informações\\t23/04/2018 21:04:19\\tigfxcuiservice1.0.0.0\\t0\\tnenhum\\t\"não é possível localizar a descrição da identificação de evento 0 na origem \"\"igfxcuiservice1.0.0.0\"\". o componente que gera esse evento não está instalado no computador local ou a instalação está danificada. você pode instalar ou reparar o componente no computador local.',\n",
              " '',\n",
              " 'se o evento foi originado em outro computador, as informações de exibição tiveram que ser salvas com o evento.',\n",
              " '',\n",
              " 'as seguintes informações foram incluídas com o evento: ',\n",
              " '',\n",
              " 'log on event received user1',\n",
              " '',\n",
              " '\"',\n",
              " 'informações\\t23/04/2018 21:04:19\\tesent\\t916\\tgeral\\tsvchost (8732,g,50) o recurso beta esediskflushconsistency está habilitado em esent devido às configurações de modo de site beta 0x800000.',\n",
              " 'informações\\t23/04/2018 21:04:19\\tmicrosoft-windows-winlogon\\t6003\\tnenhum\\to assinante de notificação do winlogon <sessionenv> não estava disponível para tratar de um evento de notificação crítico.',\n",
              " 'erro\\t23/04/2018 21:04:14\\tdptf\\t256\\tgeneral\\tintel(r) dynamic platform and thermal framework : esif(8.1.10603.192) type: error',\n",
              " '',\n",
              " 'dptf build version:  8.1.10603.192',\n",
              " 'dptf build date:  aug  7 2015 10:44:44',\n",
              " 'source file:  ..\\\\..\\\\..\\\\..\\\\sources\\\\policies\\\\configtdppolicy\\\\configtdppolicy.cpp @ line 183',\n",
              " 'executing function:  configtdppolicy::ondomainpowercontrolcapabilitychanged',\n",
              " 'message:  datalength is invalid.',\n",
              " 'participant:  tcpu [7]',\n",
              " 'domain:  pkg [0]',\n",
              " 'policy:  configtdp policy [0]',\n",
              " ' ',\n",
              " 'informações\\t22/04/2018 21:57:19\\tesent\\t916\\tgeral\\tsvchost (3328,g,0) o recurso beta esediskflushconsistency está habilitado em esent devido às configurações de modo de site beta 0x800000.',\n",
              " 'informações\\t22/04/2018 21:57:18\\tmicrosoft-windows-user profiles service\\t1530\\tnenhum\\t\"o windows detectou que o arquivo do registro ainda está em uso por outros aplicativos ou serviços. o arquivo será descarregado agora. os aplicativos ou serviços que usam o arquivo do registro poderão não funcionar corretamente depois disso.  ',\n",
              " '',\n",
              " ' detalhe - ',\n",
              " ' 17 user registry handles leaked from \\\\registry\\\\user\\\\s-1-5-21-3353191766-2097756143-14551231-1001_classes:',\n",
              " 'process 5220 (\\\\device\\\\harddiskvolume4\\\\windows\\\\system32\\\\svchost.exe) has opened key \\\\registry\\\\user\\\\s-1-5-21-3353191766-2097756143-14551231-1001_classes',\n",
              " 'process 5220 (\\\\device\\\\harddiskvolume4\\\\windows\\\\system32\\\\svchost.exe) has opened key \\\\registry\\\\user\\\\s-1-5-21-3353191766-2097756143-14551231-1001_classes',\n",
              " 'process 5220 (\\\\device\\\\harddiskvolume4\\\\windows\\\\system32\\\\svchost.exe) has opened key \\\\registry\\\\user\\\\s-1-5-21-3353191766-2097756143-14551231-1001_classes',\n",
              " 'process 7368 (\\\\device\\\\harddiskvolume4\\\\windows\\\\system32\\\\svchost.exe) has opened key \\\\registry\\\\user\\\\s-1-5-21-3353191766-2097756143-14551231-1001_classes',\n",
              " 'process 7368 (\\\\device\\\\harddiskvolume4\\\\windows\\\\system32\\\\svchost.exe) has opened key \\\\registry\\\\user\\\\s-1-5-21-3353191766-2097756143-14551231-1001_classes',\n",
              " 'process 7368 (\\\\device\\\\harddiskvolume4\\\\windows\\\\system32\\\\svchost.exe) has opened key \\\\registry\\\\user\\\\s-1-5-21-3353191766-2097756143-14551231-1001_classes',\n",
              " 'process 6176 (\\\\device\\\\harddiskvolume4\\\\windows\\\\system32\\\\svchost.exe) has opened key \\\\registry\\\\user\\\\s-1-5-21-3353191766-2097756143-14551231-1001_classes',\n",
              " 'process 6176 (\\\\device\\\\harddiskvolume4\\\\windows\\\\system32\\\\svchost.exe) has opened key \\\\registry\\\\user\\\\s-1-5-21-3353191766-2097756143-14551231-1001_classes',\n",
              " 'process 6176 (\\\\device\\\\harddiskvolume4\\\\windows\\\\system32\\\\svchost.exe) has opened key \\\\registry\\\\user\\\\s-1-5-21-3353191766-2097756143-14551231-1001_classes',\n",
              " 'process 6176 (\\\\device\\\\harddiskvolume4\\\\windows\\\\system32\\\\svchost.exe) has opened key \\\\registry\\\\user\\\\s-1-5-21-3353191766-2097756143-14551231-1001_classes\\\\local settings',\n",
              " 'process 9356 (\\\\device\\\\harddiskvolume4\\\\windows\\\\temp\\\\dptf\\\\esif_assist_64.exe) has opened key \\\\registry\\\\user\\\\s-1-5-21-3353191766-2097756143-14551231-1001_classes\\\\local settings',\n",
              " 'process 5220 (\\\\device\\\\harddiskvolume4\\\\windows\\\\system32\\\\svchost.exe) has opened key \\\\registry\\\\user\\\\s-1-5-21-3353191766-2097756143-14551231-1001_classes\\\\local settings',\n",
              " 'process 7368 (\\\\device\\\\harddiskvolume4\\\\windows\\\\system32\\\\svchost.exe) has opened key \\\\registry\\\\user\\\\s-1-5-21-3353191766-2097756143-14551231-1001_classes\\\\local settings',\n",
              " 'process 6176 (\\\\device\\\\harddiskvolume4\\\\windows\\\\system32\\\\svchost.exe) has opened key \\\\registry\\\\user\\\\s-1-5-21-3353191766-2097756143-14551231-1001_classes\\\\local settings\\\\software\\\\microsoft',\n",
              " 'process 5220 (\\\\device\\\\harddiskvolume4\\\\windows\\\\system32\\\\svchost.exe) has opened key \\\\registry\\\\user\\\\s-1-5-21-3353191766-2097756143-14551231-1001_classes\\\\local settings\\\\software\\\\microsoft',\n",
              " 'process 7368 (\\\\device\\\\harddiskvolume4\\\\windows\\\\system32\\\\svchost.exe) has opened key \\\\registry\\\\user\\\\s-1-5-21-3353191766-2097756143-14551231-1001_classes\\\\local settings\\\\software\\\\microsoft',\n",
              " 'process 9356 (\\\\device\\\\harddiskvolume4\\\\windows\\\\temp\\\\dptf\\\\esif_assist_64.exe) has opened key \\\\registry\\\\user\\\\s-1-5-21-3353191766-2097756143-14551231-1001_classes\\\\local settings\\\\software\\\\microsoft',\n",
              " '\"',\n",
              " 'informações\\t22/04/2018 21:57:18\\tmicrosoft-windows-user profiles service\\t1530\\tnenhum\\t\"o windows detectou que o arquivo do registro ainda está em uso por outros aplicativos ou serviços. o arquivo será descarregado agora. os aplicativos ou serviços que usam o arquivo do registro poderão não funcionar corretamente depois disso.  ',\n",
              " '',\n",
              " ' detalhe - ',\n",
              " ' 35 user registry handles leaked from \\\\registry\\\\user\\\\s-1-5-21-3353191766-2097756143-14551231-1001:',\n",
              " 'process 3904 (\\\\device\\\\harddiskvolume4\\\\windows\\\\system32\\\\svchost.exe) has opened key \\\\registry\\\\user\\\\s-1-5-21-3353191766-2097756143-14551231-1001',\n",
              " 'process 880 (\\\\device\\\\harddiskvolume4\\\\windows\\\\system32\\\\winlogon.exe) has opened key \\\\registry\\\\user\\\\s-1-5-21-3353191766-2097756143-14551231-1001',\n",
              " 'process 1180 (\\\\device\\\\harddiskvolume4\\\\windows\\\\system32\\\\svchost.exe) has opened key \\\\registry\\\\user\\\\s-1-5-21-3353191766-2097756143-14551231-1001\\\\system\\\\gameconfigstore\\\\parents',\n",
              " 'process 6176 (\\\\device\\\\harddiskvolume4\\\\windows\\\\system32\\\\svchost.exe) has opened key \\\\registry\\\\user\\\\s-1-5-21-3353191766-2097756143-14551231-1001\\\\software\\\\microsoft\\\\commsaphost\\\\test',\n",
              " 'process 6176 (\\\\device\\\\harddiskvolume4\\\\windows\\\\system32\\\\svchost.exe) has opened key \\\\registry\\\\user\\\\s-1-5-21-3353191766-2097756143-14551231-1001\\\\software\\\\microsoft\\\\commsaphost\\\\test',\n",
              " 'process 1180 (\\\\device\\\\harddiskvolume4\\\\windows\\\\system32\\\\svchost.exe) has opened key \\\\registry\\\\user\\\\s-1-5-21-3353191766-2097756143-14551231-1001\\\\system\\\\gameconfigstore',\n",
              " 'process 3312 (\\\\device\\\\harddiskvolume4\\\\windows\\\\system32\\\\svchost.exe) has opened key \\\\registry\\\\user\\\\s-1-5-21-3353191766-2097756143-14551231-1001\\\\software\\\\policies\\\\microsoft\\\\windows\\\\cloudcontent',\n",
              " 'process 7368 (\\\\device\\\\harddiskvolume4\\\\windows\\\\system32\\\\svchost.exe) has opened key \\\\registry\\\\user\\\\s-1-5-21-3353191766-2097756143-14551231-1001\\\\software\\\\microsoft\\\\windows\\\\currentversion\\\\pushnotifications',\n",
              " 'process 9072 (\\\\device\\\\harddiskvolume4\\\\windows\\\\system32\\\\svchost.exe) has opened key \\\\registry\\\\user\\\\s-1-5-21-3353191766-2097756143-14551231-1001\\\\software\\\\microsoft\\\\windows\\\\currentversion\\\\uninstall',\n",
              " 'process 7368 (\\\\device\\\\harddiskvolume4\\\\windows\\\\system32\\\\svchost.exe) has opened key \\\\registry\\\\user\\\\s-1-5-21-3353191766-2097756143-14551231-1001\\\\software\\\\microsoft\\\\windows\\\\currentversion\\\\explorer',\n",
              " 'process 5220 (\\\\device\\\\harddiskvolume4\\\\windows\\\\system32\\\\svchost.exe) has opened key \\\\registry\\\\user\\\\s-1-5-21-3353191766-2097756143-14551231-1001\\\\software\\\\microsoft\\\\windows\\\\currentversion\\\\internet settings',\n",
              " 'process 3312 (\\\\device\\\\harddiskvolume4\\\\windows\\\\system32\\\\svchost.exe) has opened key \\\\registry\\\\user\\\\s-1-5-21-3353191766-2097756143-14551231-1001\\\\software\\\\microsoft\\\\windows\\\\currentversion\\\\internet settings',\n",
              " 'process 7368 (\\\\device\\\\harddiskvolume4\\\\windows\\\\system32\\\\svchost.exe) has opened key \\\\registry\\\\user\\\\s-1-5-21-3353191766-2097756143-14551231-1001\\\\software\\\\microsoft\\\\windows\\\\currentversion\\\\internet settings',\n",
              " 'process 3312 (\\\\device\\\\harddiskvolume4\\\\windows\\\\system32\\\\svchost.exe) has opened key \\\\registry\\\\user\\\\s-1-5-21-3353191766-2097756143-14551231-1001\\\\software\\\\microsoft\\\\windows\\\\currentversion\\\\privacy',\n",
              " 'process 3312 (\\\\device\\\\harddiskvolume4\\\\windows\\\\system32\\\\svchost.exe) has opened key \\\\registry\\\\user\\\\s-1-5-21-3353191766-2097756143-14551231-1001\\\\software\\\\microsoft\\\\internet explorer\\\\main\\\\featurecontrol',\n",
              " 'process 7368 (\\\\device\\\\harddiskvolume4\\\\windows\\\\system32\\\\svchost.exe) has opened key \\\\registry\\\\user\\\\s-1-5-21-3353191766-2097756143-14551231-1001\\\\software\\\\microsoft\\\\internet explorer\\\\main\\\\featurecontrol',\n",
              " 'process 5220 (\\\\device\\\\harddiskvolume4\\\\windows\\\\system32\\\\svchost.exe) has opened key \\\\registry\\\\user\\\\s-1-5-21-3353191766-2097756143-14551231-1001\\\\software\\\\microsoft\\\\internet explorer\\\\main\\\\featurecontrol',\n",
              " 'process 3312 (\\\\device\\\\harddiskvolume4\\\\windows\\\\system32\\\\svchost.exe) has opened key \\\\registry\\\\user\\\\s-1-5-21-3353191766-2097756143-14551231-1001\\\\software\\\\policies\\\\microsoft\\\\windows\\\\datacollection',\n",
              " 'process 5220 (\\\\device\\\\harddiskvolume4\\\\windows\\\\system32\\\\svchost.exe) has opened key \\\\registry\\\\user\\\\s-1-5-21-3353191766-2097756143-14551231-1001\\\\software\\\\policies\\\\microsoft\\\\windows\\\\currentversion\\\\internet settings',\n",
              " 'process 3312 (\\\\device\\\\harddiskvolume4\\\\windows\\\\system32\\\\svchost.exe) has opened key \\\\registry\\\\user\\\\s-1-5-21-3353191766-2097756143-14551231-1001\\\\software\\\\policies\\\\microsoft\\\\windows\\\\currentversion\\\\internet settings',\n",
              " 'process 7368 (\\\\device\\\\harddiskvolume4\\\\windows\\\\system32\\\\svchost.exe) has opened key \\\\registry\\\\user\\\\s-1-5-21-3353191766-2097756143-14551231-1001\\\\software\\\\policies\\\\microsoft\\\\windows\\\\currentversion\\\\internet settings',\n",
              " 'process 3312 (\\\\device\\\\harddiskvolume4\\\\windows\\\\system32\\\\svchost.exe) has opened key \\\\registry\\\\user\\\\s-1-5-21-3353191766-2097756143-14551231-1001\\\\software\\\\microsoft\\\\internet explorer\\\\main',\n",
              " 'process 5220 (\\\\device\\\\harddiskvolume4\\\\windows\\\\system32\\\\svchost.exe) has opened key \\\\registry\\\\user\\\\s-1-5-21-3353191766-2097756143-14551231-1001\\\\software\\\\microsoft\\\\internet explorer\\\\main',\n",
              " 'process 7368 (\\\\device\\\\harddiskvolume4\\\\windows\\\\system32\\\\svchost.exe) has opened key \\\\registry\\\\user\\\\s-1-5-21-3353191766-2097756143-14551231-1001\\\\software\\\\microsoft\\\\internet explorer\\\\main',\n",
              " 'process 6176 (\\\\device\\\\harddiskvolume4\\\\windows\\\\system32\\\\svchost.exe) has opened key \\\\registry\\\\user\\\\s-1-5-21-3353191766-2097756143-14551231-1001\\\\software\\\\microsoft\\\\internet explorer\\\\main',\n",
              " 'process 6176 (\\\\device\\\\harddiskvolume4\\\\windows\\\\system32\\\\svchost.exe) has opened key \\\\registry\\\\user\\\\s-1-5-21-3353191766-2097756143-14551231-1001\\\\software\\\\microsoft\\\\activesync\\\\jobdispatcher\\\\jobregistry\\\\1.1',\n",
              " 'process 8584 (<unknown>) has opened key \\\\registry\\\\user\\\\s-1-5-21-3353191766-2097756143-14551231-1001\\\\software\\\\microsoft\\\\windows nt\\\\currentversion\\\\fonts',\n",
              " 'process 1180 (\\\\device\\\\harddiskvolume4\\\\windows\\\\system32\\\\svchost.exe) has opened key \\\\registry\\\\user\\\\s-1-5-21-3353191766-2097756143-14551231-1001\\\\system\\\\gameconfigstore\\\\children',\n",
              " 'process 3312 (\\\\device\\\\harddiskvolume4\\\\windows\\\\system32\\\\svchost.exe) has opened key \\\\registry\\\\user\\\\s-1-5-21-3353191766-2097756143-14551231-1001\\\\software\\\\microsoft\\\\internet explorer\\\\security',\n",
              " 'process 5220 (\\\\device\\\\harddiskvolume4\\\\windows\\\\system32\\\\svchost.exe) has opened key \\\\registry\\\\user\\\\s-1-5-21-3353191766-2097756143-14551231-1001\\\\software\\\\microsoft\\\\internet explorer\\\\security',\n",
              " 'process 7368 (\\\\device\\\\harddiskvolume4\\\\windows\\\\system32\\\\svchost.exe) has opened key \\\\registry\\\\user\\\\s-1-5-21-3353191766-2097756143-14551231-1001\\\\software\\\\microsoft\\\\internet explorer\\\\security',\n",
              " 'process 6176 (\\\\device\\\\harddiskvolume4\\\\windows\\\\system32\\\\svchost.exe) has opened key \\\\registry\\\\user\\\\s-1-5-21-3353191766-2097756143-14551231-1001\\\\software\\\\microsoft\\\\internet explorer\\\\security',\n",
              " 'process 7368 (\\\\device\\\\harddiskvolume4\\\\windows\\\\system32\\\\svchost.exe) has opened key \\\\registry\\\\user\\\\s-1-5-21-3353191766-2097756143-14551231-1001\\\\software\\\\microsoft\\\\windows\\\\currentversion\\\\pushnotifications\\\\wpnidm',\n",
              " 'process 3904 (\\\\device\\\\harddiskvolume4\\\\windows\\\\system32\\\\svchost.exe) has opened key \\\\registry\\\\user\\\\s-1-5-21-3353191766-2097756143-14551231-1001\\\\software\\\\microsoft\\\\windows\\\\currentversion\\\\internet settings\\\\connections',\n",
              " 'process 5220 (\\\\device\\\\harddiskvolume4\\\\windows\\\\system32\\\\svchost.exe) has opened key \\\\registry\\\\user\\\\s-1-5-21-3353191766-2097756143-14551231-1001\\\\software\\\\microsoft\\\\windows\\\\currentversion\\\\mobility',\n",
              " '\"',\n",
              " 'informações\\t22/04/2018 21:57:18\\tmicrosoft-windows-winlogon\\t6000\\tnenhum\\to assinante de notificação do winlogon <sessionenv> não estava disponível para tratar de um evento de notificação.',\n",
              " 'informações\\t22/04/2018 21:57:18\\tigfxcuiservice1.0.0.0\\t0\\tnenhum\\t\"não é possível localizar a descrição da identificação de evento 0 na origem \"\"igfxcuiservice1.0.0.0\"\". o componente que gera esse evento não está instalado no computador local ou a instalação está danificada. você pode instalar ou reparar o componente no computador local.',\n",
              " '',\n",
              " 'se o evento foi originado em outro computador, as informações de exibição tiveram que ser salvas com o evento.',\n",
              " '',\n",
              " 'as seguintes informações foram incluídas com o evento: ',\n",
              " '',\n",
              " ' logoff: 2',\n",
              " '',\n",
              " '\"',\n",
              " 'informações\\t22/04/2018 21:57:18\\tigfxcuiservice1.0.0.0\\t0\\tnenhum\\t\"não é possível localizar a descrição da identificação de evento 0 na origem \"\"igfxcuiservice1.0.0.0\"\". o componente que gera esse evento não está instalado no computador local ou a instalação está danificada. você pode instalar ou reparar o componente no computador local.',\n",
              " '',\n",
              " 'se o evento foi originado em outro computador, as informações de exibição tiveram que ser salvas com o evento.',\n",
              " '',\n",
              " 'as seguintes informações foram incluídas com o evento: ',\n",
              " '',\n",
              " ' logoff: test',\n",
              " '',\n",
              " '\"',\n",
              " 'informações\\t22/04/2018 21:57:16\\tdesktop window manager\\t9027\\tnenhum\\to gerenciador de janelas da área de trabalho registrou a porta da sessão.',\n",
              " 'informações\\t22/04/2018 21:57:12\\tesent\\t916\\tgeral\\tdllhost (4648,g,0) o recurso beta esediskflushconsistency está habilitado em esent devido às configurações de modo de site beta 0x800000.',\n",
              " 'informações\\t22/04/2018 21:46:01\\tesent\\t916\\tgeral\\tsvchost (3976,g,0) o recurso beta esediskflushconsistency está habilitado em esent devido às configurações de modo de site beta 0x800000.',\n",
              " 'informações\\t22/04/2018 21:42:31\\tmicrosoft-windows-security-spp\\t16384\\tnenhum\\tserviço proteção de software agendado com êxito para reiniciar em 2018-05-21t20:35:31z. motivo: rulesengine.',\n",
              " 'informações\\t22/04/2018 21:42:01\\tmicrosoft-windows-security-spp\\t1003\\tnenhum\\t\"o serviço de proteção de software concluiu a verificação do status do licenciamento.',\n",
              " 'id do aplicativo=0ff1ce15-a989-479d-af46-f275c6370663',\n",
              " 'status do licenciamento=',\n",
              " '1: 2b88c4f2-ea8f-43cd-805e-4d41346e18a7, 1, 0 [(0 [0xc004f014, 0, 0], [(?)(?)(?)(?)(?)(?)(?)(?)])(1 )(2 )(3 )]',\n",
              " '2: b322da9c-a2e2-4058-9e4e-f59a6970bd69, 1, 1 [(0 [0x00000000, 1, 0], [(?)( 1 0x00000000)(?)( 2 0x00000000 0 0 msft:rm/algorithm/volume/1.0 0x00000000 257540)(?)(?)(?)(?)])(1 )(2 )(3 )]',\n",
              " '',\n",
              " '\"',\n",
              " 'informações\\t22/04/2018 21:40:02\\tmicrosoft-windows-security-spp\\t16384\\tnenhum\\tserviço proteção de software agendado com êxito para reiniciar em 2018-05-21t20:35:02z. motivo: rulesengine.',\n",
              " 'informações\\t22/04/2018 21:39:32\\tmicrosoft-windows-security-spp\\t1003\\tnenhum\\t\"o serviço de proteção de software concluiu a verificação do status do licenciamento.',\n",
              " 'id do aplicativo=0ff1ce15-a989-479d-af46-f275c6370663',\n",
              " 'status do licenciamento=',\n",
              " '1: 2b88c4f2-ea8f-43cd-805e-4d41346e18a7, 1, 0 [(0 [0xc004f014, 0, 0], [(?)(?)(?)(?)(?)(?)(?)(?)])(1 )(2 )(3 )]',\n",
              " '2: b322da9c-a2e2-4058-9e4e-f59a6970bd69, 1, 1 [(0 [0x00000000, 1, 0], [(?)( 1 0x00000000)(?)( 2 0x00000000 0 0 msft:rm/algorithm/volume/1.0 0x00000000 257543)(?)(?)(?)(?)])(1 )(2 )(3 )]',\n",
              " '',\n",
              " '\"',\n",
              " 'informações\\t22/04/2018 21:37:00\\tesent\\t916\\tgeral\\tsvchost (3328,g,0) o recurso beta esediskflushconsistency está habilitado em esent devido às configurações de modo de site beta 0x800000.',\n",
              " 'informações\\t22/04/2018 21:07:24\\tchkdsk\\t26213\\tnenhum\\t\"o chkdsk foi executado em modo somente leitura. não foi usado um instantâneo de volume. outros erros e avisos podem ser exibidos, porque o volume pode ter sido alterado durante a execução do chkdsk.  ',\n",
              " '',\n",
              " 'verificando o sistema de arquivos em e:\\\\',\n",
              " 'o rótulo do volume é win10_pro_x64_multi-6_aug2015.',\n",
              " '',\n",
              " 'estágio 1: examinando a estrutura básica do sistema de arquivos...',\n",
              " '                                                                                       ',\n",
              " '  1280 de registros de arquivos processados.                              ',\n",
              " '',\n",
              " 'verificação de arquivos concluída.',\n",
              " '                                                                                       ',\n",
              " '  0 registros de arquivos grandes processados.                      ',\n",
              " '',\n",
              " '                                                                                       ',\n",
              " '  0 registros de arquivos inválidos processados.                    ',\n",
              " '',\n",
              " '',\n",
              " 'estágio 2: examinando a ligação do nome do arquivo...',\n",
              " '                                                                                       ',\n",
              " '  1502 de entradas de índice processadas.                                ',\n",
              " '',\n",
              " 'verificação de índices concluída.',\n",
              " '                                                                                       ',\n",
              " '',\n",
              " '                                                                                       ',\n",
              " '',\n",
              " '                                                                                       ',\n",
              " '  0 registros de novas análises processados.                        ',\n",
              " '',\n",
              " '                                                                                       ',\n",
              " '  0 registros de novas análises processados.                        ',\n",
              " '',\n",
              " '',\n",
              " 'estágio 3: examinando os descritores de segurança...',\n",
              " 'verificação de descritores de segurança concluída.',\n",
              " '                                                                                       ',\n",
              " '  111 arquivos de dados processados.                                  ',\n",
              " '',\n",
              " '',\n",
              " 'não há problemas no sistema de arquivos.',\n",
              " 'nenhuma ação necessária.',\n",
              " '',\n",
              " ' 132611071 kb de espaço total em disco.',\n",
              " '   5211672 kb em 966 arquivos.',\n",
              " '       368 kb em 113 índices.',\n",
              " '     71279 kb em uso pelo sistema.',\n",
              " '     65536 kb ocupados pelo arquivo de log.',\n",
              " ' 127327752 kb disponíveis em disco.',\n",
              " '',\n",
              " '      4096 bytes em cada unidade de alocação.',\n",
              " 'total de   33152767 unidades de alocação no disco.',\n",
              " '  31831938 unidades de alocação disponíveis em disco.',\n",
              " '\"',\n",
              " 'informações\\t22/04/2018 20:49:56\\tesent\\t916\\tgeral\\tdllhost (4648,g,0) o recurso beta esediskflushconsistency está habilitado em esent devido às configurações de modo de site beta 0x800000.',\n",
              " 'informações\\t22/04/2018 20:46:00\\tesent\\t916\\tgeral\\tsvchost (3976,g,0) o recurso beta esediskflushconsistency está habilitado em esent devido às configurações de modo de site beta 0x800000.',\n",
              " 'erro\\t22/04/2018 20:35:42\\tdptf\\t256\\tgeneral\\tintel(r) dynamic platform and thermal framework : esif(8.1.10603.192) type: error',\n",
              " '',\n",
              " 'dptf build version:  8.1.10603.192',\n",
              " 'dptf build date:  aug  7 2015 10:44:44',\n",
              " 'source file:  ..\\\\..\\\\..\\\\..\\\\sources\\\\policies\\\\configtdppolicy\\\\configtdppolicy.cpp @ line 183',\n",
              " 'executing function:  configtdppolicy::ondomainpowercontrolcapabilitychanged',\n",
              " 'message:  datalength is invalid.',\n",
              " 'participant:  tcpu [7]',\n",
              " 'domain:  pkg [0]',\n",
              " 'policy:  configtdp policy [0]',\n",
              " ' ',\n",
              " 'informações\\t22/04/2018 19:53:22\\tesent\\t916\\tgeral\\tsvchost (3328,g,0) o recurso beta esediskflushconsistency está habilitado em esent devido às configurações de modo de site beta 0x800000.',\n",
              " 'informações\\t22/04/2018 19:44:56\\tesent\\t916\\tgeral\\tsvchost (3976,g,0) o recurso beta esediskflushconsistency está habilitado em esent devido às configurações de modo de site beta 0x800000.',\n",
              " 'informações\\t22/04/2018 19:44:50\\tesent\\t916\\tgeral\\tdllhost (4648,g,0) o recurso beta esediskflushconsistency está habilitado em esent devido às configurações de modo de site beta 0x800000.',\n",
              " 'informações\\t22/04/2018 19:19:00\\tesent\\t916\\tgeral\\tsvchost (3328,g,0) o recurso beta esediskflushconsistency está habilitado em esent devido às configurações de modo de site beta 0x800000.',\n",
              " 'informações\\t22/04/2018 19:10:21\\tesent\\t916\\tgeral\\tsvchost (3328,g,0) o recurso beta esediskflushconsistency está habilitado em esent devido às configurações de modo de site beta 0x800000.',\n",
              " 'informações\\t22/04/2018 19:07:29\\tvss\\t8224\\tnenhum\\to serviço vss está sendo desligado devido ao tempo limite ocioso. ',\n",
              " 'informações\\t22/04/2018 19:04:27\\tesent\\t326\\tgeral\\t\"svchost (1752,d,50) ds_token_db: the database engine attached a database (1, c:\\\\windows\\\\system32\\\\config\\\\systemprofile\\\\appdata\\\\local\\\\datasharing\\\\storage\\\\dstokendb2.dat). (time=0 seconds) ',\n",
              " ' ',\n",
              " 'saved cache: 1 0 ',\n",
              " 'additional data: lgposattach = 00000004:0001:0268 ',\n",
              " ' ',\n",
              " 'internal timing sequence: ',\n",
              " '[1] 0.000003 +j(0)',\n",
              " '[2] 0.001235 +j(0) +m(c:0k, fs:17, ws:4k # 4k, pf:4k # 0k, p:4k)',\n",
              " '[3] 0.099119 +j(cm:0, pgrf:0, rd:0/0, dy:0/0, lg:3480/2) +m(c:0k, fs:11, ws:40k # 0k, pf:40k # 0k, p:40k)',\n",
              " '[4] 0.000415 +j(0)',\n",
              " '[5] -',\n",
              " '[6] -',\n",
              " '[7] 0.001000 -0.000671 (1) cm +j(cm:1, pgrf:2, rd:16/0, dy:0/0, lg:0/0) +m(c:56k, fs:17, ws:68k # 44k, pf:56k # 36k, p:56k)',\n",
              " '[8] 0.000604 -0.000348 (1) cm +j(cm:1, pgrf:23, rd:0/1, dy:0/0, lg:0/0) +m(c:0k, fs:27, ws:108k # 108k, pf:196k # 192k, p:196k)',\n",
              " '[9] 0.000678 -0.000542 (2) cm +j(cm:2, pgrf:40, rd:0/2, dy:0/0, lg:0/0) +m(c:0k, fs:1, ws:4k # 4k, pf:64k # 64k, p:64k)',\n",
              " '[10] 0.000018 +j(cm:0, pgrf:1, rd:0/0, dy:0/0, lg:0/0) +m(c:0k, fs:1, ws:4k # 4k, pf:0k # 0k, p:0k)',\n",
              " '[11] 0.000068 +j(cm:0, pgrf:42, rd:0/0, dy:0/0, lg:0/0) +m(c:0k, fs:6, ws:24k # 24k, pf:0k # 0k, p:0k)',\n",
              " '[12] 0.000001 +j(0)',\n",
              " '[13] 0.0 +j(0)',\n",
              " '[14] 0.000008 +j(cm:0, pgrf:1, rd:0/0, dy:0/0, lg:0/0).\"',\n",
              " 'informações\\t22/04/2018 19:04:27\\tesent\\t105\\tgeral\\t\"svchost (1752,d,0) ds_token_db: the database engine started a new instance (0). (time=0 seconds) ',\n",
              " ' ',\n",
              " 'additional data:',\n",
              " ' lgposv2[] = 00000003:000a:0000 - 00000003:000d:0000 - 00000000:0000:0000 - 00000003:000d:0000 (00000000:0000:0000)',\n",
              " 'creinits = 3',\n",
              " ' ',\n",
              " ' ',\n",
              " 'internal timing sequence: ',\n",
              " '[1] 0.001444 +j(0) +m(c:0k, fs:133, ws:524k # 524k, pf:3436k # 3436k, p:3436k)',\n",
              " '[2] 0.000540 +j(0) +m(c:8k, fs:96, ws:380k # 380k, pf:852k # 852k, p:852k)',\n",
              " '[3] 0.000017 +j(0) +m(c:0k, fs:1, ws:4k # 4k, pf:64k # 64k, p:64k)',\n",
              " '[4] 0.000212 +j(0) +m(c:0k, fs:36, ws:148k # 148k, pf:164k # 164k, p:164k)',\n",
              " '[5] 0.003595 +j(0) +m(c:0k, fs:64, ws:248k # 248k, pf:16k # 16k, p:16k)',\n",
              " '[6] 0.004752 +j(0) +m(c:0k, fs:32, ws:124k # 124k, pf:20k # 20k, p:20k)',\n",
              " '[7] 0.021761 +j(0) +m(c:0k, fs:38, ws:152k # 152k, pf:64k # 64k, p:64k)',\n",
              " '[8] 0.049873 +j(cm:0, pgrf:0, rd:0/0, dy:0/0, lg:48672/30) +m(c:0k, fs:159, ws:344k # 344k, pf:252k # 256k, p:252k)',\n",
              " '[9] -',\n",
              " '[10] 0.000908 +j(0) +m(c:0k, fs:1, ws:-56k # 0k, pf:-60k # 0k, p:-60k)',\n",
              " '[11] 0.000038 +j(cm:0, pgrf:0, rd:0/0, dy:0/0, lg:49/1) +m(c:0k, fs:3, ws:12k # 0k, pf:0k # 0k, p:0k)',\n",
              " '[12] 0.001208 +j(0) +m(c:0k, fs:1, ws:4k # 0k, pf:0k # 0k, p:0k)',\n",
              " '[13] 0.335337 -0.000481 (2) cm +j(cm:2, pgrf:2, rd:0/2, dy:0/0, lg:4729/4) +m(c:0k, fs:96, ws:200k # 224k, pf:216k # 220k, p:216k)',\n",
              " '[14] 0.000023 +j(0)',\n",
              " '[15] 0.000017 +j(0)',\n",
              " '[16] 0.000476 +j(0) +m(c:0k, fs:3, ws:4k # 0k, pf:0k # 0k, p:0k).\"',\n",
              " 'informações\\t22/04/2018 19:04:26\\tesent\\t302\\tregistro em log/recuperação\\tsvchost (1752,u,0) ds_token_db: o mecanismo de banco de dados concluiu com êxito as etapas de recuperação.',\n",
              " 'informações\\t22/04/2018 19:04:26\\tesent\\t301\\tregistro em log/recuperação\\t\"svchost (1752,r,0) ds_token_db: the database engine has begun replaying logfile c:\\\\windows\\\\system32\\\\config\\\\systemprofile\\\\appdata\\\\local\\\\datasharing\\\\storage\\\\dss.log. ',\n",
              " ' ',\n",
              " 'previous log processing stats: \"',\n",
              " 'informações\\t22/04/2018 19:04:26\\tesent\\t300\\tregistro em log/recuperação\\tsvchost (1752,r,0) ds_token_db: o mecanismo de banco de dados está iniciando as etapas de recuperação.',\n",
              " 'informações\\t22/04/2018 19:04:26\\tesent\\t916\\tgeral\\tsvchost (1752,g,0) o recurso beta esediskflushconsistency está habilitado em esent devido às configurações de modo de site beta 0x800000.',\n",
              " 'informações\\t22/04/2018 19:04:26\\tesent\\t102\\tgeral\\tsvchost (1752,p,0) ds_token_db: o mecanismo de banco de dados (10.00.16299.0000) está iniciando uma nova instância (0).',\n",
              " 'informações\\t22/04/2018 19:04:25\\tesent\\t916\\tgeral\\tsvchost (3976,g,0) o recurso beta esediskflushconsistency está habilitado em esent devido às configurações de modo de site beta 0x800000.',\n",
              " 'informações\\t22/04/2018 18:47:01\\tesent\\t916\\tgeral\\tsvchost (3976,g,0) o recurso beta esediskflushconsistency está habilitado em esent devido às configurações de modo de site beta 0x800000.',\n",
              " 'informações\\t22/04/2018 18:23:43\\tesent\\t916\\tgeral\\tdllhost (4648,g,0) o recurso beta esediskflushconsistency está habilitado em esent devido às configurações de modo de site beta 0x800000.',\n",
              " 'informações\\t22/04/2018 18:19:00\\tesent\\t916\\tgeral\\tsvchost (3328,g,0) o recurso beta esediskflushconsistency está habilitado em esent devido às configurações de modo de site beta 0x800000.',\n",
              " 'informações\\t22/04/2018 17:46:19\\tmicrosoft-windows-security-spp\\t16384\\tnenhum\\tserviço proteção de software agendado com êxito para reiniciar em 2018-05-21t20:35:19z. motivo: rulesengine.',\n",
              " 'informações\\t22/04/2018 17:45:27\\tesent\\t916\\tgeral\\tsvchost (3976,g,0) o recurso beta esediskflushconsistency está habilitado em esent devido às configurações de modo de site beta 0x800000.',\n",
              " 'informações\\t22/04/2018 17:25:35\\tesent\\t916\\tgeral\\tdllhost (4648,g,0) o recurso beta esediskflushconsistency está habilitado em esent devido às configurações de modo de site beta 0x800000.',\n",
              " 'informações\\t22/04/2018 17:18:41\\tesent\\t916\\tgeral\\tsvchost (9480,g,0) o recurso beta esediskflushconsistency está habilitado em esent devido às configurações de modo de site beta 0x800000.',\n",
              " 'informações\\t22/04/2018 17:18:41\\tesent\\t916\\tgeral\\tdllhost (4648,g,0) o recurso beta esediskflushconsistency está habilitado em esent devido às configurações de modo de site beta 0x800000.',\n",
              " 'informações\\t22/04/2018 17:18:00\\tesent\\t916\\tgeral\\tsvchost (3328,g,0) o recurso beta esediskflushconsistency está habilitado em esent devido às configurações de modo de site beta 0x800000.',\n",
              " 'informações\\t22/04/2018 17:07:20\\tmicrosoft-windows-capi2\\t4097\\tnenhum\\t\"atualização automática com êxito de certificado raiz de terceiros:: requerente: <cn=entrust root certification authority - g2, ou=\"\"(c) 2009 entrust, inc. - for authorized use only\"\", ou=see www.entrust.net/legal-terms, o=\"\"entrust, inc.\"\", c=us> impressão digital sha1: <8cf427fd790c3ad166068de81e57efbb932272d4>.\"',\n",
              " 'informações\\t22/04/2018 16:59:19\\tesent\\t916\\tgeral\\tsvchost (3328,g,0) o recurso beta esediskflushconsistency está habilitado em esent devido às configurações de modo de site beta 0x800000.',\n",
              " 'informações\\t22/04/2018 16:58:28\\tesent\\t916\\tgeral\\tsvchost (3976,g,0) o recurso beta esediskflushconsistency está habilitado em esent devido às configurações de modo de site beta 0x800000.',\n",
              " 'erro\\t22/04/2018 16:58:16\\tdptf\\t256\\tgeneral\\tintel(r) dynamic platform and thermal framework : esif(8.1.10603.192) type: error',\n",
              " '',\n",
              " 'dptf build version:  8.1.10603.192',\n",
              " 'dptf build date:  aug  7 2015 10:44:44',\n",
              " 'source file:  ..\\\\..\\\\..\\\\..\\\\sources\\\\policies\\\\configtdppolicy\\\\configtdppolicy.cpp @ line 183',\n",
              " 'executing function:  configtdppolicy::ondomainpowercontrolcapabilitychanged',\n",
              " 'message:  datalength is invalid.',\n",
              " 'participant:  tcpu [7]',\n",
              " 'domain:  pkg [0]',\n",
              " 'policy:  configtdp policy [0]',\n",
              " ' ',\n",
              " 'informações\\t22/04/2018 16:18:11\\tmicrosoft-windows-defrag\\t258\\tnenhum\\to otimizador de disco foi concluído com êxito desfragmentação em restore',\n",
              " 'informações\\t22/04/2018 16:18:10\\tmicrosoft-windows-defrag\\t258\\tnenhum\\to otimizador de disco foi concluído com êxito desfragmentação em \\\\\\\\?\\\\volume{d0343817-5c13-4c48-bbbb-10fa0dac8d81}\\\\',\n",
              " 'informações\\t22/04/2018 16:18:09\\tmicrosoft-windows-defrag\\t258\\tnenhum\\to otimizador de disco foi concluído com êxito desfragmentação em recovery',\n",
              " 'informações\\t22/04/2018 16:18:09\\tmicrosoft-windows-defrag\\t258\\tnenhum\\to otimizador de disco foi concluído com êxito desfragmentação em system',\n",
              " 'informações\\t22/04/2018 16:18:08\\tmicrosoft-windows-defrag\\t258\\tnenhum\\to otimizador de disco foi concluído com êxito desfragmentação em data (d:)',\n",
              " 'informações\\t22/04/2018 16:18:00\\tesent\\t916\\tgeral\\tsvchost (3328,g,0) o recurso beta esediskflushconsistency está habilitado em esent devido às configurações de modo de site beta 0x800000.',\n",
              " 'informações\\t22/04/2018 16:17:02\\tmicrosoft-windows-defrag\\t258\\tnenhum\\to otimizador de disco foi concluído com êxito desfragmentação em (c:)',\n",
              " 'informações\\t22/04/2018 15:50:54\\tesent\\t916\\tgeral\\tsvchost (3328,g,0) o recurso beta esediskflushconsistency está habilitado em esent devido às configurações de modo de site beta 0x800000.',\n",
              " 'informações\\t22/04/2018 15:28:54\\tesent\\t916\\tgeral\\tsvchost (10984,g,0) o recurso beta esediskflushconsistency está habilitado em esent devido às configurações de modo de site beta 0x800000.',\n",
              " 'informações\\t22/04/2018 15:26:00\\tesent\\t916\\tgeral\\tsvchost (3328,g,0) o recurso beta esediskflushconsistency está habilitado em esent devido às configurações de modo de site beta 0x800000.',\n",
              " 'informações\\t22/04/2018 15:19:05\\tmicrosoft-windows-security-spp\\t16384\\tnenhum\\tserviço proteção de software agendado com êxito para reiniciar em 2018-05-21t20:35:05z. motivo: rulesengine.',\n",
              " 'informações\\t22/04/2018 15:18:35\\tmicrosoft-windows-security-spp\\t1003\\tnenhum\\t\"o serviço de proteção de software concluiu a verificação do status do licenciamento.',\n",
              " 'id do aplicativo=0ff1ce15-a989-479d-af46-f275c6370663',\n",
              " 'status do licenciamento=',\n",
              " '1: 2b88c4f2-ea8f-43cd-805e-4d41346e18a7, 1, 0 [(0 [0xc004f014, 0, 0], [(?)(?)(?)(?)(?)(?)(?)(?)])(1 )(2 )(3 )]',\n",
              " '2: b322da9c-a2e2-4058-9e4e-f59a6970bd69, 1, 1 [(0 [0x00000000, 1, 0], [(?)( 1 0x00000000)(?)( 2 0x00000000 0 0 msft:rm/algorithm/volume/1.0 0x00000000 257924)(?)(?)(?)(?)])(1 )(2 )(3 )]',\n",
              " '',\n",
              " '\"',\n",
              " 'informações\\t22/04/2018 15:17:00\\tesent\\t916\\tgeral\\tsvchost (3328,g,0) o recurso beta esediskflushconsistency está habilitado em esent devido às configurações de modo de site beta 0x800000.',\n",
              " 'informações\\t22/04/2018 15:13:11\\twindows error reporting\\t1001\\tnenhum\\t\"falha no bucket 2230246415954956860, tipo 5',\n",
              " 'nome do evento: storeagentscanforupdatesfailure0',\n",
              " 'resposta: não disponível',\n",
              " 'id do cab: 0',\n",
              " '',\n",
              " 'assinatura do problema:',\n",
              " 'p1: update;',\n",
              " 'p2: 8024402c',\n",
              " 'p3: 16299',\n",
              " 'p4: 371',\n",
              " 'p5: windows.desktop',\n",
              " 'p6: ',\n",
              " 'p7: ',\n",
              " 'p8: ',\n",
              " 'p9: ',\n",
              " 'p10: ',\n",
              " '',\n",
              " 'arquivos anexados:',\n",
              " '\\\\\\\\?\\\\c:\\\\programdata\\\\microsoft\\\\windows\\\\wer\\\\temp\\\\wer3fb1.tmp.werinternalmetadata.xml',\n",
              " '',\n",
              " 'esses arquivos podem estar disponíveis em:',\n",
              " 'c:\\\\programdata\\\\microsoft\\\\windows\\\\wer\\\\reportarchive\\\\noncritical_update;_7b13fffe15c8fb7a9a6472d89522b797f850671_00000000_01e26049',\n",
              " '',\n",
              " 'símbolo da análise: ',\n",
              " 'verificando novamente solução: 0',\n",
              " 'id do relatório: b12b5368-3541-4efb-a3d1-38accd4479fc',\n",
              " 'status do relatório: 268435556',\n",
              " 'bucket com hash: 00e52bcbf3e450fbaef36d4c8895523c\"',\n",
              " 'informações\\t22/04/2018 15:13:03\\twindows error reporting\\t1001\\tnenhum\\t\"falha no bucket , tipo 0',\n",
              " 'nome do evento: storeagentscanforupdatesfailure0',\n",
              " 'resposta: não disponível',\n",
              " 'id do cab: 0',\n",
              " '',\n",
              " 'assinatura do problema:',\n",
              " 'p1: update;',\n",
              " 'p2: 8024402c',\n",
              " 'p3: 16299',\n",
              " 'p4: 371',\n",
              " 'p5: windows.desktop',\n",
              " 'p6: ',\n",
              " 'p7: ',\n",
              " 'p8: ',\n",
              " 'p9: ',\n",
              " 'p10: ',\n",
              " '',\n",
              " 'arquivos anexados:',\n",
              " '\\\\\\\\?\\\\c:\\\\programdata\\\\microsoft\\\\windows\\\\wer\\\\temp\\\\wer3fb1.tmp.werinternalmetadata.xml',\n",
              " '',\n",
              " 'esses arquivos podem estar disponíveis em:',\n",
              " 'c:\\\\programdata\\\\microsoft\\\\windows\\\\wer\\\\reportqueue\\\\noncritical_update;_7b13fffe15c8fb7a9a6472d89522b797f850671_00000000_250a3ec7',\n",
              " '',\n",
              " 'símbolo da análise: ',\n",
              " 'verificando novamente solução: 0',\n",
              " 'id do relatório: b12b5368-3541-4efb-a3d1-38accd4479fc',\n",
              " 'status do relatório: 100',\n",
              " 'bucket com hash: \"',\n",
              " 'informações\\t22/04/2018 15:13:03\\twindows error reporting\\t1001\\tnenhum\\t\"falha no bucket , tipo 0',\n",
              " 'nome do evento: storeagentscanforupdatesfailure0',\n",
              " 'resposta: não disponível',\n",
              " 'id do cab: 0',\n",
              " '',\n",
              " 'assinatura do problema:',\n",
              " 'p1: update;',\n",
              " 'p2: 8024402c',\n",
              " 'p3: 16299',\n",
              " 'p4: 371',\n",
              " 'p5: windows.desktop',\n",
              " 'p6: ',\n",
              " 'p7: ',\n",
              " 'p8: ',\n",
              " 'p9: ',\n",
              " 'p10: ',\n",
              " '',\n",
              " 'arquivos anexados:',\n",
              " '',\n",
              " 'esses arquivos podem estar disponíveis em:',\n",
              " 'c:\\\\programdata\\\\microsoft\\\\windows\\\\wer\\\\reportqueue\\\\noncritical_update;_7b13fffe15c8fb7a9a6472d89522b797f850671_00000000_250a3ec7',\n",
              " '',\n",
              " 'símbolo da análise: ',\n",
              " 'verificando novamente solução: 0',\n",
              " 'id do relatório: b12b5368-3541-4efb-a3d1-38accd4479fc',\n",
              " 'status do relatório: 4',\n",
              " 'bucket com hash: \"',\n",
              " 'erro\\t22/04/2018 15:10:03\\tdptf\\t256\\tgeneral\\tintel(r) dynamic platform and thermal framework : esif(8.1.10603.192) type: error',\n",
              " '',\n",
              " 'dptf build version:  8.1.10603.192',\n",
              " 'dptf build date:  aug  7 2015 10:44:44',\n",
              " 'source file:  ..\\\\..\\\\..\\\\..\\\\sources\\\\policies\\\\configtdppolicy\\\\configtdppolicy.cpp @ line 183',\n",
              " 'executing function:  configtdppolicy::ondomainpowercontrolcapabilitychanged',\n",
              " 'message:  datalength is invalid.',\n",
              " 'participant:  tcpu [7]',\n",
              " 'domain:  pkg [0]',\n",
              " 'policy:  configtdp policy [0]',\n",
              " ' ',\n",
              " 'informações\\t22/04/2018 14:16:24\\tesent\\t916\\tgeral\\tsvchost (3976,g,0) o recurso beta esediskflushconsistency está habilitado em esent devido às configurações de modo de site beta 0x800000.',\n",
              " 'erro\\t22/04/2018 14:16:18\\tdptf\\t256\\tgeneral\\tintel(r) dynamic platform and thermal framework : esif(8.1.10603.192) type: error',\n",
              " '',\n",
              " 'dptf build version:  8.1.10603.192',\n",
              " 'dptf build date:  aug  7 2015 10:44:44',\n",
              " 'source file:  ..\\\\..\\\\..\\\\..\\\\sources\\\\policies\\\\configtdppolicy\\\\configtdppolicy.cpp @ line 183',\n",
              " 'executing function:  configtdppolicy::ondomainpowercontrolcapabilitychanged',\n",
              " 'message:  datalength is invalid.',\n",
              " 'participant:  tcpu [7]',\n",
              " 'domain:  pkg [0]',\n",
              " 'policy:  configtdp policy [0]',\n",
              " ' ',\n",
              " 'informações\\t22/04/2018 11:15:52\\tesent\\t916\\tgeral\\tsvchost (3328,g,0) o recurso beta esediskflushconsistency está habilitado em esent devido às configurações de modo de site beta 0x800000.',\n",
              " 'informações\\t22/04/2018 11:11:14\\tesent\\t916\\tgeral\\tmicrosoftedge (3556,g,0) o recurso beta esediskflushconsistency está habilitado em esent devido às configurações de modo de site beta 0x800000.',\n",
              " 'informações\\t22/04/2018 11:11:08\\tesent\\t916\\tgeral\\tdllhost (4648,g,0) o recurso beta esediskflushconsistency está habilitado em esent devido às configurações de modo de site beta 0x800000.',\n",
              " 'informações\\t22/04/2018 10:58:23\\tesent\\t916\\tgeral\\tsvchost (3976,g,0) o recurso beta esediskflushconsistency está habilitado em esent devido às configurações de modo de site beta 0x800000.',\n",
              " 'informações\\t22/04/2018 10:47:00\\tesent\\t916\\tgeral\\tsvchost (3328,g,0) o recurso beta esediskflushconsistency está habilitado em esent devido às configurações de modo de site beta 0x800000.',\n",
              " 'informações\\t22/04/2018 10:35:33\\tesent\\t916\\tgeral\\tsvchost (3328,g,0) o recurso beta esediskflushconsistency está habilitado em esent devido às configurações de modo de site beta 0x800000.',\n",
              " 'informações\\t22/04/2018 10:18:29\\tesent\\t916\\tgeral\\tsvchost (9988,g,0) o recurso beta esediskflushconsistency está habilitado em esent devido às configurações de modo de site beta 0x800000.',\n",
              " 'informações\\t22/04/2018 10:04:32\\tesent\\t916\\tgeral\\tsvchost (8168,g,0) o recurso beta esediskflushconsistency está habilitado em esent devido às configurações de modo de site beta 0x800000.',\n",
              " 'informações\\t22/04/2018 10:00:27\\tesent\\t916\\tgeral\\tsvchost (3976,g,0) o recurso beta esediskflushconsistency está habilitado em esent devido às configurações de modo de site beta 0x800000.',\n",
              " 'informações\\t22/04/2018 09:50:33\\tmicrosoft-windows-security-spp\\t16384\\tnenhum\\tserviço proteção de software agendado com êxito para reiniciar em 2018-05-21t20:35:33z. motivo: rulesengine.',\n",
              " 'informações\\t22/04/2018 09:50:03\\tmicrosoft-windows-security-spp\\t1003\\tnenhum\\t\"o serviço de proteção de software concluiu a verificação do status do licenciamento.',\n",
              " 'id do aplicativo=0ff1ce15-a989-479d-af46-f275c6370663',\n",
              " 'status do licenciamento=',\n",
              " '1: 2b88c4f2-ea8f-43cd-805e-4d41346e18a7, 1, 0 [(0 [0xc004f014, 0, 0], [(?)(?)(?)(?)(?)(?)(?)(?)])(1 )(2 )(3 )]',\n",
              " '2: b322da9c-a2e2-4058-9e4e-f59a6970bd69, 1, 1 [(0 [0x00000000, 1, 0], [(?)( 1 0x00000000)(?)( 2 0x00000000 0 0 msft:rm/algorithm/volume/1.0 0x00000000 258252)(?)(?)(?)(?)])(1 )(2 )(3 )]',\n",
              " '',\n",
              " '\"',\n",
              " 'informações\\t22/04/2018 09:49:30\\tmicrosoft-windows-security-spp\\t16384\\tnenhum\\tserviço proteção de software agendado com êxito para reiniciar em 2018-05-21t20:35:30z. motivo: rulesengine.',\n",
              " 'informações\\t22/04/2018 09:48:25\\tmicrosoft-windows-security-spp\\t1003\\tnenhum\\t\"o serviço de proteção de software concluiu a verificação do status do licenciamento.',\n",
              " 'id do aplicativo=0ff1ce15-a989-479d-af46-f275c6370663',\n",
              " 'status do licenciamento=',\n",
              " '1: 2b88c4f2-ea8f-43cd-805e-4d41346e18a7, 1, 0 [(0 [0xc004f014, 0, 0], [(?)(?)(?)(?)(?)(?)(?)(?)])(1 )(2 )(3 )]',\n",
              " '2: b322da9c-a2e2-4058-9e4e-f59a6970bd69, 1, 1 [(0 [0x00000000, 1, 0], [(?)( 1 0x00000000)(?)( 2 0x00000000 0 0 msft:rm/algorithm/volume/1.0 0x00000000 258254)(?)(?)(?)(?)])(1 )(2 )(3 )]',\n",
              " '',\n",
              " '\"',\n",
              " 'informações\\t22/04/2018 09:48:25\\tesent\\t916\\tgeral\\tsvchost (9132,g,0) o recurso beta esediskflushconsistency está habilitado em esent devido às configurações de modo de site beta 0x800000.',\n",
              " 'informações\\t22/04/2018 09:45:40\\tesent\\t916\\tgeral\\tsvchost (3976,g,0) o recurso beta esediskflushconsistency está habilitado em esent devido às configurações de modo de site beta 0x800000.',\n",
              " 'informações\\t22/04/2018 09:45:28\\tesent\\t916\\tgeral\\ttaskhostw (3776,g,0) o recurso beta esediskflushconsistency está habilitado em esent devido às configurações de modo de site beta 0x800000.',\n",
              " 'informações\\t22/04/2018 09:45:25\\tigfxcuiservice1.0.0.0\\t0\\tnenhum\\t\"não é possível localizar a descrição da identificação de evento 0 na origem \"\"igfxcuiservice1.0.0.0\"\". o componente que gera esse evento não está instalado no computador local ou a instalação está danificada. você pode instalar ou reparar o componente no computador local.',\n",
              " '',\n",
              " 'se o evento foi originado em outro computador, as informações de exibição tiveram que ser salvas com o evento.',\n",
              " '',\n",
              " 'as seguintes informações foram incluídas com o evento: ',\n",
              " '',\n",
              " 'received post shell event 2',\n",
              " '',\n",
              " '\"',\n",
              " 'informações\\t22/04/2018 09:45:25\\tmicrosoft-windows-winlogon\\t6000\\tnenhum\\to assinante de notificação do winlogon <sessionenv> não estava disponível para tratar de um evento de notificação.',\n",
              " 'informações\\t22/04/2018 09:45:25\\tigfxcuiservice1.0.0.0\\t0\\tnenhum\\t\"não é possível localizar a descrição da identificação de evento 0 na origem \"\"igfxcuiservice1.0.0.0\"\". o componente que gera esse evento não está instalado no computador local ou a instalação está danificada. você pode instalar ou reparar o componente no computador local.',\n",
              " '',\n",
              " 'se o evento foi originado em outro computador, as informações de exibição tiveram que ser salvas com o evento.',\n",
              " '',\n",
              " 'as seguintes informações foram incluídas com o evento: ',\n",
              " '',\n",
              " 'logon: 2',\n",
              " '',\n",
              " '\"',\n",
              " 'informações\\t22/04/2018 09:45:25\\tigfxcuiservice1.0.0.0\\t0\\tnenhum\\t\"não é possível localizar a descrição da identificação de evento 0 na origem \"\"igfxcuiservice1.0.0.0\"\". o componente que gera esse evento não está instalado no computador local ou a instalação está danificada. você pode instalar ou reparar o componente no computador local.',\n",
              " '',\n",
              " 'se o evento foi originado em outro computador, as informações de exibição tiveram que ser salvas com o evento.',\n",
              " '',\n",
              " 'as seguintes informações foram incluídas com o evento: ',\n",
              " '',\n",
              " 'log on event received user1',\n",
              " '',\n",
              " '\"',\n",
              " 'informações\\t22/04/2018 09:45:25\\tesent\\t916\\tgeral\\tsvchost (6960,g,50) o recurso beta esediskflushconsistency está habilitado em esent devido às configurações de modo de site beta 0x800000.',\n",
              " 'informações\\t22/04/2018 09:45:24\\tmicrosoft-windows-winlogon\\t6003\\tnenhum\\to assinante de notificação do winlogon <sessionenv> não estava disponível para tratar de um evento de notificação crítico.',\n",
              " 'erro\\t22/04/2018 09:45:24\\tdptf\\t256\\tgeneral\\tintel(r) dynamic platform and thermal framework : esif(8.1.10603.192) type: error',\n",
              " '',\n",
              " 'dptf build version:  8.1.10603.192',\n",
              " 'dptf build date:  aug  7 2015 10:44:44',\n",
              " 'source file:  ..\\\\..\\\\..\\\\..\\\\sources\\\\policies\\\\configtdppolicy\\\\configtdppolicy.cpp @ line 183',\n",
              " 'executing function:  configtdppolicy::ondomainpowercontrolcapabilitychanged',\n",
              " 'message:  datalength is invalid.',\n",
              " 'participant:  tcpu [7]',\n",
              " 'domain:  pkg [0]',\n",
              " 'policy:  configtdp policy [0]',\n",
              " ' ',\n",
              " 'informações\\t21/04/2018 20:59:03\\tesent\\t916\\tgeral\\tsvchost (3328,g,0) o recurso beta esediskflushconsistency está habilitado em esent devido às configurações de modo de site beta 0x800000.',\n",
              " 'informações\\t21/04/2018 20:59:02\\tmicrosoft-windows-user profiles service\\t1530\\tnenhum\\t\"o windows detectou que o arquivo do registro ainda está em uso por outros aplicativos ou serviços. o arquivo será descarregado agora. os aplicativos ou serviços que usam o arquivo do registro poderão não funcionar corretamente depois disso.  ',\n",
              " '',\n",
              " ' detalhe - ',\n",
              " ' 19 user registry handles leaked from \\\\registry\\\\user\\\\s-1-5-21-3353191766-2097756143-14551231-1001:',\n",
              " 'process 828 (\\\\device\\\\harddiskvolume4\\\\windows\\\\system32\\\\winlogon.exe) has opened key \\\\registry\\\\user\\\\s-1-5-21-3353191766-2097756143-14551231-1001',\n",
              " 'process 1180 (\\\\device\\\\harddiskvolume4\\\\windows\\\\system32\\\\svchost.exe) has opened key \\\\registry\\\\user\\\\s-1-5-21-3353191766-2097756143-14551231-1001\\\\system\\\\gameconfigstore\\\\parents',\n",
              " 'process 1180 (\\\\device\\\\harddiskvolume4\\\\windows\\\\system32\\\\svchost.exe) has opened key \\\\registry\\\\user\\\\s-1-5-21-3353191766-2097756143-14551231-1001\\\\system\\\\gameconfigstore',\n",
              " 'process 3312 (\\\\device\\\\harddiskvolume4\\\\windows\\\\system32\\\\svchost.exe) has opened key \\\\registry\\\\user\\\\s-1-5-21-3353191766-2097756143-14551231-1001\\\\software\\\\policies\\\\microsoft\\\\windows\\\\cloudcontent',\n",
              " 'process 9072 (\\\\device\\\\harddiskvolume4\\\\windows\\\\system32\\\\svchost.exe) has opened key \\\\registry\\\\user\\\\s-1-5-21-3353191766-2097756143-14551231-1001\\\\software\\\\microsoft\\\\windows\\\\currentversion\\\\uninstall',\n",
              " 'process 3976 (\\\\device\\\\harddiskvolume4\\\\windows\\\\system32\\\\svchost.exe) has opened key \\\\registry\\\\user\\\\s-1-5-21-3353191766-2097756143-14551231-1001\\\\software\\\\microsoft\\\\windows\\\\currentversion\\\\internet settings',\n",
              " 'process 5140 (\\\\device\\\\harddiskvolume4\\\\windows\\\\system32\\\\svchost.exe) has opened key \\\\registry\\\\user\\\\s-1-5-21-3353191766-2097756143-14551231-1001\\\\software\\\\microsoft\\\\windows\\\\currentversion\\\\internet settings',\n",
              " 'process 3312 (\\\\device\\\\harddiskvolume4\\\\windows\\\\system32\\\\svchost.exe) has opened key \\\\registry\\\\user\\\\s-1-5-21-3353191766-2097756143-14551231-1001\\\\software\\\\microsoft\\\\windows\\\\currentversion\\\\privacy',\n",
              " 'process 3976 (\\\\device\\\\harddiskvolume4\\\\windows\\\\system32\\\\svchost.exe) has opened key \\\\registry\\\\user\\\\s-1-5-21-3353191766-2097756143-14551231-1001\\\\software\\\\microsoft\\\\internet explorer\\\\main\\\\featurecontrol',\n",
              " 'process 5140 (\\\\device\\\\harddiskvolume4\\\\windows\\\\system32\\\\svchost.exe) has opened key \\\\registry\\\\user\\\\s-1-5-21-3353191766-2097756143-14551231-1001\\\\software\\\\microsoft\\\\internet explorer\\\\main\\\\featurecontrol',\n",
              " 'process 3312 (\\\\device\\\\harddiskvolume4\\\\windows\\\\system32\\\\svchost.exe) has opened key \\\\registry\\\\user\\\\s-1-5-21-3353191766-2097756143-14551231-1001\\\\software\\\\policies\\\\microsoft\\\\windows\\\\datacollection',\n",
              " 'process 3976 (\\\\device\\\\harddiskvolume4\\\\windows\\\\system32\\\\svchost.exe) has opened key \\\\registry\\\\user\\\\s-1-5-21-3353191766-2097756143-14551231-1001\\\\software\\\\policies\\\\microsoft\\\\windows\\\\currentversion\\\\internet settings',\n",
              " 'process 5140 (\\\\device\\\\harddiskvolume4\\\\windows\\\\system32\\\\svchost.exe) has opened key \\\\registry\\\\user\\\\s-1-5-21-3353191766-2097756143-14551231-1001\\\\software\\\\policies\\\\microsoft\\\\windows\\\\currentversion\\\\internet settings',\n",
              " 'process 5140 (\\\\device\\\\harddiskvolume4\\\\windows\\\\system32\\\\svchost.exe) has opened key \\\\registry\\\\user\\\\s-1-5-21-3353191766-2097756143-14551231-1001\\\\software\\\\microsoft\\\\internet explorer\\\\main',\n",
              " 'process 3976 (\\\\device\\\\harddiskvolume4\\\\windows\\\\system32\\\\svchost.exe) has opened key \\\\registry\\\\user\\\\s-1-5-21-3353191766-2097756143-14551231-1001\\\\software\\\\microsoft\\\\internet explorer\\\\main',\n",
              " 'process 980 (<unknown>) has opened key \\\\registry\\\\user\\\\s-1-5-21-3353191766-2097756143-14551231-1001\\\\software\\\\microsoft\\\\windows nt\\\\currentversion\\\\fonts',\n",
              " 'process 1180 (\\\\device\\\\harddiskvolume4\\\\windows\\\\system32\\\\svchost.exe) has opened key \\\\registry\\\\user\\\\s-1-5-21-3353191766-2097756143-14551231-1001\\\\system\\\\gameconfigstore\\\\children',\n",
              " 'process 5140 (\\\\device\\\\harddiskvolume4\\\\windows\\\\system32\\\\svchost.exe) has opened key \\\\registry\\\\user\\\\s-1-5-21-3353191766-2097756143-14551231-1001\\\\software\\\\microsoft\\\\internet explorer\\\\security',\n",
              " 'process 3976 (\\\\device\\\\harddiskvolume4\\\\windows\\\\system32\\\\svchost.exe) has opened key \\\\registry\\\\user\\\\s-1-5-21-3353191766-2097756143-14551231-1001\\\\software\\\\microsoft\\\\internet explorer\\\\security',\n",
              " '\"',\n",
              " 'informações\\t21/04/2018 20:59:03\\tmicrosoft-windows-winlogon\\t6000\\tnenhum\\to assinante de notificação do winlogon <sessionenv> não estava disponível para tratar de um evento de notificação.',\n",
              " 'informações\\t21/04/2018 20:59:02\\tigfxcuiservice1.0.0.0\\t0\\tnenhum\\t\"não é possível localizar a descrição da identificação de evento 0 na origem \"\"igfxcuiservice1.0.0.0\"\". o componente que gera esse evento não está instalado no computador local ou a instalação está danificada. você pode instalar ou reparar o componente no computador local.',\n",
              " '',\n",
              " 'se o evento foi originado em outro computador, as informações de exibição tiveram que ser salvas com o evento.',\n",
              " '',\n",
              " 'as seguintes informações foram incluídas com o evento: ',\n",
              " '',\n",
              " ' logoff: 1',\n",
              " '',\n",
              " '\"',\n",
              " 'informações\\t21/04/2018 20:59:02\\tigfxcuiservice1.0.0.0\\t0\\tnenhum\\t\"não é possível localizar a descrição da identificação de evento 0 na origem \"\"igfxcuiservice1.0.0.0\"\". o componente que gera esse evento não está instalado no computador local ou a instalação está danificada. você pode instalar ou reparar o componente no computador local.',\n",
              " '',\n",
              " 'se o evento foi originado em outro computador, as informações de exibição tiveram que ser salvas com o evento.',\n",
              " '',\n",
              " 'as seguintes informações foram incluídas com o evento: ',\n",
              " '',\n",
              " ' logoff: test',\n",
              " '',\n",
              " '\"',\n",
              " 'informações\\t21/04/2018 20:59:01\\tdesktop window manager\\t9027\\tnenhum\\to gerenciador de janelas da área de trabalho registrou a porta da sessão.',\n",
              " 'informações\\t21/04/2018 20:58:58\\tesent\\t916\\tgeral\\tdllhost (4452,g,0) o recurso beta esediskflushconsistency está habilitado em esent devido às configurações de modo de site beta 0x800000.',\n",
              " 'informações\\t21/04/2018 20:58:55\\tesent\\t916\\tgeral\\tsvchost (6244,g,0) o recurso beta esediskflushconsistency está habilitado em esent devido às configurações de modo de site beta 0x800000.',\n",
              " 'informações\\t21/04/2018 20:44:55\\tesent\\t916\\tgeral\\tsvchost (3976,g,0) o recurso beta esediskflushconsistency está habilitado em esent devido às configurações de modo de site beta 0x800000.',\n",
              " 'informações\\t21/04/2018 20:32:33\\tesent\\t916\\tgeral\\tsvchost (3328,g,0) o recurso beta esediskflushconsistency está habilitado em esent devido às configurações de modo de site beta 0x800000.',\n",
              " 'informações\\t21/04/2018 20:27:37\\tesent\\t916\\tgeral\\tsvchost (3328,g,0) o recurso beta esediskflushconsistency está habilitado em esent devido às configurações de modo de site beta 0x800000.',\n",
              " 'informações\\t21/04/2018 20:01:00\\tesent\\t916\\tgeral\\tsvchost (3328,g,0) o recurso beta esediskflushconsistency está habilitado em esent devido às configurações de modo de site beta 0x800000.',\n",
              " 'informações\\t21/04/2018 19:40:25\\tesent\\t916\\tgeral\\tsvchost (3976,g,0) o recurso beta esediskflushconsistency está habilitado em esent devido às configurações de modo de site beta 0x800000.',\n",
              " 'informações\\t21/04/2018 19:36:40\\tmicrosoft-windows-security-spp\\t16384\\tnenhum\\tserviço proteção de software agendado com êxito para reiniciar em 2018-05-21t20:35:40z. motivo: rulesengine.',\n",
              " 'informações\\t21/04/2018 19:36:10\\tmicrosoft-windows-security-spp\\t1003\\tnenhum\\t\"o serviço de proteção de software concluiu a verificação do status do licenciamento.',\n",
              " 'id do aplicativo=0ff1ce15-a989-479d-af46-f275c6370663',\n",
              " 'status do licenciamento=',\n",
              " '1: 2b88c4f2-ea8f-43cd-805e-4d41346e18a7, 1, 0 [(0 [0xc004f014, 0, 0], [(?)(?)(?)(?)(?)(?)(?)(?)])(1 )(2 )(3 )]',\n",
              " '2: b322da9c-a2e2-4058-9e4e-f59a6970bd69, 1, 1 [(0 [0x00000000, 1, 0], [(?)( 1 0x00000000)(?)( 2 0x00000000 0 0 msft:rm/algorithm/volume/1.0 0x00000000 259106)(?)(?)(?)(?)])(1 )(2 )(3 )]',\n",
              " '',\n",
              " '\"',\n",
              " 'informações\\t21/04/2018 19:30:44\\twindows error reporting\\t1001\\tnenhum\\t\"falha no bucket 2173059151797218016, tipo 5',\n",
              " 'nome do evento: radar_pre_leak_64',\n",
              " 'resposta: não disponível',\n",
              " 'id do cab: 0',\n",
              " '',\n",
              " 'assinatura do problema:',\n",
              " 'p1: java.exe',\n",
              " 'p2: 8.0.1610.12',\n",
              " 'p3: 10.0.16299.2.0.0',\n",
              " 'p4: ',\n",
              " 'p5: ',\n",
              " 'p6: ',\n",
              " 'p7: ',\n",
              " 'p8: ',\n",
              " 'p9: ',\n",
              " 'p10: ',\n",
              " '',\n",
              " 'arquivos anexados:',\n",
              " '\\\\\\\\?\\\\c:\\\\users\\\\everton\\\\appdata\\\\local\\\\temp\\\\rdrba05.tmp\\\\empty.txt',\n",
              " '\\\\\\\\?\\\\c:\\\\programdata\\\\microsoft\\\\windows\\\\wer\\\\temp\\\\werba16.tmp.werinternalmetadata.xml',\n",
              " '\\\\\\\\?\\\\c:\\\\programdata\\\\microsoft\\\\windows\\\\wer\\\\temp\\\\werba53.tmp.csv',\n",
              " '\\\\\\\\?\\\\c:\\\\programdata\\\\microsoft\\\\windows\\\\wer\\\\temp\\\\werba83.tmp.txt',\n",
              " '',\n",
              " 'esses arquivos podem estar disponíveis em:',\n",
              " '',\n",
              " '',\n",
              " 'símbolo da análise: ',\n",
              " 'verificando novamente solução: 0',\n",
              " 'id do relatório: 55f100a4-03fe-4fe9-b1c3-82be88622ea2',\n",
              " 'status do relatório: 268435456',\n",
              " 'bucket com hash: e95b620bea68b87c0e2841c902c8eae0\"',\n",
              " 'informações\\t21/04/2018 19:19:09\\tesent\\t916\\tgeral\\tsvchost (4720,g,0) o recurso beta esediskflushconsistency está habilitado em esent devido às configurações de modo de site beta 0x800000.',\n",
              " 'informações\\t21/04/2018 19:11:50\\tesent\\t916\\tgeral\\tsvchost (8892,g,0) o recurso beta esediskflushconsistency está habilitado em esent devido às configurações de modo de site beta 0x800000.',\n",
              " 'informações\\t21/04/2018 19:06:46\\tmicrosoft-windows-security-spp\\t16384\\tnenhum\\tserviço proteção de software agendado com êxito para reiniciar em 2018-05-21t20:35:46z. motivo: rulesengine.',\n",
              " 'informações\\t21/04/2018 19:06:16\\tmicrosoft-windows-security-spp\\t1003\\tnenhum\\t\"o serviço de proteção de software concluiu a verificação do status do licenciamento.',\n",
              " 'id do aplicativo=0ff1ce15-a989-479d-af46-f275c6370663',\n",
              " 'status do licenciamento=',\n",
              " '1: 2b88c4f2-ea8f-43cd-805e-4d41346e18a7, 1, 0 [(0 [0xc004f014, 0, 0], [(?)(?)(?)(?)(?)(?)(?)(?)])(1 )(2 )(3 )]',\n",
              " '2: b322da9c-a2e2-4058-9e4e-f59a6970bd69, 1, 1 [(0 [0x00000000, 1, 0], [(?)( 1 0x00000000)(?)( 2 0x00000000 0 0 msft:rm/algorithm/volume/1.0 0x00000000 259136)(?)(?)(?)(?)])(1 )(2 )(3 )]',\n",
              " '',\n",
              " '\"',\n",
              " 'informações\\t21/04/2018 19:06:10\\tmicrosoft-windows-security-spp\\t16384\\tnenhum\\tserviço proteção de software agendado com êxito para reiniciar em 2018-05-21t20:35:10z. motivo: rulesengine.',\n",
              " 'informações\\t21/04/2018 19:05:43\\tesent\\t326\\tgeral\\t\"music.ui (6840,d,50) {4fdfe67f-cfe6-42cc-a965-495821454813}: the database engine attached a database (1, c:\\\\users\\\\everton\\\\appdata\\\\local\\\\packages\\\\microsoft.zunemusic_8wekyb3d8bbwe\\\\localstate\\\\database\\\\anonymous\\\\entclientdb.edb). (time=0 seconds) ',\n",
              " ' ',\n",
              " 'saved cache: 0 0 ',\n",
              " 'additional data: lgposattach = 0000000a:01f7:0268 ',\n",
              " ' ',\n",
              " 'internal timing sequence: ',\n",
              " '[1] 0.000002 +j(0)',\n",
              " '[2] 0.000688 +j(0) +m(c:0k, fs:18, ws:8k # 0k, pf:8k # 0k, p:8k)',\n",
              " '[3] 0.007424 +j(cm:0, pgrf:0, rd:0/0, dy:0/0, lg:3480/2) +m(c:0k, fs:7, ws:20k # 0k, pf:20k # 0k, p:20k)']"
            ]
          },
          "execution_count": 28,
          "metadata": {},
          "output_type": "execute_result"
        }
      ],
      "source": [
        "rdd2.take(1000)"
      ]
    },
    {
      "cell_type": "code",
      "execution_count": 29,
      "metadata": {
        "id": "bCqw8yMQkIEi"
      },
      "outputs": [],
      "source": [
        "import matplotlib.pyplot as plt\n",
        "%matplotlib inline"
      ]
    },
    {
      "cell_type": "code",
      "execution_count": 30,
      "metadata": {
        "id": "ykyslEGDkLV3"
      },
      "outputs": [],
      "source": [
        "def histograma(words):\n",
        "    dados = dict(words)\n",
        "    y,x = zip(*sorted(zip(dados.values(),[str(i) for i in dados.keys()])))\n",
        "    plt.barh(x, y, color='g')"
      ]
    },
    {
      "cell_type": "code",
      "execution_count": 31,
      "metadata": {
        "id": "q2KaWLlxkQPX"
      },
      "outputs": [
        {
          "data": {
            "text/plain": [
              "[(392, 'do'),\n",
              " (378, 'produto:'),\n",
              " (266, 'microsoft'),\n",
              " (214, 'o'),\n",
              " (181, 'da'),\n",
              " (181, 'nome'),\n",
              " (180, '0.'),\n",
              " (147, 'erro'),\n",
              " (137, 'de'),\n",
              " (132, 'nenhum')]"
            ]
          },
          "execution_count": 31,
          "metadata": {},
          "output_type": "execute_result"
        }
      ],
      "source": [
        "wordsS = rdd7.map(lambda x:(x[1],x[0])).sortByKey(False)\n",
        "wordsS.take(10)"
      ]
    },
    {
      "cell_type": "code",
      "execution_count": 32,
      "metadata": {
        "id": "tnulh4nXkgCE"
      },
      "outputs": [
        {
          "data": {
            "text/plain": [
              "[('do', 392),\n",
              " ('produto:', 378),\n",
              " ('microsoft', 266),\n",
              " ('o', 214),\n",
              " ('da', 181),\n",
              " ('nome', 181),\n",
              " ('0.', 180),\n",
              " ('erro', 147),\n",
              " ('de', 137),\n",
              " ('nenhum', 132)]"
            ]
          },
          "execution_count": 32,
          "metadata": {},
          "output_type": "execute_result"
        }
      ],
      "source": [
        "wordsF = wordsS.map(lambda x:(x[1], x[0]))\n",
        "wordsF.take(10)"
      ]
    },
    {
      "cell_type": "code",
      "execution_count": 33,
      "metadata": {
        "id": "7W25UMffkjYo"
      },
      "outputs": [
        {
          "data": {
            "image/png": "[encoded data removed]",
            "text/plain": [
              "<Figure size 432x288 with 1 Axes>"
            ]
          },
          "metadata": {
            "needs_background": "light"
          },
          "output_type": "display_data"
        }
      ],
      "source": [
        "histograma(wordsF.take(20))"
      ]
    },
    {
      "cell_type": "markdown",
      "metadata": {
        "id": "NKq7J7yCiJqO"
      },
      "source": [
        "## Exercicio 2b\n",
        "\n",
        "- Objetivo: Identificar os logs em com erro\n",
        "- Ler da pasta Dados/E2/logs.txt\n",
        "- Passar todas palavras para minúsculas\n",
        "- Pegar apenas as linhas que **iniciam** a palavra “erro”\n",
        "  - Dica: Utilize\n",
        "    ```\n",
        "    import re\n",
        "    re.match(pattern, string)\n",
        "    ```\n",
        "- Filtrar apenas os dígitos (não palavras)\n",
        "- Contar\n",
        "- Ordenar pelas palavras que mais se repetem\n",
        "- Salvar os resultados\n",
        "- Exibir num gráfico de barras os 20 primeiros códigos (números) de erros que mais ocorrem\n"
      ]
    },
    {
      "cell_type": "code",
      "execution_count": 34,
      "metadata": {
        "id": "pVIFWILdlJjf"
      },
      "outputs": [
        {
          "data": {
            "text/plain": [
              "[('As seguintes informações foram incluídas com o evento: ', 343),\n",
              " ('Se o evento foi originado em outro computador, as informações de exibição tiveram que ser salvas com o evento.',\n",
              "  343),\n",
              " ('ID do CAB: 0', 170),\n",
              " ('Arquivos anexados:', 170),\n",
              " ('Símbolo da análise: ', 170),\n",
              " ('Resposta: Não disponível', 170),\n",
              " ('Assinatura do problema:', 170),\n",
              " ('Esses arquivos podem estar disponíveis em:', 170),\n",
              " ('Verificando novamente solução: 0', 170),\n",
              " ('Status do Licenciamento=', 124)]"
            ]
          },
          "execution_count": 34,
          "metadata": {},
          "output_type": "execute_result"
        }
      ],
      "source": [
        "#Contar as palavras\n",
        "rddExe2x = rddExe2.map(lambda x: (x,1))\n",
        "rddExe2y = rddExe2x.reduceByKey(lambda x,y: x+y)\n",
        "\n",
        "#Ordenar pelas palavras que mais se repetem\n",
        "rddExe2z = rddExe2y.sortBy(lambda x: x[1],False)\n",
        "\n",
        "#Apenas para remover virgulas e caracteres indesejados\n",
        "rddExe2finalb = rddExe2z.filter(lambda x: len(x[0]) > 1)\n",
        "rddExe2finalb.take(10)"
      ]
    },
    {
      "cell_type": "code",
      "execution_count": null,
      "metadata": {
        "id": "Zqz0A7cKloA7"
      },
      "outputs": [],
      "source": [
        "#Salvar os resultados\n",
        "rddExe2finalb.saveAsTextFile(\"Dados/content/log_erros_ex2b.txt\")\n",
        "rddExe2y.saveAsTextFile(\"Dados/content/palavras_contadas_log_ex2b.txt\")"
      ]
    },
    {
      "cell_type": "code",
      "execution_count": 37,
      "metadata": {
        "id": "HHpgQYI0luS9"
      },
      "outputs": [
        {
          "data": {
            "image/png": "[encoded data removed]",
            "text/plain": [
              "<Figure size 432x288 with 1 Axes>"
            ]
          },
          "metadata": {
            "needs_background": "light"
          },
          "output_type": "display_data"
        }
      ],
      "source": [
        "#Exibir num gráfico de barras os 20 primeiros códigos (números) de erros que mais ocorrem\n",
        "\n",
        "wordsA = rddExe2finalb.map(lambda x:(x[1],x[0])).sortByKey(False)\n",
        "\n",
        "wordsB = wordsA.map(lambda x:(x[1], x[0]))\n",
        "\n",
        "\n",
        "histograma(wordsB.take(20))"
      ]
    },
    {
      "cell_type": "markdown",
      "metadata": {
        "id": "aa78i0ioinX6"
      },
      "source": [
        "## Exercicio 3\n",
        "\n",
        "-  Objetivo Identificar os veículos\n",
        "- Utilizando as informações da Pasta Dados/E3/registrosPlacas.txt, levantar as\n",
        "seguintes informações:\n",
        "  - Preparar os dados\n",
        "  - Identificar o veículo que tem mais registros\n",
        "  - Identificar qual veículo teve a maior velocidade\n",
        "  - Identificar qual veículo teve a maior velocidade média\n"
      ]
    },
    {
      "cell_type": "code",
      "execution_count": 38,
      "metadata": {
        "id": "weDsumBQhCiM"
      },
      "outputs": [
        {
          "name": "stderr",
          "output_type": "stream",
          "text": [
            "C:\\Spark\\spark-3.2.0-bin-hadoop3.2\\python\\pyspark\\sql\\context.py:77: FutureWarning: Deprecated in 3.0.0. Use SparkSession.builder.getOrCreate() instead.\n",
            "  warnings.warn(\n"
          ]
        }
      ],
      "source": [
        "from pyspark.sql import SQLContext\n",
        "from pyspark.sql.types import StructType, StructField, IntegerType, StringType, FloatType\n",
        "from pyspark.sql import functions as F\n",
        "sqlc = SQLContext(sc)"
      ]
    },
    {
      "cell_type": "code",
      "execution_count": 39,
      "metadata": {
        "id": "1OtIyzWBypPs"
      },
      "outputs": [],
      "source": [
        "df = sqlc.read.csv(\"Dados/E3/registrosPlacas.txt\", sep='\\t')"
      ]
    },
    {
      "cell_type": "code",
      "execution_count": 40,
      "metadata": {
        "colab": {
          "base_uri": "https://localhost:8080/"
        },
        "id": "I5KsogOV0XVj",
        "outputId": "ae3b6892-269f-4fa3-b428-2461815d2d83"
      },
      "outputs": [
        {
          "name": "stdout",
          "output_type": "stream",
          "text": [
            "+------------+--------+--------------------+-------+\n",
            "|         _c0|     _c1|                 _c2|    _c3|\n",
            "+------------+--------+--------------------+-------+\n",
            "|KXU2333,5090|Curitiba|Sat Jan 01 00:00:...|88 km/h|\n",
            "|XNM0943,7025|Londrina|Sat Jan 01 00:00:...|55 km/h|\n",
            "|KXU2333,5190|Londrina|Sat Jan 01 00:00:...|84 km/h|\n",
            "|XNM0943,7026| Maringá|Sat Jan 01 00:00:...|59 km/h|\n",
            "|XNM0943,7027| Maringá|Sat Jan 01 00:00:...|59 km/h|\n",
            "|XNM0943,7028| Maringá|Sat Jan 01 00:00:...|59 km/h|\n",
            "|XNM0943,7128|Londrina|Sat Jan 01 00:00:...|59 km/h|\n",
            "|GKK7588,0351| Maringá|Sat Jan 01 00:00:...|27 km/h|\n",
            "|XNM0943,7129| Maringá|Sat Jan 01 00:00:...|50 km/h|\n",
            "|KXU2333,5290|Londrina|Sat Jan 01 00:00:...|86 km/h|\n",
            "|XNM0943,7130| Maringá|Sat Jan 01 00:00:...|49 km/h|\n",
            "|KXU2333,5390|Londrina|Sat Jan 01 00:00:...|86 km/h|\n",
            "|XNM0943,7131| Maringá|Sat Jan 01 00:00:...|42 km/h|\n",
            "|KXU2333,5490|Londrina|Sat Jan 01 00:00:...|85 km/h|\n",
            "|XNM0943,7132| Maringá|Sat Jan 01 00:00:...|42 km/h|\n",
            "|XNM0943,7133| Maringá|Sat Jan 01 00:01:...|48 km/h|\n",
            "|GKK7588,0352| Maringá|Sat Jan 01 00:00:...|35 km/h|\n",
            "|GKK7588,0452|Londrina|Sat Jan 01 00:00:...|38 km/h|\n",
            "|KXU2333,5489|Curitiba|Sat Jan 01 00:00:...|81 km/h|\n",
            "|GKK7588,0552|Londrina|Sat Jan 01 00:00:...|43 km/h|\n",
            "+------------+--------+--------------------+-------+\n",
            "only showing top 20 rows\n",
            "\n"
          ]
        }
      ],
      "source": [
        "df.show()"
      ]
    },
    {
      "cell_type": "code",
      "execution_count": 41,
      "metadata": {
        "id": "6IHJW1fvz3CJ"
      },
      "outputs": [],
      "source": [
        "separar_virgula = F.udf(lambda f: f.split(\",\"))\n",
        "substituir = F.udf(lambda f: f.replace(\" km/h\", \"\"))\n",
        "#substring = F.udf(lambda f: f.substring(f, 1, 7))"
      ]
    },
    {
      "cell_type": "code",
      "execution_count": 42,
      "metadata": {
        "id": "h75IKgmg-SzG"
      },
      "outputs": [],
      "source": [
        "df = df.withColumn(\"_c01\", F.split('_c0', ',')[0])\n",
        "df = df.withColumn(\"_c02\", F.split('_c0', ',')[1])\n",
        "#df.show()"
      ]
    },
    {
      "cell_type": "code",
      "execution_count": 43,
      "metadata": {
        "id": "tKHVVBVV0vAh"
      },
      "outputs": [],
      "source": [
        "df = df.withColumn('_c3', substituir(df._c3))"
      ]
    },
    {
      "cell_type": "code",
      "execution_count": 44,
      "metadata": {
        "id": "ngFySey9e8G7"
      },
      "outputs": [],
      "source": [
        "df = df.withColumn('_c3', df._c3.cast('float'))"
      ]
    },
    {
      "cell_type": "code",
      "execution_count": 45,
      "metadata": {
        "colab": {
          "base_uri": "https://localhost:8080/"
        },
        "id": "kQjutCAj17gq",
        "outputId": "aa010c69-65ac-4a3a-ff4f-c12b99c994f3"
      },
      "outputs": [
        {
          "name": "stdout",
          "output_type": "stream",
          "text": [
            "+------------+--------+--------------------+----+-------+----+\n",
            "|         _c0|     _c1|                 _c2| _c3|   _c01|_c02|\n",
            "+------------+--------+--------------------+----+-------+----+\n",
            "|KXU2333,5090|Curitiba|Sat Jan 01 00:00:...|88.0|KXU2333|5090|\n",
            "|XNM0943,7025|Londrina|Sat Jan 01 00:00:...|55.0|XNM0943|7025|\n",
            "|KXU2333,5190|Londrina|Sat Jan 01 00:00:...|84.0|KXU2333|5190|\n",
            "|XNM0943,7026| Maringá|Sat Jan 01 00:00:...|59.0|XNM0943|7026|\n",
            "|XNM0943,7027| Maringá|Sat Jan 01 00:00:...|59.0|XNM0943|7027|\n",
            "|XNM0943,7028| Maringá|Sat Jan 01 00:00:...|59.0|XNM0943|7028|\n",
            "|XNM0943,7128|Londrina|Sat Jan 01 00:00:...|59.0|XNM0943|7128|\n",
            "|GKK7588,0351| Maringá|Sat Jan 01 00:00:...|27.0|GKK7588|0351|\n",
            "|XNM0943,7129| Maringá|Sat Jan 01 00:00:...|50.0|XNM0943|7129|\n",
            "|KXU2333,5290|Londrina|Sat Jan 01 00:00:...|86.0|KXU2333|5290|\n",
            "|XNM0943,7130| Maringá|Sat Jan 01 00:00:...|49.0|XNM0943|7130|\n",
            "|KXU2333,5390|Londrina|Sat Jan 01 00:00:...|86.0|KXU2333|5390|\n",
            "|XNM0943,7131| Maringá|Sat Jan 01 00:00:...|42.0|XNM0943|7131|\n",
            "|KXU2333,5490|Londrina|Sat Jan 01 00:00:...|85.0|KXU2333|5490|\n",
            "|XNM0943,7132| Maringá|Sat Jan 01 00:00:...|42.0|XNM0943|7132|\n",
            "|XNM0943,7133| Maringá|Sat Jan 01 00:01:...|48.0|XNM0943|7133|\n",
            "|GKK7588,0352| Maringá|Sat Jan 01 00:00:...|35.0|GKK7588|0352|\n",
            "|GKK7588,0452|Londrina|Sat Jan 01 00:00:...|38.0|GKK7588|0452|\n",
            "|KXU2333,5489|Curitiba|Sat Jan 01 00:00:...|81.0|KXU2333|5489|\n",
            "|GKK7588,0552|Londrina|Sat Jan 01 00:00:...|43.0|GKK7588|0552|\n",
            "+------------+--------+--------------------+----+-------+----+\n",
            "only showing top 20 rows\n",
            "\n"
          ]
        }
      ],
      "source": [
        "df.show()"
      ]
    },
    {
      "cell_type": "code",
      "execution_count": 46,
      "metadata": {
        "colab": {
          "base_uri": "https://localhost:8080/"
        },
        "id": "7pVqhq859Xj6",
        "outputId": "bdb75a49-34e3-47ba-f894-533b510c17d6"
      },
      "outputs": [
        {
          "data": {
            "text/plain": [
              "DataFrame[_c0: string, _c1: string, _c2: string, _c3: float, _c01: string, _c02: string]"
            ]
          },
          "execution_count": 46,
          "metadata": {},
          "output_type": "execute_result"
        }
      ],
      "source": [
        "df"
      ]
    },
    {
      "cell_type": "code",
      "execution_count": 47,
      "metadata": {
        "colab": {
          "base_uri": "https://localhost:8080/"
        },
        "id": "cDZyHZdr9deo",
        "outputId": "bf6edb96-2244-4148-8812-ec8bc9755cd9"
      },
      "outputs": [
        {
          "name": "stdout",
          "output_type": "stream",
          "text": [
            "+-------+--------+-----+\n",
            "|   _c01|     _c1|count|\n",
            "+-------+--------+-----+\n",
            "|DKG9712|Umuarama| 2038|\n",
            "|DKG9712|Londrina| 2038|\n",
            "|BYO5817|Umuarama| 1942|\n",
            "|MGO1072|Londrina| 1933|\n",
            "|BYO5817|Londrina| 1913|\n",
            "|JSQ9319|Umuarama| 1906|\n",
            "|BWD3055|Curitiba| 1904|\n",
            "|KZH5426|Umuarama| 1897|\n",
            "|MGO1072|Umuarama| 1897|\n",
            "|BWD3055| Maringá| 1894|\n",
            "|ZCN1774|Londrina| 1894|\n",
            "|XJR4324| Maringá| 1887|\n",
            "|XGC4049|Curitiba| 1883|\n",
            "|XJR4324|Curitiba| 1856|\n",
            "|DXF3338|Umuarama| 1855|\n",
            "|JSQ9319|Londrina| 1855|\n",
            "|NDH5121|Umuarama| 1854|\n",
            "|NDH5121|Londrina| 1854|\n",
            "|CVV0439|Curitiba| 1853|\n",
            "|FMS8593|Curitiba| 1853|\n",
            "+-------+--------+-----+\n",
            "only showing top 20 rows\n",
            "\n"
          ]
        }
      ],
      "source": [
        "df2 = df.groupBy(df._c01, df._c1).count()\n",
        "df2.sort(\"count\", ascending=False).show()"
      ]
    },
    {
      "cell_type": "code",
      "execution_count": 48,
      "metadata": {
        "colab": {
          "base_uri": "https://localhost:8080/"
        },
        "id": "0F8bKD146pJL",
        "outputId": "7acd0186-ac31-4576-85fd-97f967e023b5"
      },
      "outputs": [
        {
          "name": "stdout",
          "output_type": "stream",
          "text": [
            "+-------+--------+--------+\n",
            "|   _c01|     _c1|max(_c3)|\n",
            "+-------+--------+--------+\n",
            "|GZH9344| Maringá|   162.0|\n",
            "|GZH9344|Londrina|   161.0|\n",
            "|GZH9344|Umuarama|   161.0|\n",
            "|GZH9344|Curitiba|   160.0|\n",
            "|UFC2015|Umuarama|   158.0|\n",
            "|UFC2015|Curitiba|   158.0|\n",
            "|UFC2015| Maringá|   157.0|\n",
            "|UFC2015|Londrina|   157.0|\n",
            "|GKK7588| Maringá|   156.0|\n",
            "|WYL3175|Umuarama|   155.0|\n",
            "|WYL3175| Maringá|   155.0|\n",
            "|RDN8228|Curitiba|   155.0|\n",
            "|RDN8228| Maringá|   155.0|\n",
            "|GKK7588|Curitiba|   155.0|\n",
            "|RDN8228|Umuarama|   155.0|\n",
            "|WYL3175|Londrina|   155.0|\n",
            "|RDN8228|Londrina|   155.0|\n",
            "|GKK7588|Londrina|   154.0|\n",
            "|GKK7588|Umuarama|   154.0|\n",
            "|WYL3175|Curitiba|   153.0|\n",
            "+-------+--------+--------+\n",
            "only showing top 20 rows\n",
            "\n"
          ]
        }
      ],
      "source": [
        "df3 = df.groupBy(df._c01, df._c1).max('_c3')\n",
        "df3.sort(\"max(_c3)\", ascending=False).show()"
      ]
    },
    {
      "cell_type": "code",
      "execution_count": 49,
      "metadata": {
        "colab": {
          "base_uri": "https://localhost:8080/"
        },
        "id": "TIdOMPd5EL1p",
        "outputId": "1f49a075-6a51-4878-874d-14a8b01672cd"
      },
      "outputs": [
        {
          "name": "stdout",
          "output_type": "stream",
          "text": [
            "+-----------------+\n",
            "|         avg(_c3)|\n",
            "+-----------------+\n",
            "|67.06565285714285|\n",
            "+-----------------+\n",
            "\n"
          ]
        }
      ],
      "source": [
        "df.groupBy().avg('_c3').show()"
      ]
    },
    {
      "cell_type": "code",
      "execution_count": 50,
      "metadata": {
        "colab": {
          "base_uri": "https://localhost:8080/"
        },
        "id": "oqVMgWWeBrf0",
        "outputId": "1244aad9-4bc4-4856-a123-52cc8494c7b8"
      },
      "outputs": [
        {
          "name": "stdout",
          "output_type": "stream",
          "text": [
            "+-------+--------+------------------+\n",
            "|   _c01|     _c1|          avg(_c3)|\n",
            "+-------+--------+------------------+\n",
            "|EZB0648|Curitiba|109.07736720554273|\n",
            "|EZB0648|Umuarama|109.02045328911001|\n",
            "|EZB0648|Londrina|108.56337209302326|\n",
            "|EZB0648| Maringá|107.97987349051179|\n",
            "|QZQ0584|Londrina| 99.65101449275362|\n",
            "|GKK7588|Curitiba| 99.45414364640884|\n",
            "|QZQ0584|Umuarama| 99.04085155350978|\n",
            "|GKK7588| Maringá| 98.78180803571429|\n",
            "|QZQ0584| Maringá| 98.52495793606282|\n",
            "|RZW5936|Umuarama| 97.44110854503464|\n",
            "|QZQ0584|Curitiba| 97.09806157354618|\n",
            "|GKK7588|Londrina| 96.81419503750722|\n",
            "|UFC2015|Londrina|  96.7821325648415|\n",
            "|RZW5936|Curitiba| 96.66666666666667|\n",
            "|CVV0439|Curitiba| 96.51106314085267|\n",
            "|GKK7588|Umuarama|  96.5003003003003|\n",
            "|CVV0439|Umuarama| 95.90459153249851|\n",
            "|RZW5936| Maringá|  95.7987668161435|\n",
            "|UFC2015|Umuarama| 94.72254004576659|\n",
            "|CVV0439|Londrina| 94.60168471720819|\n",
            "+-------+--------+------------------+\n",
            "only showing top 20 rows\n",
            "\n"
          ]
        }
      ],
      "source": [
        "df4 = df.groupBy(df._c01, df._c1).avg('_c3')\n",
        "df4.sort(\"avg(_c3)\", ascending=False).show()"
      ]
    },
    {
      "cell_type": "code",
      "execution_count": 51,
      "metadata": {
        "id": "_1iDVJ-b-m5X"
      },
      "outputs": [],
      "source": [
        "from pyspark.sql import SQLContext\n",
        "from pyspark.sql.types import StructType, StructField, IntegerType, StringType, FloatType, DateType\n",
        "from pyspark.sql import functions as F\n",
        "sqlc = SQLContext(sc)"
      ]
    },
    {
      "cell_type": "code",
      "execution_count": 52,
      "metadata": {
        "id": "FHImTFAUjZEN"
      },
      "outputs": [],
      "source": [
        "schema = StructType([\n",
        "    StructField(\"id\", IntegerType(), True ),\n",
        "    StructField(\"name\", StringType(), True),\n",
        "    StructField(\"coords\", StringType(), True),\n",
        "    StructField(\"start_year\", IntegerType(), True ),\n",
        "    StructField(\"url_name\", StringType(), True),\n",
        "    StructField(\"country\", StringType(), True),\n",
        "    StructField(\"country_state\", StringType(), True)])\n",
        "\n",
        "df = sqlc.read.csv(\"Dados/Etrabalho/cities.csv\",schema, header=True)\n",
        "df.createOrReplaceTempView(\"cities\")"
      ]
    },
    {
      "cell_type": "code",
      "execution_count": 53,
      "metadata": {
        "id": "R_fiXga2kMPC"
      },
      "outputs": [],
      "source": [
        "schema2 = StructType([\n",
        "    StructField(\"id\", IntegerType(), True ),\n",
        "    StructField(\"city_id\", IntegerType(), True),\n",
        "    StructField(\"name\", StringType(), True),\n",
        "    StructField(\"url_name\", StringType(), True ),\n",
        "    StructField(\"color\", StringType(), True),\n",
        "    StructField(\"system_id\", IntegerType(), True),\n",
        "    StructField(\"transport_mode_id\", IntegerType(), True)])\n",
        "\n",
        "df2 = sqlc.read.csv(\"Dados/Etrabalho/lines.csv\", schema2, header=True)\n",
        "df2.createOrReplaceTempView(\"lines\")"
      ]
    },
    {
      "cell_type": "code",
      "execution_count": 54,
      "metadata": {
        "id": "VJygKvRumYUI"
      },
      "outputs": [],
      "source": [
        "schema3 = StructType([\n",
        "    StructField(\"id\", IntegerType(), True ),\n",
        "    StructField(\"name\", StringType(), True),\n",
        "    StructField(\"geometry\", StringType(), True),\n",
        "    StructField(\"buildstart\", IntegerType(), True ),\n",
        "    StructField(\"opening\", IntegerType(), True),\n",
        "    StructField(\"closure\", IntegerType(), True),\n",
        "    StructField(\"city_id\", IntegerType(), True)])\n",
        "\n",
        "df3 = sqlc.read.csv(\"Dados/Etrabalho/stations.csv\", schema3, header=True)\n",
        "df3.createOrReplaceTempView(\"stations\")"
      ]
    },
    {
      "cell_type": "code",
      "execution_count": 55,
      "metadata": {
        "id": "zBv3guA3mxyI"
      },
      "outputs": [],
      "source": [
        "schema4 = StructType([\n",
        "    StructField(\"id\", IntegerType(), True ),\n",
        "    StructField(\"station_id\", IntegerType(), True),\n",
        "    StructField(\"line_id\", IntegerType(), True),\n",
        "    StructField(\"city_id\", IntegerType(), True ),\n",
        "    StructField(\"created_at\", DateType(), True),\n",
        "    StructField(\"updated_at\", DateType(), True)])\n",
        "\n",
        "df4 = sqlc.read.csv(\"Dados/Etrabalho/station_lines.csv\", schema4, header=True)\n",
        "df4.createOrReplaceTempView(\"station_lines\")"
      ]
    },
    {
      "cell_type": "code",
      "execution_count": 56,
      "metadata": {
        "colab": {
          "base_uri": "https://localhost:8080/"
        },
        "id": "Hn7VDj-_pveD",
        "outputId": "54cb48a7-d72e-419f-bd37-44bca024a715"
      },
      "outputs": [
        {
          "name": "stdout",
          "output_type": "stream",
          "text": [
            "+-------------+--------+\n",
            "|      country|contagem|\n",
            "+-------------+--------+\n",
            "|United States|     115|\n",
            "|       France|      71|\n",
            "|       Canada|      14|\n",
            "|        Spain|       8|\n",
            "|      England|       8|\n",
            "|    Argentina|       6|\n",
            "|        China|       6|\n",
            "|    Australia|       6|\n",
            "|      Germany|       5|\n",
            "|        Italy|       5|\n",
            "|       Mexico|       5|\n",
            "|        Chile|       4|\n",
            "|       Brazil|       4|\n",
            "|        Japan|       4|\n",
            "|       Russia|       4|\n",
            "| South Africa|       3|\n",
            "|        India|       3|\n",
            "|     Scotland|       3|\n",
            "|      Austria|       3|\n",
            "|       Norway|       2|\n",
            "+-------------+--------+\n",
            "only showing top 20 rows\n",
            "\n"
          ]
        }
      ],
      "source": [
        "# Qual país possui cidades?\n",
        "ss.sql('select country, count(name) as contagem from cities \\\n",
        "        group by country \\\n",
        "        order by count(name) desc').show()"
      ]
    },
    {
      "cell_type": "code",
      "execution_count": 57,
      "metadata": {
        "colab": {
          "base_uri": "https://localhost:8080/"
        },
        "id": "67B9CTFgrPaW",
        "outputId": "ecc2f6f3-a1ba-4abd-b87d-50d027753b4a"
      },
      "outputs": [
        {
          "name": "stdout",
          "output_type": "stream",
          "text": [
            "+---+--------------+--------+\n",
            "| id|          name|contagem|\n",
            "+---+--------------+--------+\n",
            "|114|         Tokyo|     253|\n",
            "| 91|         Osaka|     112|\n",
            "| 95|         Paris|      75|\n",
            "|206|      New York|      70|\n",
            "|106|     São Paulo|      40|\n",
            "| 69|        London|      35|\n",
            "|  4|      Santiago|      34|\n",
            "|124|    Valparaíso|      31|\n",
            "| 77|     Melbourne|      31|\n",
            "| 82|        Munich|      29|\n",
            "|  1|  Buenos Aires|      28|\n",
            "| 15|       Beijing|      27|\n",
            "|139|        Boston|      27|\n",
            "|265|        Nantes|      26|\n",
            "|107|      Shanghai|      24|\n",
            "|102|Rio de Janeiro|      23|\n",
            "| 78|   Mexico City|      22|\n",
            "| 27|      Brussels|      22|\n",
            "| 14|     Barcelona|      19|\n",
            "| 79|         Milan|      18|\n",
            "+---+--------------+--------+\n",
            "only showing top 20 rows\n",
            "\n"
          ]
        }
      ],
      "source": [
        "# Qual cidade possui linhas?\n",
        "ss.sql('select c.id, c.name, count(l.name) as contagem \\\n",
        "        from lines as l \\\n",
        "        left join cities as c on c.id = l.city_id \\\n",
        "        group by c.id, c.name \\\n",
        "        order by count(l.name) desc').show()"
      ]
    },
    {
      "cell_type": "code",
      "execution_count": 58,
      "metadata": {
        "colab": {
          "base_uri": "https://localhost:8080/"
        },
        "id": "F-ktmho9sLl9",
        "outputId": "462df5f6-bad6-4bff-a477-4ff7665f441c"
      },
      "outputs": [
        {
          "name": "stdout",
          "output_type": "stream",
          "text": [
            "+----+--------------------+------+\n",
            "|  id|                name|cidade|\n",
            "+----+--------------------+------+\n",
            "| 275|Linha 6 • Laranja...|     1|\n",
            "| 850|         Barrie Line|     1|\n",
            "|  40|            Línea 4A|     1|\n",
            "|1481|    Kobe Kosoku Line|     1|\n",
            "| 506|        T 11 express|     1|\n",
            "| 687|      Northern Lines|     1|\n",
            "| 641|        Hondori Line|     1|\n",
            "| 736|Disneyland Resort...|     1|\n",
            "|1104|            del Bajo|     1|\n",
            "|1262|        Jamaica Line|     1|\n",
            "+----+--------------------+------+\n",
            "only showing top 10 rows\n",
            "\n"
          ]
        }
      ],
      "source": [
        "# Quais são 10 linhas que passam por mais cidades?\n",
        "ss.sql('select l.id, l.name, count(c.id) as cidade \\\n",
        "        from lines as l \\\n",
        "        left join cities as c on c.id = l.city_id \\\n",
        "        group by l.id, l.name \\\n",
        "        order by count(c.id) asc').show(10)"
      ]
    },
    {
      "cell_type": "code",
      "execution_count": 59,
      "metadata": {
        "colab": {
          "base_uri": "https://localhost:8080/"
        },
        "id": "ExrL6UB1svAN",
        "outputId": "63fe88c4-9327-486e-fd60-f9847068b4b0"
      },
      "outputs": [
        {
          "name": "stdout",
          "output_type": "stream",
          "text": [
            "+-------------+------+\n",
            "|      country|linhas|\n",
            "+-------------+------+\n",
            "|        Japan|   365|\n",
            "|       France|   202|\n",
            "|United States|   142|\n",
            "|        Chile|    70|\n",
            "|       Brazil|    65|\n",
            "|        China|    62|\n",
            "|        Spain|    50|\n",
            "|    Australia|    45|\n",
            "|      Germany|    40|\n",
            "|      England|    40|\n",
            "|        Italy|    32|\n",
            "|    Argentina|    28|\n",
            "|       Canada|    27|\n",
            "|       Mexico|    22|\n",
            "|      Belgium|    22|\n",
            "|      Austria|    20|\n",
            "|     Scotland|    20|\n",
            "|     Colombia|    16|\n",
            "|       Sweden|    12|\n",
            "|      Bolivia|    11|\n",
            "+-------------+------+\n",
            "only showing top 20 rows\n",
            "\n"
          ]
        }
      ],
      "source": [
        "# Qual é o país que tem mais linhas?\n",
        "\n",
        "ss.sql('select c.country, count(l.name) as linhas \\\n",
        "        from lines as l \\\n",
        "        left join cities as c on c.id = l.city_id \\\n",
        "        group by c.country \\\n",
        "        order by count(l.name) desc').show()"
      ]
    },
    {
      "cell_type": "code",
      "execution_count": 60,
      "metadata": {
        "colab": {
          "base_uri": "https://localhost:8080/"
        },
        "id": "66OYK9p9uJDu",
        "outputId": "3e301027-d3e8-45e7-d919-5dd15801fd1a"
      },
      "outputs": [
        {
          "name": "stdout",
          "output_type": "stream",
          "text": [
            "+----+--------------------+--------+\n",
            "|  id|                name|contagem|\n",
            "+----+--------------------+--------+\n",
            "| 658|                Roca|      95|\n",
            "| 639|               Mitre|      90|\n",
            "| 612|                   A|      87|\n",
            "| 171|        Southeastern|      86|\n",
            "| 938|                  17|      78|\n",
            "| 316|             Ligne 1|      75|\n",
            "| 613|                   B|      74|\n",
            "| 367|                 T 1|      72|\n",
            "| 946|                  19|      70|\n",
            "| 940|                  16|      66|\n",
            "|1103|               Norte|      66|\n",
            "| 305|             Linie 1|      62|\n",
            "| 950|                   A|      62|\n",
            "| 139|District Line - U...|      62|\n",
            "|1198|                   1|      60|\n",
            "| 590|                   1|      60|\n",
            "| 967|                   A|      59|\n",
            "| 317|             Ligne 2|      59|\n",
            "|1253|                   4|      59|\n",
            "| 172|            Southern|      58|\n",
            "+----+--------------------+--------+\n",
            "only showing top 20 rows\n",
            "\n"
          ]
        }
      ],
      "source": [
        "# A linha que tem mais estações em seu percurso?\n",
        "\n",
        "ss.sql('select l.id, l.name, count(distinct sl.station_id) as contagem \\\n",
        "        from station_lines as sl \\\n",
        "        left join lines as l on l.id = sl.line_id \\\n",
        "        left join stations as s on s.id = sl.station_id \\\n",
        "        group by l.id, l.name \\\n",
        "        order by count(distinct sl.station_id) desc \\\n",
        "        ').show()"
      ]
    },
    {
      "cell_type": "code",
      "execution_count": 61,
      "metadata": {
        "colab": {
          "base_uri": "https://localhost:8080/"
        },
        "id": "eh_Pao3Vz1F9",
        "outputId": "7b3d5c8a-410f-4ca4-c829-24ec5cb598e2"
      },
      "outputs": [
        {
          "name": "stdout",
          "output_type": "stream",
          "text": [
            "+------------+-------------+\n",
            "|        name|max(contagem)|\n",
            "+------------+-------------+\n",
            "|Buenos Aires|           95|\n",
            "|    Bordeaux|           87|\n",
            "|      London|           86|\n",
            "|      Munich|           78|\n",
            "|      Nantes|           75|\n",
            "|       Paris|           72|\n",
            "|       Tours|           62|\n",
            "|        Graz|           62|\n",
            "| Montpellier|           60|\n",
            "|   Innsbruck|           60|\n",
            "+------------+-------------+\n",
            "only showing top 10 rows\n",
            "\n"
          ]
        }
      ],
      "source": [
        "# Quais são as 10 cidades que possuem as linhas com mais estações? v1\n",
        "ss.sql('select  c.name, max(t0.contagem)\\\n",
        "        from lines as l \\\n",
        "        left join cities as c on c.id = l.city_id \\\n",
        "        left join (\\\n",
        "            select sl.line_id, count(distinct sl.station_id) as contagem \\\n",
        "            from station_lines as sl \\\n",
        "            group by sl.line_id) t0 on t0.line_id = l.id \\\n",
        "        group by c.name \\\n",
        "        order by max(t0.contagem) desc \\\n",
        "        ').show(10)"
      ]
    },
    {
      "cell_type": "code",
      "execution_count": 62,
      "metadata": {
        "colab": {
          "base_uri": "https://localhost:8080/"
        },
        "id": "u8WyXYauwh3z",
        "outputId": "fb6136b6-fae8-478e-d588-17bf524ac4ff"
      },
      "outputs": [
        {
          "name": "stdout",
          "output_type": "stream",
          "text": [
            "+------------+------------+--------+\n",
            "|        name|        name|contagem|\n",
            "+------------+------------+--------+\n",
            "|Buenos Aires|        Roca|      95|\n",
            "|Buenos Aires|       Mitre|      90|\n",
            "|    Bordeaux|           A|      87|\n",
            "|      London|Southeastern|      86|\n",
            "|      Munich|          17|      78|\n",
            "|    New York|   Main Line|      78|\n",
            "|      Nantes|     Ligne 1|      75|\n",
            "|    Bordeaux|           B|      74|\n",
            "|       Paris|         T 1|      72|\n",
            "|      Munich|          19|      70|\n",
            "+------------+------------+--------+\n",
            "only showing top 10 rows\n",
            "\n"
          ]
        }
      ],
      "source": [
        "# Quais são as 10 cidades que possuem as linhas com mais estações? v2\n",
        "\n",
        "ss.sql('select c.name, l.name, count(distinct station_id) as contagem \\\n",
        "        from station_lines as sl \\\n",
        "        left join lines as l on l.id = sl.line_id \\\n",
        "        left join stations as s on s.id = sl.station_id \\\n",
        "        left join cities as c on c.id = sl.city_id \\\n",
        "        left join (\\\n",
        "            select sl.line_id, count(distinct sl.station_id) as contagem \\\n",
        "            from station_lines as sl \\\n",
        "            group by sl.line_id) t0 on t0.line_id = sl.line_id \\\n",
        "        group by c.name, l.name \\\n",
        "        order by count(distinct station_id) desc \\\n",
        "        ').show(10)"
      ]
    },
    {
      "cell_type": "code",
      "execution_count": 63,
      "metadata": {
        "colab": {
          "base_uri": "https://localhost:8080/"
        },
        "id": "Ln7xfBnbx2yl",
        "outputId": "384d15c7-b7b5-4970-a585-5277fb1e3242"
      },
      "outputs": [
        {
          "name": "stdout",
          "output_type": "stream",
          "text": [
            "+---------+------------+\n",
            "|  country|        name|\n",
            "+---------+------------+\n",
            "|Argentina|Buenos Aires|\n",
            "|  Austria|        Graz|\n",
            "|  Austria|   Innsbruck|\n",
            "|  England|      London|\n",
            "|   France|    Bordeaux|\n",
            "|   France|      Nantes|\n",
            "|   France|       Paris|\n",
            "|   France|       Tours|\n",
            "|   France| Montpellier|\n",
            "|  Germany|      Munich|\n",
            "+---------+------------+\n",
            "\n"
          ]
        }
      ],
      "source": [
        "#Qual país são os mais presentes entre essas 10 cidades?\n",
        "\n",
        "ss.sql('select country, name from \\\n",
        "                (select c.country ,c.name, max(t0.contagem) \\\n",
        "                from lines as l \\\n",
        "                left join cities as c on c.id = l.city_id \\\n",
        "                left join (\\\n",
        "                    select sl.line_id, count(distinct sl.station_id) as contagem \\\n",
        "                    from station_lines as sl \\\n",
        "                    group by sl.line_id) t0 on t0.line_id = l.id \\\n",
        "                group by c.country, c.name \\\n",
        "                order by max(t0.contagem) desc \\\n",
        "                limit 10) \\\n",
        "        order by country asc \\\n",
        "        ').show()"
      ]
    },
    {
      "cell_type": "code",
      "execution_count": 64,
      "metadata": {
        "colab": {
          "base_uri": "https://localhost:8080/"
        },
        "id": "mvjLJoRF9g3B",
        "outputId": "5e96ca6e-055b-4135-ef38-822dbf301f09"
      },
      "outputs": [
        {
          "name": "stdout",
          "output_type": "stream",
          "text": [
            "+--------------+------+\n",
            "|       country| media|\n",
            "+--------------+------+\n",
            "|         Japan|4613.0|\n",
            "|        France|2763.0|\n",
            "| United States|2001.0|\n",
            "|       England| 943.0|\n",
            "|         China| 705.0|\n",
            "|     Argentina| 685.0|\n",
            "|          null| 618.0|\n",
            "|        Mexico| 456.0|\n",
            "|         Italy| 422.0|\n",
            "|       Germany| 385.0|\n",
            "|         Spain| 385.0|\n",
            "|        Brazil| 381.0|\n",
            "|         Chile| 306.0|\n",
            "|       Austria| 306.0|\n",
            "|        Canada| 218.0|\n",
            "|      Scotland| 157.0|\n",
            "|     Australia| 113.0|\n",
            "|       Hungary|  62.0|\n",
            "|      Portugal|  56.0|\n",
            "|Czech Republic|  46.0|\n",
            "+--------------+------+\n",
            "only showing top 20 rows\n",
            "\n"
          ]
        }
      ],
      "source": [
        "# O país que tem a maior média de estações?\n",
        "ss.sql('select country, avg(contagem) as media from \\\n",
        "                (select c.country, count(s.id) as contagem \\\n",
        "                from stations as s \\\n",
        "                left join cities as c on c.id = s.city_id \\\n",
        "                group by c.country) \\\n",
        "        group by country \\\n",
        "        order by avg(contagem) desc \\\n",
        "        ').show()"
      ]
    },
    {
      "cell_type": "code",
      "execution_count": 65,
      "metadata": {
        "colab": {
          "base_uri": "https://localhost:8080/"
        },
        "id": "WcCREdQukdXM",
        "outputId": "ca7381ef-0c00-4fe9-fdb6-3834f4009008"
      },
      "outputs": [
        {
          "name": "stdout",
          "output_type": "stream",
          "text": [
            "+---+----------+--------------------+----------+----------+----------------+-------------+\n",
            "| id|      name|              coords|start_year|  url_name|         country|country_state|\n",
            "+---+----------+--------------------+----------+----------+----------------+-------------+\n",
            "|  5|  Aberdeen|  POINT(-2.15 57.15)|      2017|  aberdeen|        Scotland|         null|\n",
            "|  6|  Adelaide|POINT(138.6 -34.9...|      2017|  adelaide|       Australia|         null|\n",
            "|  7|   Algiers|POINT(3 36.83333333)|      2017|   algiers|         Algeria|         null|\n",
            "|  9|    Ankara|POINT(32.91666667...|      2017|    ankara|          Turkey|         null|\n",
            "| 16|     Belém|POINT(-48.4833333...|      2017|     belem|          Brazil|         null|\n",
            "| 10|  Asunción|POINT(-57.6666666...|      2017|  asuncion|        Paraguay|         null|\n",
            "| 11|    Athens|POINT(23.71666667...|      2017|    athens|          Greece|         null|\n",
            "| 12|  Auckland|POINT(174.75 -36....|      2017|  auckland|     New Zealand|         null|\n",
            "| 13|   Bangkok|  POINT(100.5 13.75)|      2017|   bangkok|        Thailand|         null|\n",
            "|211|    Ottawa|POINT(-75.7166666...|      2000|    ottawa|          Canada|         Ont.|\n",
            "| 17|   Belfast|POINT(-5.93333333...|      2017|   belfast|Northern Ireland|         null|\n",
            "| 18|  Belgrade|POINT(20.53333333...|      2017|  belgrade|          Serbia|         null|\n",
            "|273|St.-Brieuc|POINT(-2.78330326...|      2018|st.-brieuc|          France|         null|\n",
            "|274|   Poitier|POINT(0.333276529...|      2018|   poitier|          France|         null|\n",
            "|147|   Chicago|POINT(-87.6166666...|      1892|   chicago|   United States|         Ill.|\n",
            "|269|    Annecy|POINT(6.116670287...|      2018|    annecy|          France|         null|\n",
            "|270|    Roanne|POINT(4.066666218...|      2018|    roanne|          France|         null|\n",
            "|271|     Roura|POINT(-52.3300205...|      2018|     roura|          France|         null|\n",
            "|272| Sinnamary|POINT(-52.9599821...|      2018| sinnamary|          France|         null|\n",
            "|276|  Biarritz|POINT(-1.56159489...|      2018|  biarritz|          France|         null|\n",
            "+---+----------+--------------------+----------+----------+----------------+-------------+\n",
            "only showing top 20 rows\n",
            "\n"
          ]
        }
      ],
      "source": [
        "ss.sql('select * from cities').show()"
      ]
    },
    {
      "cell_type": "code",
      "execution_count": 66,
      "metadata": {
        "colab": {
          "base_uri": "https://localhost:8080/"
        },
        "id": "9loWRgerjczL",
        "outputId": "0041e071-7ff5-4229-9d87-ea7945e65762"
      },
      "outputs": [
        {
          "name": "stdout",
          "output_type": "stream",
          "text": [
            "+----+-------+--------------------+--------------------+-------+---------+-----------------+\n",
            "|  id|city_id|                name|            url_name|  color|system_id|transport_mode_id|\n",
            "+----+-------+--------------------+--------------------+-------+---------+-----------------+\n",
            "|  43|      4|             Línea 2|          43-linea-2|#ffbe2e|      267|                4|\n",
            "|  75|     34|Línea 3 Metro de ...|75-linea-3-metro-...|   #000|      119|             null|\n",
            "| 107|    126|             Línea 1|         107-linea-1|#434343|      249|             null|\n",
            "| 604|     74|          La navette|      604-la-navette|#009ab9|      346|             null|\n",
            "|  61|     66|  Línea 1 (Tramo 1A)|          61-linea-1|#49aa43|      250|             null|\n",
            "|1471|     91|  Tokaido Shinkansen|1471-tokaido-shin...|#0000ff|      551|                1|\n",
            "|   5|      1|                   A|                   a|#00b3da|      254|                4|\n",
            "| 168|    261|             Línea 1|         168-linea-1|#f58223|      256|             null|\n",
            "| 219|    110|                  14|        219-red-line|#d0021b|      257|                4|\n",
            "|  45|      4|             Línea 4|          45-linea-4|#292d91|      267|                4|\n",
            "|  40|      4|            Línea 4A|         40-linea-4a|#0099ff|      267|                4|\n",
            "|  46|      4|             Línea 5|          46-linea-5|#006633|      267|                4|\n",
            "|  60|      4|             Línea 6|          60-linea-6|#8e16a1|      267|                4|\n",
            "|  70|      4|       MetroTren Nos|      70-nos-express|#000000|      268|                3|\n",
            "| 223|    110|                  12|    223-nockebybanan|#385369|      476|                5|\n",
            "| 227|     79|                  M1|              227-m1|#ee2e24|       67|                4|\n",
            "| 217|      4|Ramal San Felipe ...|217-ramal-san-fel...|   #000|      276|                2|\n",
            "| 225|     79|                  M5|              225-m5|#b17aea|       67|                4|\n",
            "| 141|     21|    Troncal C - Suba|             141-g30|#f3d135|      253|             null|\n",
            "| 610|    118|                 22A|             610-22a|#4a90e2|      347|             null|\n",
            "+----+-------+--------------------+--------------------+-------+---------+-----------------+\n",
            "only showing top 20 rows\n",
            "\n"
          ]
        }
      ],
      "source": [
        "ss.sql('select * from lines').show()"
      ]
    },
    {
      "cell_type": "code",
      "execution_count": null,
      "metadata": {
        "colab": {
          "base_uri": "https://localhost:8080/"
        },
        "id": "CQ61Ub2yj5fR",
        "outputId": "93d87b20-1162-4806-c71d-b8502ea25a03"
      },
      "outputs": [
        {
          "name": "stdout",
          "output_type": "stream",
          "text": [
            "+----+--------------------+--------------------+----------+-------+-------+-------+\n",
            "|  id|                name|            geometry|buildstart|opening|closure|city_id|\n",
            "+----+--------------------+--------------------+----------+-------+-------+-------+\n",
            "|7694|    Keisei Tsudanuma|POINT(140.0248121...|      1921|   1921| 999999|    114|\n",
            "|6003|   Kossuth Lajos tér|POINT(19.04623765...|         0|      0| 999999|     29|\n",
            "|7732|       Saint-Charles|POINT(5.3801556 4...|      1973|   1977| 999999|     74|\n",
            "|7695|Keisei Makuhari-H...|POINT(140.0421467...|      1991|   1991| 999999|    114|\n",
            "|7726|           Chartreux|POINT(5.4014815 4...|      1973|   1977| 999999|     74|\n",
            "|7696|     Keisei Makuhari|POINT(140.0560770...|      1921|   1921| 999999|    114|\n",
            "|7719|            Malpassé|POINT(5.4165033 4...|      1973|   1977| 999999|     74|\n",
            "|7697|            Kemigawa|POINT(140.0663045...|      1921|   1921| 999999|    114|\n",
            "|   1|             Caseros|POINT(-58.3989075...|      2001|   2007|   null|      1|\n",
            "|7698|        Keisei Inage|POINT(140.0856074...|      1921|   1921| 999999|    114|\n",
            "|7699|           Midoridai|POINT(140.0975419...|      1923|   1923| 999999|    114|\n",
            "|7700|        Nishi-Nobuto|POINT(140.1027535...|      1922|   1922| 999999|    114|\n",
            "|7721|          Saint-Just|POINT(5.4064408 4...|      1973|   1977| 999999|     74|\n",
            "|7701|          Shin-Chiba|POINT(140.1084233...|      1923|   1923| 999999|    114|\n",
            "|7702|        Keisei Chiba|POINT(140.1141635...|      1967|   1967| 999999|    114|\n",
            "|7703|          Chiba-Chuo|POINT(140.1179092...|      1921|   1921| 999999|    114|\n",
            "|7722|           Chartreux|POINT(5.4014558 4...|      1973|   1977| 999999|     74|\n",
            "|7704|           Chigasaki|POINT(139.4073352...|      1921|   1921| 999999|    114|\n",
            "|7705|            Samukawa|POINT(139.3873697...|      1921|   1921| 999999|    114|\n",
            "|7748|        Louis Armand|POINT(5.4135481 4...|      null|   2010| 999999|     74|\n",
            "+----+--------------------+--------------------+----------+-------+-------+-------+\n",
            "only showing top 20 rows\n",
            "\n"
          ]
        }
      ],
      "source": [
        "ss.sql('select * from stations').show()"
      ]
    },
    {
      "cell_type": "code",
      "execution_count": null,
      "metadata": {
        "colab": {
          "base_uri": "https://localhost:8080/"
        },
        "id": "nKp0EB6EoXaW",
        "outputId": "abf698a7-1204-4a0a-b220-b50e9ed86379"
      },
      "outputs": [
        {
          "name": "stdout",
          "output_type": "stream",
          "text": [
            "+---+----------+-------+-------+----------+----------+\n",
            "| id|station_id|line_id|city_id|created_at|updated_at|\n",
            "+---+----------+-------+-------+----------+----------+\n",
            "| 47|      7754|    570|     74|2017-11-21|2017-11-21|\n",
            "| 48|      7771|    571|     74|2017-11-21|2017-11-21|\n",
            "| 49|      7764|    571|     74|2017-11-21|2017-11-21|\n",
            "| 50|      7763|    571|     74|2017-11-21|2017-11-21|\n",
            "| 51|      7729|    571|     74|2017-11-21|2017-11-21|\n",
            "| 52|      7772|    571|     74|2017-11-21|2017-11-21|\n",
            "| 53|      8523|    582|     70|2017-11-21|2017-11-21|\n",
            "| 54|      8525|    582|     70|2017-11-21|2017-11-21|\n",
            "| 55|        93|     10|      1|2017-11-21|2017-11-21|\n",
            "| 56|      6005|    442|    114|2017-11-21|2017-11-21|\n",
            "| 57|      6102|    495|    114|2017-11-21|2017-11-21|\n",
            "| 58|      6006|    439|    114|2017-11-21|2017-11-21|\n",
            "| 59|      6007|    442|    114|2017-11-21|2017-11-21|\n",
            "| 61|      6008|    442|    114|2017-11-21|2017-11-21|\n",
            "| 62|      6009|    439|    114|2017-11-21|2017-11-21|\n",
            "| 63|      6010|    442|    114|2017-11-21|2017-11-21|\n",
            "| 65|      6011|    442|    114|2017-11-21|2017-11-21|\n",
            "| 66|      6012|    439|    114|2017-11-21|2017-11-21|\n",
            "| 67|      6080|    537|    114|2017-11-21|2017-11-21|\n",
            "| 68|      6013|    442|    114|2017-11-21|2017-11-21|\n",
            "+---+----------+-------+-------+----------+----------+\n",
            "only showing top 20 rows\n",
            "\n"
          ]
        }
      ],
      "source": [
        "ss.sql('select * from station_lines').show()"
      ]
    }
  ],
  "metadata": {
    "colab": {
      "collapsed_sections": [],
      "name": "Trabalho AulaSpark-DS-Leandro-Rodrigo.ipynb",
      "provenance": []
    },
    "kernelspec": {
      "display_name": "Python 3",
      "name": "python3"
    },
    "language_info": {
      "codemirror_mode": {
        "name": "ipython",
        "version": 3
      },
      "file_extension": ".py",
      "mimetype": "text/x-python",
      "name": "python",
      "nbconvert_exporter": "python",
      "pygments_lexer": "ipython3",
      "version": "3.8.10"
    }
  },
  "nbformat": 4,
  "nbformat_minor": 0
}
